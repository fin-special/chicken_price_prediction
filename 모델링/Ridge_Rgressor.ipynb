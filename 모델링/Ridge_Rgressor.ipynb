{
 "cells": [
  {
   "cell_type": "code",
   "execution_count": 36,
   "metadata": {},
   "outputs": [],
   "source": [
    "from sklearn.linear_model import Ridge\n",
    "from sklearn.model_selection import train_test_split\n",
    "from sklearn.model_selection import cross_val_score\n",
    "import pandas as pd\n",
    "import numpy as np\n",
    "import matplotlib.pyplot as plt\n",
    "from sklearn.metrics import mean_squared_error\n",
    "from matplotlib import font_manager, rc\n",
    "\n",
    "font_name = font_manager.FontProperties(fname=\"c:/Windows/Fonts/malgun.ttf\").get_name()\n",
    "rc('font', family=font_name)"
   ]
  },
  {
   "cell_type": "markdown",
   "metadata": {},
   "source": [
    "# 월별"
   ]
  },
  {
   "cell_type": "code",
   "execution_count": 3,
   "metadata": {},
   "outputs": [
    {
     "data": {
      "text/html": [
       "<div>\n",
       "<style scoped>\n",
       "    .dataframe tbody tr th:only-of-type {\n",
       "        vertical-align: middle;\n",
       "    }\n",
       "\n",
       "    .dataframe tbody tr th {\n",
       "        vertical-align: top;\n",
       "    }\n",
       "\n",
       "    .dataframe thead th {\n",
       "        text-align: right;\n",
       "    }\n",
       "</style>\n",
       "<table border=\"1\" class=\"dataframe\">\n",
       "  <thead>\n",
       "    <tr style=\"text-align: right;\">\n",
       "      <th></th>\n",
       "      <th>닭고기가격</th>\n",
       "      <th>병아리(원/수)</th>\n",
       "      <th>hot_day</th>\n",
       "      <th>import amount</th>\n",
       "      <th>feedprice</th>\n",
       "      <th>oil_avg</th>\n",
       "      <th>도축</th>\n",
       "      <th>소_소비자가_int</th>\n",
       "      <th>돼지_소비자가_int</th>\n",
       "      <th>미국기준금리</th>\n",
       "      <th>한국기준금리</th>\n",
       "    </tr>\n",
       "  </thead>\n",
       "  <tbody>\n",
       "    <tr>\n",
       "      <th>0</th>\n",
       "      <td>3202</td>\n",
       "      <td>250</td>\n",
       "      <td>0</td>\n",
       "      <td>8754</td>\n",
       "      <td>533.6</td>\n",
       "      <td>107.066111</td>\n",
       "      <td>58873</td>\n",
       "      <td>59981</td>\n",
       "      <td>18465</td>\n",
       "      <td>0.25</td>\n",
       "      <td>3.25</td>\n",
       "    </tr>\n",
       "    <tr>\n",
       "      <th>2</th>\n",
       "      <td>3668</td>\n",
       "      <td>420</td>\n",
       "      <td>0</td>\n",
       "      <td>10098</td>\n",
       "      <td>529.9</td>\n",
       "      <td>112.537302</td>\n",
       "      <td>55879</td>\n",
       "      <td>56019</td>\n",
       "      <td>16634</td>\n",
       "      <td>0.75</td>\n",
       "      <td>3.25</td>\n",
       "    </tr>\n",
       "    <tr>\n",
       "      <th>3</th>\n",
       "      <td>4169</td>\n",
       "      <td>500</td>\n",
       "      <td>0</td>\n",
       "      <td>10836</td>\n",
       "      <td>527.9</td>\n",
       "      <td>117.745606</td>\n",
       "      <td>58750</td>\n",
       "      <td>50899</td>\n",
       "      <td>16317</td>\n",
       "      <td>0.25</td>\n",
       "      <td>3.25</td>\n",
       "    </tr>\n",
       "    <tr>\n",
       "      <th>4</th>\n",
       "      <td>3399</td>\n",
       "      <td>332</td>\n",
       "      <td>0</td>\n",
       "      <td>13412</td>\n",
       "      <td>526.3</td>\n",
       "      <td>113.723667</td>\n",
       "      <td>60940</td>\n",
       "      <td>53879</td>\n",
       "      <td>15882</td>\n",
       "      <td>0.25</td>\n",
       "      <td>3.25</td>\n",
       "    </tr>\n",
       "    <tr>\n",
       "      <th>5</th>\n",
       "      <td>3255</td>\n",
       "      <td>200</td>\n",
       "      <td>0</td>\n",
       "      <td>14519</td>\n",
       "      <td>526.2</td>\n",
       "      <td>104.184710</td>\n",
       "      <td>73505</td>\n",
       "      <td>55403</td>\n",
       "      <td>16798</td>\n",
       "      <td>0.25</td>\n",
       "      <td>3.25</td>\n",
       "    </tr>\n",
       "    <tr>\n",
       "      <th>...</th>\n",
       "      <td>...</td>\n",
       "      <td>...</td>\n",
       "      <td>...</td>\n",
       "      <td>...</td>\n",
       "      <td>...</td>\n",
       "      <td>...</td>\n",
       "      <td>...</td>\n",
       "      <td>...</td>\n",
       "      <td>...</td>\n",
       "      <td>...</td>\n",
       "      <td>...</td>\n",
       "    </tr>\n",
       "    <tr>\n",
       "      <th>117</th>\n",
       "      <td>3505</td>\n",
       "      <td>312</td>\n",
       "      <td>3</td>\n",
       "      <td>9360</td>\n",
       "      <td>492.0</td>\n",
       "      <td>69.247955</td>\n",
       "      <td>89892</td>\n",
       "      <td>99247</td>\n",
       "      <td>26078</td>\n",
       "      <td>0.25</td>\n",
       "      <td>0.75</td>\n",
       "    </tr>\n",
       "    <tr>\n",
       "      <th>118</th>\n",
       "      <td>3074</td>\n",
       "      <td>408</td>\n",
       "      <td>0</td>\n",
       "      <td>9009</td>\n",
       "      <td>503.0</td>\n",
       "      <td>72.975152</td>\n",
       "      <td>81026</td>\n",
       "      <td>103039</td>\n",
       "      <td>26346</td>\n",
       "      <td>0.25</td>\n",
       "      <td>0.75</td>\n",
       "    </tr>\n",
       "    <tr>\n",
       "      <th>119</th>\n",
       "      <td>3913</td>\n",
       "      <td>447</td>\n",
       "      <td>0</td>\n",
       "      <td>12005</td>\n",
       "      <td>508.0</td>\n",
       "      <td>82.193333</td>\n",
       "      <td>81228</td>\n",
       "      <td>110791</td>\n",
       "      <td>25977</td>\n",
       "      <td>0.25</td>\n",
       "      <td>0.75</td>\n",
       "    </tr>\n",
       "    <tr>\n",
       "      <th>120</th>\n",
       "      <td>2985</td>\n",
       "      <td>315</td>\n",
       "      <td>0</td>\n",
       "      <td>10025</td>\n",
       "      <td>520.0</td>\n",
       "      <td>79.858712</td>\n",
       "      <td>86819</td>\n",
       "      <td>107207</td>\n",
       "      <td>25217</td>\n",
       "      <td>0.25</td>\n",
       "      <td>1.00</td>\n",
       "    </tr>\n",
       "    <tr>\n",
       "      <th>121</th>\n",
       "      <td>3320</td>\n",
       "      <td>273</td>\n",
       "      <td>0</td>\n",
       "      <td>11293</td>\n",
       "      <td>511.0</td>\n",
       "      <td>73.308986</td>\n",
       "      <td>90151</td>\n",
       "      <td>108714</td>\n",
       "      <td>27036</td>\n",
       "      <td>0.25</td>\n",
       "      <td>1.00</td>\n",
       "    </tr>\n",
       "  </tbody>\n",
       "</table>\n",
       "<p>120 rows × 11 columns</p>\n",
       "</div>"
      ],
      "text/plain": [
       "     닭고기가격  병아리(원/수)  hot_day  import amount  feedprice     oil_avg     도축  \\\n",
       "0     3202       250        0           8754      533.6  107.066111  58873   \n",
       "2     3668       420        0          10098      529.9  112.537302  55879   \n",
       "3     4169       500        0          10836      527.9  117.745606  58750   \n",
       "4     3399       332        0          13412      526.3  113.723667  60940   \n",
       "5     3255       200        0          14519      526.2  104.184710  73505   \n",
       "..     ...       ...      ...            ...        ...         ...    ...   \n",
       "117   3505       312        3           9360      492.0   69.247955  89892   \n",
       "118   3074       408        0           9009      503.0   72.975152  81026   \n",
       "119   3913       447        0          12005      508.0   82.193333  81228   \n",
       "120   2985       315        0          10025      520.0   79.858712  86819   \n",
       "121   3320       273        0          11293      511.0   73.308986  90151   \n",
       "\n",
       "     소_소비자가_int  돼지_소비자가_int  미국기준금리  한국기준금리  \n",
       "0         59981        18465    0.25    3.25  \n",
       "2         56019        16634    0.75    3.25  \n",
       "3         50899        16317    0.25    3.25  \n",
       "4         53879        15882    0.25    3.25  \n",
       "5         55403        16798    0.25    3.25  \n",
       "..          ...          ...     ...     ...  \n",
       "117       99247        26078    0.25    0.75  \n",
       "118      103039        26346    0.25    0.75  \n",
       "119      110791        25977    0.25    0.75  \n",
       "120      107207        25217    0.25    1.00  \n",
       "121      108714        27036    0.25    1.00  \n",
       "\n",
       "[120 rows x 11 columns]"
      ]
     },
     "execution_count": 3,
     "metadata": {},
     "output_type": "execute_result"
    }
   ],
   "source": [
    "month_data = pd.read_csv('../pre_data/월별_통합_모델링용.csv', index_col=0)\n",
    "month_data = month_data.drop(columns='date')\n",
    "month_data"
   ]
  },
  {
   "cell_type": "code",
   "execution_count": 4,
   "metadata": {},
   "outputs": [],
   "source": [
    "# x: 닭고기가격을 제외한 모두\n",
    "# y: 닭고기 가격\n",
    "\n",
    "data_input = month_data.copy()\n",
    "data_output = data_input.pop('닭고기가격')"
   ]
  },
  {
   "cell_type": "code",
   "execution_count": 5,
   "metadata": {},
   "outputs": [],
   "source": [
    "train_input, test_input, train_target, test_target = train_test_split(data_input,data_output, test_size=0.2)"
   ]
  },
  {
   "cell_type": "code",
   "execution_count": 6,
   "metadata": {},
   "outputs": [
    {
     "name": "stdout",
     "output_type": "stream",
     "text": [
      "(96, 10) (96,)\n",
      "(24, 10) (24,)\n"
     ]
    }
   ],
   "source": [
    "print(train_input.shape, train_target.shape)\n",
    "print(test_input.shape, test_target.shape)"
   ]
  },
  {
   "cell_type": "code",
   "execution_count": 7,
   "metadata": {},
   "outputs": [
    {
     "name": "stdout",
     "output_type": "stream",
     "text": [
      "alpha : 0.01\n",
      "ridge train score : 0.5826052624565632\n",
      "ridge test score : 0.6422385390209688\n",
      "\n",
      "\n",
      "alpha : 0.1\n",
      "ridge train score : 0.5825921953472861\n",
      "ridge test score : 0.6418779070551772\n",
      "\n",
      "\n",
      "alpha : 1\n",
      "ridge train score : 0.5819599627945523\n",
      "ridge test score : 0.6387472520051757\n",
      "\n",
      "\n",
      "alpha : 10\n",
      "ridge train score : 0.5783339871130532\n",
      "ridge test score : 0.6319977370268353\n",
      "\n",
      "\n",
      "alpha : 100\n",
      "ridge train score : 0.5733412132655091\n",
      "ridge test score : 0.651038136920415\n",
      "\n",
      "\n"
     ]
    }
   ],
   "source": [
    "alpha_value = [0.01, 0.1, 1, 10, 100]\n",
    "\n",
    "for alpha in alpha_value:\n",
    "    ridge = Ridge(alpha=alpha)\n",
    "    ridge.fit(train_input, train_target)\n",
    "\n",
    "    scores = cross_val_score(ridge, train_input, train_target, cv=5)\n",
    "\n",
    "    print(f\"alpha : {alpha}\")\n",
    "    print(f\"ridge train score : {ridge.score(train_input, train_target)}\")\n",
    "    print(f\"ridge test score : {ridge.score(test_input, test_target)}\")\n",
    "    print('\\n')"
   ]
  },
  {
   "cell_type": "code",
   "execution_count": 8,
   "metadata": {},
   "outputs": [
    {
     "data": {
      "text/plain": [
       "array([3828.96791408, 3617.08121085, 3665.46912357, 3331.52865838,\n",
       "       3210.69382245, 2799.06516569, 3265.23269671, 3528.53937008,\n",
       "       2981.58845725, 3163.22424275, 2702.6767639 , 3742.83139764,\n",
       "       3617.93443542, 3165.77300713, 3449.08339365, 2610.20322397,\n",
       "       2868.63960944, 2795.7473461 , 3168.50673245, 3964.22176689,\n",
       "       3354.70044161, 3321.74296868, 3213.73827803, 2976.08086456])"
      ]
     },
     "execution_count": 8,
     "metadata": {},
     "output_type": "execute_result"
    }
   ],
   "source": [
    "ridge.predict(test_input)"
   ]
  },
  {
   "cell_type": "code",
   "execution_count": 9,
   "metadata": {},
   "outputs": [
    {
     "name": "stdout",
     "output_type": "stream",
     "text": [
      "MSLE: 179202.434\n"
     ]
    }
   ],
   "source": [
    "from sklearn.preprocessing import RobustScaler\n",
    "from sklearn.pipeline import make_pipeline\n",
    "from sklearn.model_selection import cross_validate\n",
    "\n",
    "ridge_reg = Ridge()\n",
    "pipe = make_pipeline(RobustScaler(), ridge_reg)\n",
    "scores = cross_validate(ridge_reg, data_input, data_output, cv = 5, scoring='neg_mean_squared_error',return_train_score=True)\n",
    "print(\"MSLE: {0:.3f}\".format(np.mean(-scores['test_score'])))"
   ]
  },
  {
   "cell_type": "code",
   "execution_count": 10,
   "metadata": {},
   "outputs": [
    {
     "name": "stdout",
     "output_type": "stream",
     "text": [
      "{'fit_time': array([0.00198507, 0.00303698, 0.00200152, 0.00448489, 0.00099754]), 'score_time': array([0.00285745, 0.00099468, 0.00199986, 0.00228214, 0.00100183]), 'test_score': array([ -65319.16606824, -137809.88955025, -141799.83987633,\n",
      "        -93758.07956036, -457325.19587644]), 'train_score': array([-81952.39408137, -69650.79233158, -62330.65059222, -76119.21910547,\n",
      "       -72490.99784189])}\n"
     ]
    }
   ],
   "source": [
    "print(format(scores))"
   ]
  },
  {
   "cell_type": "code",
   "execution_count": 11,
   "metadata": {},
   "outputs": [
    {
     "name": "stdout",
     "output_type": "stream",
     "text": [
      "MSLE: 125094.774\n",
      "optimal hyperparameter:  {'ridge__alpha': 10}\n"
     ]
    }
   ],
   "source": [
    "from sklearn.pipeline import Pipeline\n",
    "from sklearn.model_selection import GridSearchCV\n",
    "\n",
    "#릿지 하이퍼 파라미터 튜닝\n",
    "pipeline = Pipeline([('scaler', RobustScaler()), ('ridge',Ridge())])\n",
    "params={'ridge__alpha':[0.01, 0.1, 1, 10, 100]}\n",
    "grid_model = GridSearchCV(pipeline, param_grid=params, scoring='neg_mean_squared_error', cv=5)\n",
    "grid_model.fit(data_input, data_output)\n",
    "print(\"MSLE: {0:.3f}\".format( -1*grid_model.best_score_)) \n",
    "print('optimal hyperparameter: ', grid_model.best_params_)"
   ]
  },
  {
   "cell_type": "code",
   "execution_count": 12,
   "metadata": {},
   "outputs": [
    {
     "name": "stdout",
     "output_type": "stream",
     "text": [
      "MSLE: 118738.462\n",
      "optimal hyperparameter:  {'ridge__alpha': 1}\n"
     ]
    }
   ],
   "source": [
    "from sklearn.preprocessing import MinMaxScaler\n",
    "\n",
    "#릿지에 대해 하이퍼 파라미터 튜닝\n",
    "pipeline = Pipeline([('scaler', MinMaxScaler()), ('ridge',Ridge())])\n",
    "params={'ridge__alpha':[0.01, 0.1, 1, 10, 100]}\n",
    "grid_model = GridSearchCV(pipeline, param_grid=params, scoring='neg_mean_squared_error', cv=5)\n",
    "grid_model.fit(data_input, data_output)\n",
    "print(\"MSLE: {0:.3f}\".format( -1*grid_model.best_score_)) \n",
    "print('optimal hyperparameter: ', grid_model.best_params_)"
   ]
  },
  {
   "cell_type": "markdown",
   "metadata": {},
   "source": [
    "# 일별"
   ]
  },
  {
   "cell_type": "code",
   "execution_count": 29,
   "metadata": {},
   "outputs": [
    {
     "data": {
      "text/html": [
       "<div>\n",
       "<style scoped>\n",
       "    .dataframe tbody tr th:only-of-type {\n",
       "        vertical-align: middle;\n",
       "    }\n",
       "\n",
       "    .dataframe tbody tr th {\n",
       "        vertical-align: top;\n",
       "    }\n",
       "\n",
       "    .dataframe thead th {\n",
       "        text-align: right;\n",
       "    }\n",
       "</style>\n",
       "<table border=\"1\" class=\"dataframe\">\n",
       "  <thead>\n",
       "    <tr style=\"text-align: right;\">\n",
       "      <th></th>\n",
       "      <th>price</th>\n",
       "      <th>병아리(원/수)</th>\n",
       "      <th>oil_avg</th>\n",
       "      <th>소_소비자가_int</th>\n",
       "      <th>돼지_소비자가_int</th>\n",
       "      <th>미국기준금리</th>\n",
       "    </tr>\n",
       "  </thead>\n",
       "  <tbody>\n",
       "    <tr>\n",
       "      <th>0</th>\n",
       "      <td>4047</td>\n",
       "      <td>400</td>\n",
       "      <td>76.703333</td>\n",
       "      <td>111396</td>\n",
       "      <td>25177</td>\n",
       "      <td>0.25</td>\n",
       "    </tr>\n",
       "    <tr>\n",
       "      <th>1</th>\n",
       "      <td>4047</td>\n",
       "      <td>400</td>\n",
       "      <td>77.850000</td>\n",
       "      <td>111396</td>\n",
       "      <td>25411</td>\n",
       "      <td>0.25</td>\n",
       "    </tr>\n",
       "    <tr>\n",
       "      <th>2</th>\n",
       "      <td>3895</td>\n",
       "      <td>400</td>\n",
       "      <td>77.566667</td>\n",
       "      <td>112019</td>\n",
       "      <td>26891</td>\n",
       "      <td>0.25</td>\n",
       "    </tr>\n",
       "    <tr>\n",
       "      <th>3</th>\n",
       "      <td>3895</td>\n",
       "      <td>400</td>\n",
       "      <td>77.130000</td>\n",
       "      <td>110865</td>\n",
       "      <td>26936</td>\n",
       "      <td>0.25</td>\n",
       "    </tr>\n",
       "    <tr>\n",
       "      <th>4</th>\n",
       "      <td>3743</td>\n",
       "      <td>400</td>\n",
       "      <td>76.530000</td>\n",
       "      <td>109225</td>\n",
       "      <td>26993</td>\n",
       "      <td>0.25</td>\n",
       "    </tr>\n",
       "    <tr>\n",
       "      <th>...</th>\n",
       "      <td>...</td>\n",
       "      <td>...</td>\n",
       "      <td>...</td>\n",
       "      <td>...</td>\n",
       "      <td>...</td>\n",
       "      <td>...</td>\n",
       "    </tr>\n",
       "    <tr>\n",
       "      <th>2991</th>\n",
       "      <td>3166</td>\n",
       "      <td>200</td>\n",
       "      <td>108.180000</td>\n",
       "      <td>58380</td>\n",
       "      <td>19570</td>\n",
       "      <td>0.75</td>\n",
       "    </tr>\n",
       "    <tr>\n",
       "      <th>2992</th>\n",
       "      <td>3118</td>\n",
       "      <td>200</td>\n",
       "      <td>108.260000</td>\n",
       "      <td>58870</td>\n",
       "      <td>19830</td>\n",
       "      <td>0.75</td>\n",
       "    </tr>\n",
       "    <tr>\n",
       "      <th>2993</th>\n",
       "      <td>3118</td>\n",
       "      <td>300</td>\n",
       "      <td>108.470000</td>\n",
       "      <td>61700</td>\n",
       "      <td>20300</td>\n",
       "      <td>0.75</td>\n",
       "    </tr>\n",
       "    <tr>\n",
       "      <th>2994</th>\n",
       "      <td>3118</td>\n",
       "      <td>300</td>\n",
       "      <td>107.000000</td>\n",
       "      <td>61030</td>\n",
       "      <td>20330</td>\n",
       "      <td>0.75</td>\n",
       "    </tr>\n",
       "    <tr>\n",
       "      <th>2995</th>\n",
       "      <td>3118</td>\n",
       "      <td>300</td>\n",
       "      <td>105.000000</td>\n",
       "      <td>61140</td>\n",
       "      <td>20320</td>\n",
       "      <td>0.75</td>\n",
       "    </tr>\n",
       "  </tbody>\n",
       "</table>\n",
       "<p>2996 rows × 6 columns</p>\n",
       "</div>"
      ],
      "text/plain": [
       "      price  병아리(원/수)     oil_avg  소_소비자가_int  돼지_소비자가_int  미국기준금리\n",
       "0      4047       400   76.703333      111396        25177    0.25\n",
       "1      4047       400   77.850000      111396        25411    0.25\n",
       "2      3895       400   77.566667      112019        26891    0.25\n",
       "3      3895       400   77.130000      110865        26936    0.25\n",
       "4      3743       400   76.530000      109225        26993    0.25\n",
       "...     ...       ...         ...         ...          ...     ...\n",
       "2991   3166       200  108.180000       58380        19570    0.75\n",
       "2992   3118       200  108.260000       58870        19830    0.75\n",
       "2993   3118       300  108.470000       61700        20300    0.75\n",
       "2994   3118       300  107.000000       61030        20330    0.75\n",
       "2995   3118       300  105.000000       61140        20320    0.75\n",
       "\n",
       "[2996 rows x 6 columns]"
      ]
     },
     "execution_count": 29,
     "metadata": {},
     "output_type": "execute_result"
    }
   ],
   "source": [
    "data_daily = pd.read_csv('../pre_data/일별_통합_모델링용.csv', index_col=0)\n",
    "data_daily = data_daily.drop(columns=['date', '한국기준금리'])\n",
    "data_daily"
   ]
  },
  {
   "cell_type": "code",
   "execution_count": 30,
   "metadata": {},
   "outputs": [
    {
     "name": "stdout",
     "output_type": "stream",
     "text": [
      "(2396, 5) (2396,)\n",
      "(600, 5) (600,)\n"
     ]
    }
   ],
   "source": [
    "data_input = data_daily.copy()\n",
    "data_output = data_input.pop('price')\n",
    "\n",
    "train_input, test_input, train_target, test_target = train_test_split(data_input,data_output, test_size=0.2)\n",
    "\n",
    "print(train_input.shape, train_target.shape)\n",
    "print(test_input.shape, test_target.shape)"
   ]
  },
  {
   "cell_type": "code",
   "execution_count": 31,
   "metadata": {},
   "outputs": [
    {
     "data": {
      "text/plain": [
       "0.3295711531664989"
      ]
     },
     "execution_count": 31,
     "metadata": {},
     "output_type": "execute_result"
    }
   ],
   "source": [
    "ridge = Ridge()\n",
    "ridge.fit(train_input, train_target)\n",
    "ridge.score(test_input, test_target)"
   ]
  },
  {
   "cell_type": "code",
   "execution_count": 32,
   "metadata": {},
   "outputs": [
    {
     "name": "stdout",
     "output_type": "stream",
     "text": [
      "alpha : 0.01\n",
      "ridge train score : 0.3805642112701991\n",
      "ridge test score : 0.329574518848071\n",
      "\n",
      "\n",
      "alpha : 0.1\n",
      "ridge train score : 0.38056421106829863\n",
      "ridge test score : 0.3295742142844782\n",
      "\n",
      "\n",
      "alpha : 1\n",
      "ridge train score : 0.3805641909102564\n",
      "ridge test score : 0.3295711531664989\n",
      "\n",
      "\n",
      "alpha : 10\n",
      "ridge train score : 0.3805622066944856\n",
      "ridge test score : 0.32953902272218194\n",
      "\n",
      "\n",
      "alpha : 100\n",
      "ridge train score : 0.38039169663480965\n",
      "ridge test score : 0.3290912487651364\n",
      "\n",
      "\n"
     ]
    }
   ],
   "source": [
    "alpha_value = [0.01, 0.1, 1, 10, 100]\n",
    "\n",
    "for alpha in alpha_value:\n",
    "    ridge = Ridge(alpha=alpha)\n",
    "    ridge.fit(train_input, train_target)\n",
    "\n",
    "    scores = cross_val_score(ridge, train_input, train_target, cv=5)\n",
    "\n",
    "    print(f\"alpha : {alpha}\")\n",
    "    print(f\"ridge train score : {ridge.score(train_input, train_target)}\")\n",
    "    print(f\"ridge test score : {ridge.score(test_input, test_target)}\")\n",
    "    print('\\n')"
   ]
  },
  {
   "cell_type": "code",
   "execution_count": 37,
   "metadata": {},
   "outputs": [
    {
     "ename": "NameError",
     "evalue": "name 'X' is not defined",
     "output_type": "error",
     "traceback": [
      "\u001b[1;31m---------------------------------------------------------------------------\u001b[0m",
      "\u001b[1;31mNameError\u001b[0m                                 Traceback (most recent call last)",
      "\u001b[1;32mc:\\localRepository\\recipes_oraganization\\chicken_price_prediction\\모델링\\Ridge_Rgressor.ipynb 셀 18\u001b[0m in \u001b[0;36m<cell line: 83>\u001b[1;34m()\u001b[0m\n\u001b[0;32m     <a href='vscode-notebook-cell:/c%3A/localRepository/recipes_oraganization/chicken_price_prediction/%EB%AA%A8%EB%8D%B8%EB%A7%81/Ridge_Rgressor.ipynb#X23sZmlsZQ%3D%3D?line=79'>80</a>\u001b[0m     \u001b[39mreturn\u001b[39;00m ridge_summary\n\u001b[0;32m     <a href='vscode-notebook-cell:/c%3A/localRepository/recipes_oraganization/chicken_price_prediction/%EB%AA%A8%EB%8D%B8%EB%A7%81/Ridge_Rgressor.ipynb#X23sZmlsZQ%3D%3D?line=81'>82</a>\u001b[0m \u001b[39m# 데이터는 pd.DataFrame, concat을 사용하여 따로 data를 만들어 주었음\u001b[39;00m\n\u001b[1;32m---> <a href='vscode-notebook-cell:/c%3A/localRepository/recipes_oraganization/chicken_price_prediction/%EB%AA%A8%EB%8D%B8%EB%A7%81/Ridge_Rgressor.ipynb#X23sZmlsZQ%3D%3D?line=82'>83</a>\u001b[0m subx \u001b[39m=\u001b[39m pd\u001b[39m.\u001b[39mDataFrame(X, columns\u001b[39m=\u001b[39mdf\u001b[39m.\u001b[39mcolumns)\n\u001b[0;32m     <a href='vscode-notebook-cell:/c%3A/localRepository/recipes_oraganization/chicken_price_prediction/%EB%AA%A8%EB%8D%B8%EB%A7%81/Ridge_Rgressor.ipynb#X23sZmlsZQ%3D%3D?line=83'>84</a>\u001b[0m suby \u001b[39m=\u001b[39m pd\u001b[39m.\u001b[39mDataFrame(y, columns\u001b[39m=\u001b[39mdf[\u001b[39m'\u001b[39m\u001b[39m닭고기가격\u001b[39m\u001b[39m'\u001b[39m])\n\u001b[0;32m     <a href='vscode-notebook-cell:/c%3A/localRepository/recipes_oraganization/chicken_price_prediction/%EB%AA%A8%EB%8D%B8%EB%A7%81/Ridge_Rgressor.ipynb#X23sZmlsZQ%3D%3D?line=85'>86</a>\u001b[0m data \u001b[39m=\u001b[39m pd\u001b[39m.\u001b[39mconcat([subx,suby], axis\u001b[39m=\u001b[39m\u001b[39m1\u001b[39m)\n",
      "\u001b[1;31mNameError\u001b[0m: name 'X' is not defined"
     ]
    }
   ],
   "source": [
    "# 함수화 작업\n",
    "def ridge_regression(data, target_col, plot=True):\n",
    "    # 라이브러리 호출 \n",
    "\n",
    "    # feature, target 분리\n",
    "    feature = data_daily.drop(columns='price')\n",
    "    target = data_daily['price']\n",
    "\n",
    "    # 훈련, 검정셋 분리\n",
    "    X_train, X_test, Y_train, Y_test = train_test_split(feature, target, test_size = 0.2, random_state = 2022)\n",
    "\n",
    "    # 빈 리스트 셍성\n",
    "    train_score = []\n",
    "    test_score = []\n",
    "    r_squared = []\n",
    "    intercept = []\n",
    "    mse_train = []\n",
    "    mse_test = []\n",
    "    # 하이퍼파라미터 적용\n",
    "    alpha_list = [0.0001, 0.001, 0.01, 0.1, 1, 10, 100]\n",
    "    # 라소 회귀 요약 데이터 형성\n",
    "    ridge_data = pd.DataFrame()\n",
    "\n",
    "    for alpha in alpha_list:\n",
    "        # 라소 회귀 시행\n",
    "        ridge = Ridge(alpha= alpha, max_iter = 10000).fit(X_train, Y_train)\n",
    "        # 결정계수 및 절편 리스트\n",
    "        train_score.append(np.round(ridge.score(X_train, Y_train), 4))\n",
    "        test_score.append(np.round(ridge.score(X_test, Y_test), 4))\n",
    "        intercept.append(np.round(ridge.intercept_, 4))\n",
    "        # 라소 회귀에서 도출된 각 feature의 계수\n",
    "        ridge_data = pd.concat([ridge_data, pd.DataFrame(np.round(ridge.coef_, 4), ridge.feature_names_in_)], axis=1)\n",
    "        # 훈련, 검정셋에서 y 값 예측 (기댓값 도출)\n",
    "        Y_pred_train = ridge.predict(X_train)\n",
    "        Y_pred = ridge.predict(X_test)\n",
    "        # 훈련, 검정셋에서 MSE 도출 \n",
    "        mse_train.append(np.round(mean_squared_error(Y_train,Y_pred_train),4))\n",
    "        mse_test.append(np.round(mean_squared_error(Y_test,Y_pred),4))\n",
    "        \n",
    "        # 도식화 여부\n",
    "        if plot == True:\n",
    "            plt.subplot(2,1,1)\n",
    "            plt.scatter(Y_train,Y_pred_train, label = '(실제값, 예측값)', alpha=.5)\n",
    "            plt.plot(np.linspace(0,50,200), np.linspace(0,50,200), color = 'green', label = \"45°(실제값 = 예측값)\")\n",
    "            plt.xlabel(\"실제 Price: $Y_i$\")\n",
    "            plt.ylabel(\"예측 Price : $\\hat{Y}_i$\")\n",
    "            plt.title(f'ridge regression when a = {alpha}')\n",
    "            plt.legend()\n",
    "            plt.text(y=5,x=30, s=f'Train MSE 값 : {mean_squared_error(Y_train,Y_pred_train) : .4f}\\nTrain Score 값 : {ridge.score(X_train,Y_train) : .4f}')\n",
    "            plt.subplot(2,1,2)\n",
    "            plt.scatter(Y_test,Y_pred, label = '(실제값, 예측값)', alpha=.5)\n",
    "            plt.plot(np.linspace(0,50,200), np.linspace(0,50,200), color = 'green', label = \"45°(실제값 = 예측값)\")\n",
    "            plt.xlabel(\"실제 Price: $Y_i$\")\n",
    "            plt.ylabel(\"예측 Price: $\\hat{Y}_i$\")\n",
    "            plt.legend(loc='upper left')\n",
    "            plt.text(y=5,x=30, s=f'Test MSE 값 : {mean_squared_error(Y_test,Y_pred) : .4f}\\nTest Score 값 : {ridge.score(X_test,Y_test) : .4f}')\n",
    "            plt.show()\n",
    "        else:\n",
    "            pass\n",
    "    \n",
    "    # 결정계수 출력\n",
    "    plt.plot(np.log10(alpha_list), train_score, label ='$R^2$ of train')\n",
    "    plt.plot(np.log10(alpha_list), test_score, label ='$R^2$ of test')\n",
    "    plt.title('$R^2$ of ridge regreesion')\n",
    "    plt.xlabel('log value of alpha')\n",
    "    plt.ylabel('R-square')\n",
    "    plt.legend()\n",
    "    plt.show()\n",
    "    \n",
    "    # 라소 회귀 요약 데이터 형성\n",
    "    ridge_data.columns = [f'alpha = {i}' for i in alpha_list]\n",
    "    score = pd.DataFrame({'R^2 of Train' : train_score,\n",
    "                        'R^2 of Test' : test_score,\n",
    "                        'intercept' : intercept,\n",
    "                        'mse_train' : mse_train,\n",
    "                        'mse_test' : mse_test}).transpose()\n",
    "    score.columns= [f'alpha = {i}' for i in alpha_list]\n",
    "    ridge_summary = pd.concat([ridge_data, score], axis=0)\n",
    "\n",
    "    return ridge_summary\n",
    "\n",
    "# 데이터는 pd.DataFrame, concat을 사용하여 따로 data를 만들어 주었음\n",
    "subx = pd.DataFrame(X, columns=data_daily.columns)\n",
    "suby = pd.DataFrame(y, columns=data_daily['price'])\n",
    "\n",
    "data = pd.concat([subx,suby], axis=1)\n",
    "\n",
    "# 위의 함수 시행\n",
    "ridge_regression(data,'target')"
   ]
  },
  {
   "cell_type": "code",
   "execution_count": null,
   "metadata": {},
   "outputs": [],
   "source": []
  }
 ],
 "metadata": {
  "kernelspec": {
   "display_name": "Python 3.10.8 64-bit (microsoft store)",
   "language": "python",
   "name": "python3"
  },
  "language_info": {
   "codemirror_mode": {
    "name": "ipython",
    "version": 3
   },
   "file_extension": ".py",
   "mimetype": "text/x-python",
   "name": "python",
   "nbconvert_exporter": "python",
   "pygments_lexer": "ipython3",
   "version": "3.10.8"
  },
  "orig_nbformat": 4,
  "vscode": {
   "interpreter": {
    "hash": "8bf0d51478355d2251941b3b98616086516a0eddd7c72ee47a3371765770709a"
   }
  }
 },
 "nbformat": 4,
 "nbformat_minor": 2
}
