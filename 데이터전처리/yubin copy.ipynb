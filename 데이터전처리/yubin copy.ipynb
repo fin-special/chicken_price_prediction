{
 "cells": [
  {
   "cell_type": "code",
   "execution_count": 154,
   "metadata": {},
   "outputs": [],
   "source": [
    "import pandas as pd\n",
    "import numpy as np\n",
    "import seaborn as sns\n",
    "import matplotlib\n",
    "import matplotlib.pyplot as plt\n",
    "from matplotlib import font_manager, rc"
   ]
  },
  {
   "cell_type": "code",
   "execution_count": 155,
   "metadata": {},
   "outputs": [],
   "source": [
    "# 그래프 한글, 마이너스 깨짐 방지\n",
    "\n",
    "font_name = font_manager.FontProperties(fname=\"c:/Windows/Fonts/malgun.ttf\").get_name()\n",
    "rc('font', family=font_name)"
   ]
  },
  {
   "cell_type": "markdown",
   "metadata": {},
   "source": [
    "## 원유 가격 데이터 전처리"
   ]
  },
  {
   "cell_type": "code",
   "execution_count": 47,
   "metadata": {},
   "outputs": [
    {
     "data": {
      "text/html": [
       "<div>\n",
       "<style scoped>\n",
       "    .dataframe tbody tr th:only-of-type {\n",
       "        vertical-align: middle;\n",
       "    }\n",
       "\n",
       "    .dataframe tbody tr th {\n",
       "        vertical-align: top;\n",
       "    }\n",
       "\n",
       "    .dataframe thead th {\n",
       "        text-align: right;\n",
       "    }\n",
       "</style>\n",
       "<table border=\"1\" class=\"dataframe\">\n",
       "  <thead>\n",
       "    <tr style=\"text-align: right;\">\n",
       "      <th></th>\n",
       "      <th>기간</th>\n",
       "      <th>Dubai</th>\n",
       "      <th>Brent</th>\n",
       "      <th>WTI</th>\n",
       "    </tr>\n",
       "  </thead>\n",
       "  <tbody>\n",
       "    <tr>\n",
       "      <th>0</th>\n",
       "      <td>12년01월03일</td>\n",
       "      <td>105.91</td>\n",
       "      <td>112.13</td>\n",
       "      <td>102.96</td>\n",
       "    </tr>\n",
       "    <tr>\n",
       "      <th>1</th>\n",
       "      <td>12년01월04일</td>\n",
       "      <td>108.49</td>\n",
       "      <td>113.70</td>\n",
       "      <td>103.22</td>\n",
       "    </tr>\n",
       "    <tr>\n",
       "      <th>2</th>\n",
       "      <td>12년01월05일</td>\n",
       "      <td>110.23</td>\n",
       "      <td>112.74</td>\n",
       "      <td>101.81</td>\n",
       "    </tr>\n",
       "    <tr>\n",
       "      <th>3</th>\n",
       "      <td>12년01월06일</td>\n",
       "      <td>109.92</td>\n",
       "      <td>113.06</td>\n",
       "      <td>101.56</td>\n",
       "    </tr>\n",
       "    <tr>\n",
       "      <th>4</th>\n",
       "      <td>12년01월09일</td>\n",
       "      <td>110.50</td>\n",
       "      <td>112.45</td>\n",
       "      <td>101.31</td>\n",
       "    </tr>\n",
       "    <tr>\n",
       "      <th>...</th>\n",
       "      <td>...</td>\n",
       "      <td>...</td>\n",
       "      <td>...</td>\n",
       "      <td>...</td>\n",
       "    </tr>\n",
       "    <tr>\n",
       "      <th>2576</th>\n",
       "      <td>21년12월27일</td>\n",
       "      <td>NaN</td>\n",
       "      <td>78.60</td>\n",
       "      <td>75.57</td>\n",
       "    </tr>\n",
       "    <tr>\n",
       "      <th>2577</th>\n",
       "      <td>21년12월28일</td>\n",
       "      <td>76.47</td>\n",
       "      <td>78.94</td>\n",
       "      <td>75.98</td>\n",
       "    </tr>\n",
       "    <tr>\n",
       "      <th>2578</th>\n",
       "      <td>21년12월29일</td>\n",
       "      <td>76.91</td>\n",
       "      <td>79.23</td>\n",
       "      <td>76.56</td>\n",
       "    </tr>\n",
       "    <tr>\n",
       "      <th>2579</th>\n",
       "      <td>21년12월30일</td>\n",
       "      <td>77.24</td>\n",
       "      <td>79.32</td>\n",
       "      <td>76.99</td>\n",
       "    </tr>\n",
       "    <tr>\n",
       "      <th>2580</th>\n",
       "      <td>21년12월31일</td>\n",
       "      <td>77.12</td>\n",
       "      <td>77.78</td>\n",
       "      <td>75.21</td>\n",
       "    </tr>\n",
       "  </tbody>\n",
       "</table>\n",
       "<p>2581 rows × 4 columns</p>\n",
       "</div>"
      ],
      "text/plain": [
       "             기간   Dubai   Brent     WTI\n",
       "0     12년01월03일  105.91  112.13  102.96\n",
       "1     12년01월04일  108.49  113.70  103.22\n",
       "2     12년01월05일  110.23  112.74  101.81\n",
       "3     12년01월06일  109.92  113.06  101.56\n",
       "4     12년01월09일  110.50  112.45  101.31\n",
       "...         ...     ...     ...     ...\n",
       "2576  21년12월27일     NaN   78.60   75.57\n",
       "2577  21년12월28일   76.47   78.94   75.98\n",
       "2578  21년12월29일   76.91   79.23   76.56\n",
       "2579  21년12월30일   77.24   79.32   76.99\n",
       "2580  21년12월31일   77.12   77.78   75.21\n",
       "\n",
       "[2581 rows x 4 columns]"
      ]
     },
     "execution_count": 47,
     "metadata": {},
     "output_type": "execute_result"
    }
   ],
   "source": [
    "# 2012~2021년 각 월별 원유 데이터\n",
    "oil_day = pd.read_csv('./data/국제_원유가격20120101_20211231.csv', encoding='utf-8')\n",
    "oil_day"
   ]
  },
  {
   "cell_type": "code",
   "execution_count": 48,
   "metadata": {},
   "outputs": [
    {
     "name": "stdout",
     "output_type": "stream",
     "text": [
      "<class 'pandas.core.frame.DataFrame'>\n",
      "RangeIndex: 2581 entries, 0 to 2580\n",
      "Data columns (total 4 columns):\n",
      " #   Column  Non-Null Count  Dtype  \n",
      "---  ------  --------------  -----  \n",
      " 0   기간      2581 non-null   object \n",
      " 1   Dubai   2503 non-null   float64\n",
      " 2   Brent   2573 non-null   float64\n",
      " 3   WTI     2514 non-null   float64\n",
      "dtypes: float64(3), object(1)\n",
      "memory usage: 80.8+ KB\n"
     ]
    }
   ],
   "source": [
    "oil_day.info()"
   ]
  },
  {
   "cell_type": "code",
   "execution_count": null,
   "metadata": {},
   "outputs": [],
   "source": [
    "# 월별 닭고기, 수입량 정규화 그래프\n",
    "\n",
    "plt.style.use('default')\n",
    "plt.rcParams['figure.figsize'] = (20,10)\n",
    "plt.rcParams['font.size'] = 15\n",
    "plt.rcParams['font.family'] = font_name\n",
    "\n",
    "x = price_df['date']\n",
    "y1 = price_df['price_ss']\n",
    "y2 = income_df['income_ss']\n",
    "\n",
    "fig, ax1 = plt.subplots()\n",
    "ax1.set_title('월별 닭고기 가격, 수입량 정규화 그래프')\n",
    "ax1.set_xlabel('시점')\n",
    "ax1.set_ylabel('닭고기 가격')\n",
    "ax1.plot(x, y1, color='blue',label='닭고기')\n",
    "\n",
    "ax2 = ax1.twinx()\n",
    "ax2.set_ylabel('닭고기 수입량')\n",
    "ax2.plot(x, y2, color='red',label='수입량')\n",
    "\n",
    "plt.xticks(['2012-01-31', '2013-01-31', '2014-01-31','2015-01-31','2016-01-31','2017-01-31', '2018-01-31', '2019-01-31', '2020-01-31', '2021-01-31'])\n",
    "fig.legend()\n",
    "plt.show()"
   ]
  }
 ],
 "metadata": {
  "kernelspec": {
   "display_name": "Python 3.10.5 64-bit",
   "language": "python",
   "name": "python3"
  },
  "language_info": {
   "codemirror_mode": {
    "name": "ipython",
    "version": 3
   },
   "file_extension": ".py",
   "mimetype": "text/x-python",
   "name": "python",
   "nbconvert_exporter": "python",
   "pygments_lexer": "ipython3",
   "version": "3.10.5"
  },
  "orig_nbformat": 4,
  "vscode": {
   "interpreter": {
    "hash": "beedbe2faf2f7048d727558d0bc3221e7eba2a0b921cac4d4771b2feb8f74b30"
   }
  }
 },
 "nbformat": 4,
 "nbformat_minor": 2
}
