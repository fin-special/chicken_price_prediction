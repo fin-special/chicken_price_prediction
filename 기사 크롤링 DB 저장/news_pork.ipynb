{
 "cells": [
  {
   "cell_type": "code",
   "execution_count": 13,
   "metadata": {},
   "outputs": [],
   "source": [
    "import pandas as pd\n",
    "from datetime import datetime, timedelta\n",
    "import requests\n",
    "from bs4 import BeautifulSoup\n",
    "import pymysql"
   ]
  },
  {
   "cell_type": "code",
   "execution_count": 14,
   "metadata": {},
   "outputs": [],
   "source": [
    "query = \"닭고기 가격\"\n",
    "startdate = (datetime.today() + timedelta(days=-7)).strftime(\"%Y.%m.%d\")\n",
    "enddate = datetime.today().strftime(\"%Y.%m.%d\")\n",
    "\n",
    "url = f'https://search.naver.com/search.naver?where=news&sm=tab_pge&query={query}&sort=0&photo=0&field=0&pd=1&ds={startdate}&de={enddate}&cluster_rank=101&mynews=0&office_type=0&office_section_code=0&news_office_checked=&nso=so:r,p:1w,a:all&start=1'\n",
    "res = requests.get(url)\n",
    "soup = BeautifulSoup(res.text, 'html.parser')\n",
    "news = soup.find_all('a', class_ = 'news_tit')"
   ]
  },
  {
   "cell_type": "code",
   "execution_count": 15,
   "metadata": {},
   "outputs": [
    {
     "data": {
      "text/plain": [
       "<a class=\"news_tit\" href=\"https://www.ytn.co.kr/_ln/0102_202211231225527159\" onclick=\"return goOtherCR(this, 'a=nws*h.tit&amp;r=102&amp;i=880000AF_000000000000000001817143&amp;g=052.0001817143&amp;u='+urlencode(this.href));\" target=\"_blank\" title='AI 확산에 달걀·닭고기 가격 들썩...\"수급 안정적\"'>AI 확산에 달걀·<mark>닭고기 가격</mark> 들썩...\"수급 안정적\"</a>"
      ]
     },
     "execution_count": 15,
     "metadata": {},
     "output_type": "execute_result"
    }
   ],
   "source": [
    "news[0]"
   ]
  },
  {
   "cell_type": "code",
   "execution_count": 4,
   "metadata": {},
   "outputs": [
    {
     "data": {
      "text/plain": [
       "'[인터뷰│손세희 한돈자조금관리위원장] \"아프리카돼지열병 못잡은 방역정책,...'"
      ]
     },
     "execution_count": 4,
     "metadata": {},
     "output_type": "execute_result"
    }
   ],
   "source": [
    "news[0].text"
   ]
  },
  {
   "cell_type": "code",
   "execution_count": 5,
   "metadata": {},
   "outputs": [
    {
     "data": {
      "text/plain": [
       "'http://www.naeil.com/news_view/?id_art=443189'"
      ]
     },
     "execution_count": 5,
     "metadata": {},
     "output_type": "execute_result"
    }
   ],
   "source": [
    "news[0]['href']"
   ]
  },
  {
   "cell_type": "code",
   "execution_count": 6,
   "metadata": {},
   "outputs": [],
   "source": [
    "result = []\n",
    "\n",
    "try:\n",
    "    for i in range(11):\n",
    "        title = news[i].text\n",
    "        url = news[i]['href']\n",
    "\n",
    "        data = {'title' : title,\n",
    "                'url' : url}\n",
    "\n",
    "        result.append(data)\n",
    "\n",
    "except:\n",
    "    pass\n",
    "\n"
   ]
  },
  {
   "cell_type": "code",
   "execution_count": 7,
   "metadata": {},
   "outputs": [
    {
     "data": {
      "text/plain": [
       "[{'title': '[인터뷰│손세희 한돈자조금관리위원장] \"아프리카돼지열병 못잡은 방역정책,...',\n",
       "  'url': 'http://www.naeil.com/news_view/?id_art=443189'},\n",
       " {'title': \"10배 뛴 배춧값 '눈덩이 마진'…무관세 돼지고기 더 올랐다\",\n",
       "  'url': 'https://news.jtbc.co.kr/article/article.aspx?news_id=NB12104262'},\n",
       " {'title': '\"흰우유 가격 상승 따른 커피ㆍ빵류 인상 가능성 낮아\"',\n",
       "  'url': 'http://www.foodnews.co.kr/news/articleView.html?idxno=99764'},\n",
       " {'title': \"AI 확산에 계란·닭고기 가격 '불안불안'…농식품부, 수급대책 선제적 대응\",\n",
       "  'url': 'http://www.newspim.com/news/view/20221122000396'},\n",
       " {'title': '정부 \"계란·우유 가격 인상폭 최소화…축산물 수급 안정적\"',\n",
       "  'url': 'https://www.etoday.co.kr/news/view/2195094'},\n",
       " {'title': \"정대장 프리미엄 돼지고기 '오늘한돈' 와디즈 펀딩으로 출시\",\n",
       "  'url': 'http://www.dailypop.kr/news/articleView.html?idxno=64491'},\n",
       " {'title': '농식품부 “유제품 가격, 업계와 소통해 인상 폭 최소화할 것”',\n",
       "  'url': 'http://www.mediapen.com/news/view/772144'},\n",
       " {'title': '김장철 맞아 우리 돼지 한돈 소비촉진 시식회 진행',\n",
       "  'url': 'http://www.aflnews.co.kr/news/articleView.html?idxno=236568'},\n",
       " {'title': '축산물 출하정보<돼지>(11월14일~11월18일) 김장철 수요 늘어 가격 상승',\n",
       "  'url': 'http://www.nongmin.com/article/ar_detail.htm?seq_id=367054'},\n",
       " {'title': '10월 생산자물가 0.5%↑…전기·가스요금 인상에 두 달째 상승',\n",
       "  'url': 'https://www.yna.co.kr/view/AKR20221123147000002?input=1195m'}]"
      ]
     },
     "execution_count": 7,
     "metadata": {},
     "output_type": "execute_result"
    }
   ],
   "source": [
    "result"
   ]
  },
  {
   "cell_type": "code",
   "execution_count": 8,
   "metadata": {},
   "outputs": [
    {
     "data": {
      "text/plain": [
       "{'title': '[인터뷰│손세희 한돈자조금관리위원장] \"아프리카돼지열병 못잡은 방역정책,...',\n",
       " 'url': 'http://www.naeil.com/news_view/?id_art=443189'}"
      ]
     },
     "execution_count": 8,
     "metadata": {},
     "output_type": "execute_result"
    }
   ],
   "source": [
    "result[0]"
   ]
  },
  {
   "cell_type": "code",
   "execution_count": 9,
   "metadata": {},
   "outputs": [
    {
     "data": {
      "text/plain": [
       "'http://www.naeil.com/news_view/?id_art=443189'"
      ]
     },
     "execution_count": 9,
     "metadata": {},
     "output_type": "execute_result"
    }
   ],
   "source": [
    "result[0]['title']\n",
    "result[0]['url']"
   ]
  },
  {
   "cell_type": "code",
   "execution_count": 12,
   "metadata": {},
   "outputs": [],
   "source": [
    "mydb = pymysql.connect(\n",
    "    host = 'localhost',\n",
    "    user = 'root',\n",
    "    password = '1234',\n",
    "    db = 'price',\n",
    "    charset='utf8'\n",
    ")\n",
    "\n",
    "mycursor = mydb.cursor()\n",
    "\n",
    "for i in range(10):\n",
    "\n",
    "    title = result[i]['title']\n",
    "    url = result[i]['url']\n",
    "\n",
    "    sql = \"INSERT INTO news_chicken( title,url ) VALUES (%s, %s)\"\n",
    "    val = (title,url)\n",
    "\n",
    "\n",
    "    mycursor.execute(sql,val)\n",
    "    mydb.commit()\n",
    "\n",
    "mydb.close()"
   ]
  },
  {
   "cell_type": "code",
   "execution_count": null,
   "metadata": {},
   "outputs": [],
   "source": []
  }
 ],
 "metadata": {
  "kernelspec": {
   "display_name": "Python 3.10.8 64-bit (microsoft store)",
   "language": "python",
   "name": "python3"
  },
  "language_info": {
   "codemirror_mode": {
    "name": "ipython",
    "version": 3
   },
   "file_extension": ".py",
   "mimetype": "text/x-python",
   "name": "python",
   "nbconvert_exporter": "python",
   "pygments_lexer": "ipython3",
   "version": "3.10.8"
  },
  "orig_nbformat": 4,
  "vscode": {
   "interpreter": {
    "hash": "8bf0d51478355d2251941b3b98616086516a0eddd7c72ee47a3371765770709a"
   }
  }
 },
 "nbformat": 4,
 "nbformat_minor": 2
}
