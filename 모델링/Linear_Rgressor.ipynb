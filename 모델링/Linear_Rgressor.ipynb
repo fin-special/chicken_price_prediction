{
 "cells": [
  {
   "cell_type": "code",
   "execution_count": 1,
   "metadata": {},
   "outputs": [],
   "source": [
    "import pandas as pd\n",
    "import numpy as np\n",
    "import seaborn as sns\n",
    "import matplotlib.pyplot as plt\n",
    "import datetime as dt\n",
    "from matplotlib import font_manager, rc\n",
    "\n",
    "# 한글 깨짐 방지 코드\n",
    "font_name = font_manager.FontProperties(fname=\"c:/Windows/Fonts/malgun.ttf\").get_name()\n",
    "rc('font', family=font_name)"
   ]
  },
  {
   "cell_type": "markdown",
   "metadata": {},
   "source": [
    "# 월별"
   ]
  },
  {
   "cell_type": "markdown",
   "metadata": {},
   "source": [
    "## 단일회귀분석"
   ]
  },
  {
   "cell_type": "code",
   "execution_count": 3,
   "metadata": {},
   "outputs": [
    {
     "data": {
      "text/html": [
       "<div>\n",
       "<style scoped>\n",
       "    .dataframe tbody tr th:only-of-type {\n",
       "        vertical-align: middle;\n",
       "    }\n",
       "\n",
       "    .dataframe tbody tr th {\n",
       "        vertical-align: top;\n",
       "    }\n",
       "\n",
       "    .dataframe thead th {\n",
       "        text-align: right;\n",
       "    }\n",
       "</style>\n",
       "<table border=\"1\" class=\"dataframe\">\n",
       "  <thead>\n",
       "    <tr style=\"text-align: right;\">\n",
       "      <th></th>\n",
       "      <th>date</th>\n",
       "      <th>닭고기가격</th>\n",
       "      <th>병아리(원/수)</th>\n",
       "      <th>hot_day</th>\n",
       "      <th>import amount</th>\n",
       "      <th>feedprice</th>\n",
       "      <th>oil_avg</th>\n",
       "      <th>도축</th>\n",
       "      <th>소_소비자가_int</th>\n",
       "      <th>돼지_소비자가_int</th>\n",
       "      <th>미국기준금리</th>\n",
       "      <th>한국기준금리</th>\n",
       "    </tr>\n",
       "  </thead>\n",
       "  <tbody>\n",
       "    <tr>\n",
       "      <th>0</th>\n",
       "      <td>2012-01-31</td>\n",
       "      <td>3202</td>\n",
       "      <td>250</td>\n",
       "      <td>0</td>\n",
       "      <td>8754</td>\n",
       "      <td>533.6</td>\n",
       "      <td>107.066111</td>\n",
       "      <td>58873</td>\n",
       "      <td>59981</td>\n",
       "      <td>18465</td>\n",
       "      <td>0.25</td>\n",
       "      <td>3.25</td>\n",
       "    </tr>\n",
       "    <tr>\n",
       "      <th>2</th>\n",
       "      <td>2012-02-29</td>\n",
       "      <td>3668</td>\n",
       "      <td>420</td>\n",
       "      <td>0</td>\n",
       "      <td>10098</td>\n",
       "      <td>529.9</td>\n",
       "      <td>112.537302</td>\n",
       "      <td>55879</td>\n",
       "      <td>56019</td>\n",
       "      <td>16634</td>\n",
       "      <td>0.75</td>\n",
       "      <td>3.25</td>\n",
       "    </tr>\n",
       "    <tr>\n",
       "      <th>3</th>\n",
       "      <td>2012-03-31</td>\n",
       "      <td>4169</td>\n",
       "      <td>500</td>\n",
       "      <td>0</td>\n",
       "      <td>10836</td>\n",
       "      <td>527.9</td>\n",
       "      <td>117.745606</td>\n",
       "      <td>58750</td>\n",
       "      <td>50899</td>\n",
       "      <td>16317</td>\n",
       "      <td>0.25</td>\n",
       "      <td>3.25</td>\n",
       "    </tr>\n",
       "    <tr>\n",
       "      <th>4</th>\n",
       "      <td>2012-04-30</td>\n",
       "      <td>3399</td>\n",
       "      <td>332</td>\n",
       "      <td>0</td>\n",
       "      <td>13412</td>\n",
       "      <td>526.3</td>\n",
       "      <td>113.723667</td>\n",
       "      <td>60940</td>\n",
       "      <td>53879</td>\n",
       "      <td>15882</td>\n",
       "      <td>0.25</td>\n",
       "      <td>3.25</td>\n",
       "    </tr>\n",
       "    <tr>\n",
       "      <th>5</th>\n",
       "      <td>2012-05-31</td>\n",
       "      <td>3255</td>\n",
       "      <td>200</td>\n",
       "      <td>0</td>\n",
       "      <td>14519</td>\n",
       "      <td>526.2</td>\n",
       "      <td>104.184710</td>\n",
       "      <td>73505</td>\n",
       "      <td>55403</td>\n",
       "      <td>16798</td>\n",
       "      <td>0.25</td>\n",
       "      <td>3.25</td>\n",
       "    </tr>\n",
       "    <tr>\n",
       "      <th>...</th>\n",
       "      <td>...</td>\n",
       "      <td>...</td>\n",
       "      <td>...</td>\n",
       "      <td>...</td>\n",
       "      <td>...</td>\n",
       "      <td>...</td>\n",
       "      <td>...</td>\n",
       "      <td>...</td>\n",
       "      <td>...</td>\n",
       "      <td>...</td>\n",
       "      <td>...</td>\n",
       "      <td>...</td>\n",
       "    </tr>\n",
       "    <tr>\n",
       "      <th>117</th>\n",
       "      <td>2021-08-31</td>\n",
       "      <td>3505</td>\n",
       "      <td>312</td>\n",
       "      <td>3</td>\n",
       "      <td>9360</td>\n",
       "      <td>492.0</td>\n",
       "      <td>69.247955</td>\n",
       "      <td>89892</td>\n",
       "      <td>99247</td>\n",
       "      <td>26078</td>\n",
       "      <td>0.25</td>\n",
       "      <td>0.75</td>\n",
       "    </tr>\n",
       "    <tr>\n",
       "      <th>118</th>\n",
       "      <td>2021-09-30</td>\n",
       "      <td>3074</td>\n",
       "      <td>408</td>\n",
       "      <td>0</td>\n",
       "      <td>9009</td>\n",
       "      <td>503.0</td>\n",
       "      <td>72.975152</td>\n",
       "      <td>81026</td>\n",
       "      <td>103039</td>\n",
       "      <td>26346</td>\n",
       "      <td>0.25</td>\n",
       "      <td>0.75</td>\n",
       "    </tr>\n",
       "    <tr>\n",
       "      <th>119</th>\n",
       "      <td>2021-10-31</td>\n",
       "      <td>3913</td>\n",
       "      <td>447</td>\n",
       "      <td>0</td>\n",
       "      <td>12005</td>\n",
       "      <td>508.0</td>\n",
       "      <td>82.193333</td>\n",
       "      <td>81228</td>\n",
       "      <td>110791</td>\n",
       "      <td>25977</td>\n",
       "      <td>0.25</td>\n",
       "      <td>0.75</td>\n",
       "    </tr>\n",
       "    <tr>\n",
       "      <th>120</th>\n",
       "      <td>2021-11-30</td>\n",
       "      <td>2985</td>\n",
       "      <td>315</td>\n",
       "      <td>0</td>\n",
       "      <td>10025</td>\n",
       "      <td>520.0</td>\n",
       "      <td>79.858712</td>\n",
       "      <td>86819</td>\n",
       "      <td>107207</td>\n",
       "      <td>25217</td>\n",
       "      <td>0.25</td>\n",
       "      <td>1.00</td>\n",
       "    </tr>\n",
       "    <tr>\n",
       "      <th>121</th>\n",
       "      <td>2021-12-31</td>\n",
       "      <td>3320</td>\n",
       "      <td>273</td>\n",
       "      <td>0</td>\n",
       "      <td>11293</td>\n",
       "      <td>511.0</td>\n",
       "      <td>73.308986</td>\n",
       "      <td>90151</td>\n",
       "      <td>108714</td>\n",
       "      <td>27036</td>\n",
       "      <td>0.25</td>\n",
       "      <td>1.00</td>\n",
       "    </tr>\n",
       "  </tbody>\n",
       "</table>\n",
       "<p>120 rows × 12 columns</p>\n",
       "</div>"
      ],
      "text/plain": [
       "           date  닭고기가격  병아리(원/수)  hot_day  import amount  feedprice  \\\n",
       "0    2012-01-31   3202       250        0           8754      533.6   \n",
       "2    2012-02-29   3668       420        0          10098      529.9   \n",
       "3    2012-03-31   4169       500        0          10836      527.9   \n",
       "4    2012-04-30   3399       332        0          13412      526.3   \n",
       "5    2012-05-31   3255       200        0          14519      526.2   \n",
       "..          ...    ...       ...      ...            ...        ...   \n",
       "117  2021-08-31   3505       312        3           9360      492.0   \n",
       "118  2021-09-30   3074       408        0           9009      503.0   \n",
       "119  2021-10-31   3913       447        0          12005      508.0   \n",
       "120  2021-11-30   2985       315        0          10025      520.0   \n",
       "121  2021-12-31   3320       273        0          11293      511.0   \n",
       "\n",
       "        oil_avg     도축  소_소비자가_int  돼지_소비자가_int  미국기준금리  한국기준금리  \n",
       "0    107.066111  58873       59981        18465    0.25    3.25  \n",
       "2    112.537302  55879       56019        16634    0.75    3.25  \n",
       "3    117.745606  58750       50899        16317    0.25    3.25  \n",
       "4    113.723667  60940       53879        15882    0.25    3.25  \n",
       "5    104.184710  73505       55403        16798    0.25    3.25  \n",
       "..          ...    ...         ...          ...     ...     ...  \n",
       "117   69.247955  89892       99247        26078    0.25    0.75  \n",
       "118   72.975152  81026      103039        26346    0.25    0.75  \n",
       "119   82.193333  81228      110791        25977    0.25    0.75  \n",
       "120   79.858712  86819      107207        25217    0.25    1.00  \n",
       "121   73.308986  90151      108714        27036    0.25    1.00  \n",
       "\n",
       "[120 rows x 12 columns]"
      ]
     },
     "execution_count": 3,
     "metadata": {},
     "output_type": "execute_result"
    }
   ],
   "source": [
    "# 월별 통합 데이터 = df\n",
    "df = pd.read_csv('../pre_data/월별_통합_모델링용.csv',index_col=0)\n",
    "df"
   ]
  },
  {
   "cell_type": "code",
   "execution_count": 4,
   "metadata": {},
   "outputs": [
    {
     "data": {
      "text/html": [
       "<style>#sk-container-id-1 {color: black;background-color: white;}#sk-container-id-1 pre{padding: 0;}#sk-container-id-1 div.sk-toggleable {background-color: white;}#sk-container-id-1 label.sk-toggleable__label {cursor: pointer;display: block;width: 100%;margin-bottom: 0;padding: 0.3em;box-sizing: border-box;text-align: center;}#sk-container-id-1 label.sk-toggleable__label-arrow:before {content: \"▸\";float: left;margin-right: 0.25em;color: #696969;}#sk-container-id-1 label.sk-toggleable__label-arrow:hover:before {color: black;}#sk-container-id-1 div.sk-estimator:hover label.sk-toggleable__label-arrow:before {color: black;}#sk-container-id-1 div.sk-toggleable__content {max-height: 0;max-width: 0;overflow: hidden;text-align: left;background-color: #f0f8ff;}#sk-container-id-1 div.sk-toggleable__content pre {margin: 0.2em;color: black;border-radius: 0.25em;background-color: #f0f8ff;}#sk-container-id-1 input.sk-toggleable__control:checked~div.sk-toggleable__content {max-height: 200px;max-width: 100%;overflow: auto;}#sk-container-id-1 input.sk-toggleable__control:checked~label.sk-toggleable__label-arrow:before {content: \"▾\";}#sk-container-id-1 div.sk-estimator input.sk-toggleable__control:checked~label.sk-toggleable__label {background-color: #d4ebff;}#sk-container-id-1 div.sk-label input.sk-toggleable__control:checked~label.sk-toggleable__label {background-color: #d4ebff;}#sk-container-id-1 input.sk-hidden--visually {border: 0;clip: rect(1px 1px 1px 1px);clip: rect(1px, 1px, 1px, 1px);height: 1px;margin: -1px;overflow: hidden;padding: 0;position: absolute;width: 1px;}#sk-container-id-1 div.sk-estimator {font-family: monospace;background-color: #f0f8ff;border: 1px dotted black;border-radius: 0.25em;box-sizing: border-box;margin-bottom: 0.5em;}#sk-container-id-1 div.sk-estimator:hover {background-color: #d4ebff;}#sk-container-id-1 div.sk-parallel-item::after {content: \"\";width: 100%;border-bottom: 1px solid gray;flex-grow: 1;}#sk-container-id-1 div.sk-label:hover label.sk-toggleable__label {background-color: #d4ebff;}#sk-container-id-1 div.sk-serial::before {content: \"\";position: absolute;border-left: 1px solid gray;box-sizing: border-box;top: 0;bottom: 0;left: 50%;z-index: 0;}#sk-container-id-1 div.sk-serial {display: flex;flex-direction: column;align-items: center;background-color: white;padding-right: 0.2em;padding-left: 0.2em;position: relative;}#sk-container-id-1 div.sk-item {position: relative;z-index: 1;}#sk-container-id-1 div.sk-parallel {display: flex;align-items: stretch;justify-content: center;background-color: white;position: relative;}#sk-container-id-1 div.sk-item::before, #sk-container-id-1 div.sk-parallel-item::before {content: \"\";position: absolute;border-left: 1px solid gray;box-sizing: border-box;top: 0;bottom: 0;left: 50%;z-index: -1;}#sk-container-id-1 div.sk-parallel-item {display: flex;flex-direction: column;z-index: 1;position: relative;background-color: white;}#sk-container-id-1 div.sk-parallel-item:first-child::after {align-self: flex-end;width: 50%;}#sk-container-id-1 div.sk-parallel-item:last-child::after {align-self: flex-start;width: 50%;}#sk-container-id-1 div.sk-parallel-item:only-child::after {width: 0;}#sk-container-id-1 div.sk-dashed-wrapped {border: 1px dashed gray;margin: 0 0.4em 0.5em 0.4em;box-sizing: border-box;padding-bottom: 0.4em;background-color: white;}#sk-container-id-1 div.sk-label label {font-family: monospace;font-weight: bold;display: inline-block;line-height: 1.2em;}#sk-container-id-1 div.sk-label-container {text-align: center;}#sk-container-id-1 div.sk-container {/* jupyter's `normalize.less` sets `[hidden] { display: none; }` but bootstrap.min.css set `[hidden] { display: none !important; }` so we also need the `!important` here to be able to override the default hidden behavior on the sphinx rendered scikit-learn.org. See: https://github.com/scikit-learn/scikit-learn/issues/21755 */display: inline-block !important;position: relative;}#sk-container-id-1 div.sk-text-repr-fallback {display: none;}</style><div id=\"sk-container-id-1\" class=\"sk-top-container\"><div class=\"sk-text-repr-fallback\"><pre>LinearRegression()</pre><b>In a Jupyter environment, please rerun this cell to show the HTML representation or trust the notebook. <br />On GitHub, the HTML representation is unable to render, please try loading this page with nbviewer.org.</b></div><div class=\"sk-container\" hidden><div class=\"sk-item\"><div class=\"sk-estimator sk-toggleable\"><input class=\"sk-toggleable__control sk-hidden--visually\" id=\"sk-estimator-id-1\" type=\"checkbox\" checked><label for=\"sk-estimator-id-1\" class=\"sk-toggleable__label sk-toggleable__label-arrow\">LinearRegression</label><div class=\"sk-toggleable__content\"><pre>LinearRegression()</pre></div></div></div></div></div>"
      ],
      "text/plain": [
       "LinearRegression()"
      ]
     },
     "execution_count": 4,
     "metadata": {},
     "output_type": "execute_result"
    }
   ],
   "source": [
    "# Linear Regression\n",
    "\n",
    "from sklearn.linear_model import LinearRegression\n",
    "\n",
    "X = df['병아리(원/수)']\n",
    "y = df['닭고기가격']\n",
    "\n",
    "line_fitter = LinearRegression()\n",
    "line_fitter.fit(X.values.reshape(-1,1),y)"
   ]
  },
  {
   "cell_type": "code",
   "execution_count": 5,
   "metadata": {},
   "outputs": [
    {
     "data": {
      "text/plain": [
       "array([3360.11219087])"
      ]
     },
     "execution_count": 5,
     "metadata": {},
     "output_type": "execute_result"
    }
   ],
   "source": [
    "y_predicted = line_fitter.predict([[450]])\n",
    "y_predicted"
   ]
  },
  {
   "cell_type": "code",
   "execution_count": 6,
   "metadata": {},
   "outputs": [
    {
     "data": {
      "image/png": "[encoded data removed]",
      "text/plain": [
       "<Figure size 432x288 with 1 Axes>"
      ]
     },
     "metadata": {
      "needs_background": "light"
     },
     "output_type": "display_data"
    }
   ],
   "source": [
    "plt.plot(X,y,'o')\n",
    "plt.plot(X,line_fitter.predict(X.values.reshape(-1,1)))\n",
    "plt.show()"
   ]
  },
  {
   "cell_type": "code",
   "execution_count": 9,
   "metadata": {},
   "outputs": [
    {
     "name": "stdout",
     "output_type": "stream",
     "text": [
      "Epoch 1/20\n",
      "120/120 [==============================] - 0s 1ms/step - loss: nan - accuracy: 0.0000e+00    \n",
      "Epoch 2/20\n",
      "120/120 [==============================] - 0s 1ms/step - loss: nan - accuracy: 0.0000e+00\n",
      "Epoch 3/20\n",
      "120/120 [==============================] - 0s 1ms/step - loss: nan - accuracy: 0.0000e+00\n",
      "Epoch 4/20\n",
      "120/120 [==============================] - 0s 1ms/step - loss: nan - accuracy: 0.0000e+00\n",
      "Epoch 5/20\n",
      "120/120 [==============================] - 0s 976us/step - loss: nan - accuracy: 0.0000e+00\n",
      "Epoch 6/20\n",
      "120/120 [==============================] - 0s 997us/step - loss: nan - accuracy: 0.0000e+00\n",
      "Epoch 7/20\n",
      "120/120 [==============================] - 0s 892us/step - loss: nan - accuracy: 0.0000e+00\n",
      "Epoch 8/20\n",
      "120/120 [==============================] - 0s 817us/step - loss: nan - accuracy: 0.0000e+00\n",
      "Epoch 9/20\n",
      "120/120 [==============================] - 0s 830us/step - loss: nan - accuracy: 0.0000e+00\n",
      "Epoch 10/20\n",
      "120/120 [==============================] - 0s 813us/step - loss: nan - accuracy: 0.0000e+00\n",
      "Epoch 11/20\n",
      "120/120 [==============================] - 0s 812us/step - loss: nan - accuracy: 0.0000e+00\n",
      "Epoch 12/20\n",
      "120/120 [==============================] - 0s 822us/step - loss: nan - accuracy: 0.0000e+00\n",
      "Epoch 13/20\n",
      "120/120 [==============================] - 0s 777us/step - loss: nan - accuracy: 0.0000e+00\n",
      "Epoch 14/20\n",
      "120/120 [==============================] - 0s 814us/step - loss: nan - accuracy: 0.0000e+00\n",
      "Epoch 15/20\n",
      "120/120 [==============================] - 0s 823us/step - loss: nan - accuracy: 0.0000e+00\n",
      "Epoch 16/20\n",
      "120/120 [==============================] - 0s 727us/step - loss: nan - accuracy: 0.0000e+00\n",
      "Epoch 17/20\n",
      "120/120 [==============================] - 0s 786us/step - loss: nan - accuracy: 0.0000e+00\n",
      "Epoch 18/20\n",
      "120/120 [==============================] - 0s 934us/step - loss: nan - accuracy: 0.0000e+00\n",
      "Epoch 19/20\n",
      "120/120 [==============================] - 0s 1ms/step - loss: nan - accuracy: 0.0000e+00\n",
      "Epoch 20/20\n",
      "120/120 [==============================] - 0s 923us/step - loss: nan - accuracy: 0.0000e+00\n",
      "1/1 [==============================] - 0s 105ms/step\n",
      "[[nan]]\n",
      "Model: \"sequential\"\n",
      "_________________________________________________________________\n",
      " Layer (type)                Output Shape              Param #   \n",
      "=================================================================\n",
      " dense (Dense)               (None, 1)                 2         \n",
      "                                                                 \n",
      "=================================================================\n",
      "Total params: 2\n",
      "Trainable params: 2\n",
      "Non-trainable params: 0\n",
      "_________________________________________________________________\n"
     ]
    },
    {
     "data": {
      "text/plain": [
       "<matplotlib.legend.Legend at 0x1e2f09887c0>"
      ]
     },
     "execution_count": 9,
     "metadata": {},
     "output_type": "execute_result"
    },
    {
     "name": "stderr",
     "output_type": "stream",
     "text": [
      "C:\\Users\\admin\\AppData\\Local\\Packages\\PythonSoftwareFoundation.Python.3.10_qbz5n2kfra8p0\\LocalCache\\local-packages\\Python310\\site-packages\\IPython\\core\\pylabtools.py:151: UserWarning: Glyph 8722 (\\N{MINUS SIGN}) missing from current font.\n",
      "  fig.canvas.print_figure(bytes_io, **kw)\n"
     ]
    },
    {
     "data": {
      "image/png": "[encoded data removed]",
      "text/plain": [
       "<Figure size 432x288 with 1 Axes>"
      ]
     },
     "metadata": {
      "needs_background": "light"
     },
     "output_type": "display_data"
    }
   ],
   "source": [
    "# 튜닝하는 것인데, 형식이 안맞아서인지 뭔지 때문에 학습이 안됨\n",
    "\n",
    "import numpy as np\n",
    "from tensorflow.keras.models import Sequential\n",
    "from tensorflow.keras.layers import Dense\n",
    "from tensorflow.keras import optimizers\n",
    "import matplotlib.pyplot as plt\n",
    "\n",
    "# data set\n",
    "x_data = df[['병아리(원/수)']]\n",
    "y_data = df[['닭고기가격']]\n",
    "\n",
    "# model: linear regression input dense with dim =1\n",
    "model = Sequential()\n",
    "model.add(Dense(1, input_dim = 1, activation='linear'))\n",
    "\n",
    "# model compile:  SGD learning_rate of 0.01 \n",
    "sgd = optimizers.SGD(learning_rate = 0.01)\n",
    "model.compile(loss='mse',optimizer=sgd, metrics=['accuracy'])\n",
    "\n",
    "# model fit\n",
    "history = model.fit(x_data.values.reshape(-1,1), y_data, epochs=20, batch_size=1, shuffle=False, verbose=1)\n",
    "\n",
    "# prediction\n",
    "print (model.predict([500]))\n",
    "\n",
    "# print model summary\n",
    "model.summary()\n",
    "\n",
    "# 학습 정확성 값과 검증 정확성 값을 플롯팅 합니다. \n",
    "#print(history.history)\n",
    "plt.plot(history.history['accuracy'])\n",
    "plt.plot(history.history['loss'])\n",
    "plt.title('Model accuracy')\n",
    "plt.ylabel('Accuracy')\n",
    "plt.xlabel('Epoch')\n",
    "plt.legend(['Accuracy', 'Loss'], loc='upper left')\n",
    "# plt.savefig('tran_result.png')\n",
    "#plt.show()\n"
   ]
  },
  {
   "cell_type": "markdown",
   "metadata": {},
   "source": [
    "## 다중회귀분석"
   ]
  },
  {
   "cell_type": "code",
   "execution_count": 21,
   "metadata": {},
   "outputs": [],
   "source": [
    "from sklearn.model_selection import train_test_split\n",
    "\n",
    "x = df.drop(columns=['닭고기가격','date'])\n",
    "# x = df[['병아리(원/수)','oil_avg']]\n",
    "y = df[['닭고기가격']]\n",
    "\n",
    "x_train, x_test, y_train, y_test = train_test_split(x,y,train_size=0.8, test_size=0.2)"
   ]
  },
  {
   "cell_type": "code",
   "execution_count": 22,
   "metadata": {},
   "outputs": [
    {
     "data": {
      "text/html": [
       "<style>#sk-container-id-3 {color: black;background-color: white;}#sk-container-id-3 pre{padding: 0;}#sk-container-id-3 div.sk-toggleable {background-color: white;}#sk-container-id-3 label.sk-toggleable__label {cursor: pointer;display: block;width: 100%;margin-bottom: 0;padding: 0.3em;box-sizing: border-box;text-align: center;}#sk-container-id-3 label.sk-toggleable__label-arrow:before {content: \"▸\";float: left;margin-right: 0.25em;color: #696969;}#sk-container-id-3 label.sk-toggleable__label-arrow:hover:before {color: black;}#sk-container-id-3 div.sk-estimator:hover label.sk-toggleable__label-arrow:before {color: black;}#sk-container-id-3 div.sk-toggleable__content {max-height: 0;max-width: 0;overflow: hidden;text-align: left;background-color: #f0f8ff;}#sk-container-id-3 div.sk-toggleable__content pre {margin: 0.2em;color: black;border-radius: 0.25em;background-color: #f0f8ff;}#sk-container-id-3 input.sk-toggleable__control:checked~div.sk-toggleable__content {max-height: 200px;max-width: 100%;overflow: auto;}#sk-container-id-3 input.sk-toggleable__control:checked~label.sk-toggleable__label-arrow:before {content: \"▾\";}#sk-container-id-3 div.sk-estimator input.sk-toggleable__control:checked~label.sk-toggleable__label {background-color: #d4ebff;}#sk-container-id-3 div.sk-label input.sk-toggleable__control:checked~label.sk-toggleable__label {background-color: #d4ebff;}#sk-container-id-3 input.sk-hidden--visually {border: 0;clip: rect(1px 1px 1px 1px);clip: rect(1px, 1px, 1px, 1px);height: 1px;margin: -1px;overflow: hidden;padding: 0;position: absolute;width: 1px;}#sk-container-id-3 div.sk-estimator {font-family: monospace;background-color: #f0f8ff;border: 1px dotted black;border-radius: 0.25em;box-sizing: border-box;margin-bottom: 0.5em;}#sk-container-id-3 div.sk-estimator:hover {background-color: #d4ebff;}#sk-container-id-3 div.sk-parallel-item::after {content: \"\";width: 100%;border-bottom: 1px solid gray;flex-grow: 1;}#sk-container-id-3 div.sk-label:hover label.sk-toggleable__label {background-color: #d4ebff;}#sk-container-id-3 div.sk-serial::before {content: \"\";position: absolute;border-left: 1px solid gray;box-sizing: border-box;top: 0;bottom: 0;left: 50%;z-index: 0;}#sk-container-id-3 div.sk-serial {display: flex;flex-direction: column;align-items: center;background-color: white;padding-right: 0.2em;padding-left: 0.2em;position: relative;}#sk-container-id-3 div.sk-item {position: relative;z-index: 1;}#sk-container-id-3 div.sk-parallel {display: flex;align-items: stretch;justify-content: center;background-color: white;position: relative;}#sk-container-id-3 div.sk-item::before, #sk-container-id-3 div.sk-parallel-item::before {content: \"\";position: absolute;border-left: 1px solid gray;box-sizing: border-box;top: 0;bottom: 0;left: 50%;z-index: -1;}#sk-container-id-3 div.sk-parallel-item {display: flex;flex-direction: column;z-index: 1;position: relative;background-color: white;}#sk-container-id-3 div.sk-parallel-item:first-child::after {align-self: flex-end;width: 50%;}#sk-container-id-3 div.sk-parallel-item:last-child::after {align-self: flex-start;width: 50%;}#sk-container-id-3 div.sk-parallel-item:only-child::after {width: 0;}#sk-container-id-3 div.sk-dashed-wrapped {border: 1px dashed gray;margin: 0 0.4em 0.5em 0.4em;box-sizing: border-box;padding-bottom: 0.4em;background-color: white;}#sk-container-id-3 div.sk-label label {font-family: monospace;font-weight: bold;display: inline-block;line-height: 1.2em;}#sk-container-id-3 div.sk-label-container {text-align: center;}#sk-container-id-3 div.sk-container {/* jupyter's `normalize.less` sets `[hidden] { display: none; }` but bootstrap.min.css set `[hidden] { display: none !important; }` so we also need the `!important` here to be able to override the default hidden behavior on the sphinx rendered scikit-learn.org. See: https://github.com/scikit-learn/scikit-learn/issues/21755 */display: inline-block !important;position: relative;}#sk-container-id-3 div.sk-text-repr-fallback {display: none;}</style><div id=\"sk-container-id-3\" class=\"sk-top-container\"><div class=\"sk-text-repr-fallback\"><pre>LinearRegression()</pre><b>In a Jupyter environment, please rerun this cell to show the HTML representation or trust the notebook. <br />On GitHub, the HTML representation is unable to render, please try loading this page with nbviewer.org.</b></div><div class=\"sk-container\" hidden><div class=\"sk-item\"><div class=\"sk-estimator sk-toggleable\"><input class=\"sk-toggleable__control sk-hidden--visually\" id=\"sk-estimator-id-3\" type=\"checkbox\" checked><label for=\"sk-estimator-id-3\" class=\"sk-toggleable__label sk-toggleable__label-arrow\">LinearRegression</label><div class=\"sk-toggleable__content\"><pre>LinearRegression()</pre></div></div></div></div></div>"
      ],
      "text/plain": [
       "LinearRegression()"
      ]
     },
     "execution_count": 22,
     "metadata": {},
     "output_type": "execute_result"
    }
   ],
   "source": [
    "from sklearn.linear_model import LinearRegression\n",
    "\n",
    "mlr = LinearRegression()\n",
    "mlr.fit(x_train, y_train)"
   ]
  },
  {
   "cell_type": "code",
   "execution_count": 23,
   "metadata": {},
   "outputs": [],
   "source": [
    "# 실제값으로 예측하는 방법\n",
    "# pred = [[450,110]]\n",
    "# my_predict = mlr.predict(pred)\n",
    "# my_predict"
   ]
  },
  {
   "cell_type": "code",
   "execution_count": 24,
   "metadata": {},
   "outputs": [
    {
     "data": {
      "text/plain": [
       "array([[3474.48332601],\n",
       "       [2955.008619  ],\n",
       "       [3406.37968986],\n",
       "       [2620.43114541],\n",
       "       [3181.03998671],\n",
       "       [3553.98736416],\n",
       "       [3794.91066645],\n",
       "       [3530.87631207],\n",
       "       [3455.72542755],\n",
       "       [2901.0319085 ],\n",
       "       [3023.19474121],\n",
       "       [3351.70118391],\n",
       "       [3412.52658599],\n",
       "       [3144.11322593],\n",
       "       [3323.74353308],\n",
       "       [3855.55324233],\n",
       "       [3130.3217662 ],\n",
       "       [3653.56440534],\n",
       "       [3199.05235167],\n",
       "       [3033.54681309],\n",
       "       [3208.56651186],\n",
       "       [3448.57282795],\n",
       "       [3425.65911558],\n",
       "       [2873.14028388]])"
      ]
     },
     "execution_count": 24,
     "metadata": {},
     "output_type": "execute_result"
    }
   ],
   "source": [
    "y_predict = mlr.predict(x_test)\n",
    "y_predict"
   ]
  },
  {
   "cell_type": "code",
   "execution_count": 25,
   "metadata": {},
   "outputs": [
    {
     "data": {
      "image/png": "[encoded data removed]",
      "text/plain": [
       "<Figure size 432x288 with 1 Axes>"
      ]
     },
     "metadata": {
      "needs_background": "light"
     },
     "output_type": "display_data"
    }
   ],
   "source": [
    "plt.scatter(y_test, y_predict, alpha=0.4)\n",
    "plt.xlabel(\"Actual Price\")\n",
    "plt.ylabel(\"Predicted Price\")\n",
    "plt.title(\"Multiple Linear Regression\")\n",
    "plt.show()"
   ]
  },
  {
   "cell_type": "code",
   "execution_count": 27,
   "metadata": {},
   "outputs": [
    {
     "data": {
      "text/plain": [
       "array([[ 1.28833480e+00,  2.84977422e+01,  7.28235905e-03,\n",
       "         5.97686402e+00,  1.44534275e+00,  3.93459943e-04,\n",
       "        -1.05713267e-02, -1.68500315e-02, -5.72252362e+01,\n",
       "        -2.46366256e+02]])"
      ]
     },
     "execution_count": 27,
     "metadata": {},
     "output_type": "execute_result"
    }
   ],
   "source": [
    "mlr.coef_"
   ]
  },
  {
   "cell_type": "code",
   "execution_count": 28,
   "metadata": {},
   "outputs": [
    {
     "data": {
      "text/plain": [
       "0.6366043716142527"
      ]
     },
     "execution_count": 28,
     "metadata": {},
     "output_type": "execute_result"
    }
   ],
   "source": [
    "mlr.score(x_train, y_train)\n",
    "# 0.7이 넘어야 양호한 점수임(닭고기 가격의 63.3%를 저 항목들로 설명할 수 있다는 의미)\n",
    "# https://hleecaster.com/ml-multiple-linear-regression-example/"
   ]
  },
  {
   "cell_type": "markdown",
   "metadata": {},
   "source": [
    "# 일별"
   ]
  },
  {
   "cell_type": "markdown",
   "metadata": {},
   "source": [
    "## 다중회귀분석"
   ]
  },
  {
   "cell_type": "code",
   "execution_count": 17,
   "metadata": {},
   "outputs": [
    {
     "data": {
      "text/html": [
       "<div>\n",
       "<style scoped>\n",
       "    .dataframe tbody tr th:only-of-type {\n",
       "        vertical-align: middle;\n",
       "    }\n",
       "\n",
       "    .dataframe tbody tr th {\n",
       "        vertical-align: top;\n",
       "    }\n",
       "\n",
       "    .dataframe thead th {\n",
       "        text-align: right;\n",
       "    }\n",
       "</style>\n",
       "<table border=\"1\" class=\"dataframe\">\n",
       "  <thead>\n",
       "    <tr style=\"text-align: right;\">\n",
       "      <th></th>\n",
       "      <th>date</th>\n",
       "      <th>price</th>\n",
       "      <th>병아리(원/수)</th>\n",
       "      <th>oil_avg</th>\n",
       "      <th>소_소비자가_int</th>\n",
       "      <th>돼지_소비자가_int</th>\n",
       "      <th>미국기준금리</th>\n",
       "    </tr>\n",
       "  </thead>\n",
       "  <tbody>\n",
       "    <tr>\n",
       "      <th>0</th>\n",
       "      <td>2021-12-31</td>\n",
       "      <td>4047</td>\n",
       "      <td>400</td>\n",
       "      <td>76.703333</td>\n",
       "      <td>111396</td>\n",
       "      <td>25177</td>\n",
       "      <td>0.25</td>\n",
       "    </tr>\n",
       "    <tr>\n",
       "      <th>1</th>\n",
       "      <td>2021-12-30</td>\n",
       "      <td>4047</td>\n",
       "      <td>400</td>\n",
       "      <td>77.850000</td>\n",
       "      <td>111396</td>\n",
       "      <td>25411</td>\n",
       "      <td>0.25</td>\n",
       "    </tr>\n",
       "    <tr>\n",
       "      <th>2</th>\n",
       "      <td>2021-12-29</td>\n",
       "      <td>3895</td>\n",
       "      <td>400</td>\n",
       "      <td>77.566667</td>\n",
       "      <td>112019</td>\n",
       "      <td>26891</td>\n",
       "      <td>0.25</td>\n",
       "    </tr>\n",
       "    <tr>\n",
       "      <th>3</th>\n",
       "      <td>2021-12-28</td>\n",
       "      <td>3895</td>\n",
       "      <td>400</td>\n",
       "      <td>77.130000</td>\n",
       "      <td>110865</td>\n",
       "      <td>26936</td>\n",
       "      <td>0.25</td>\n",
       "    </tr>\n",
       "    <tr>\n",
       "      <th>4</th>\n",
       "      <td>2021-12-27</td>\n",
       "      <td>3743</td>\n",
       "      <td>400</td>\n",
       "      <td>76.530000</td>\n",
       "      <td>109225</td>\n",
       "      <td>26993</td>\n",
       "      <td>0.25</td>\n",
       "    </tr>\n",
       "    <tr>\n",
       "      <th>...</th>\n",
       "      <td>...</td>\n",
       "      <td>...</td>\n",
       "      <td>...</td>\n",
       "      <td>...</td>\n",
       "      <td>...</td>\n",
       "      <td>...</td>\n",
       "      <td>...</td>\n",
       "    </tr>\n",
       "    <tr>\n",
       "      <th>2991</th>\n",
       "      <td>2012-01-06</td>\n",
       "      <td>3166</td>\n",
       "      <td>200</td>\n",
       "      <td>108.180000</td>\n",
       "      <td>58380</td>\n",
       "      <td>19570</td>\n",
       "      <td>0.75</td>\n",
       "    </tr>\n",
       "    <tr>\n",
       "      <th>2992</th>\n",
       "      <td>2012-01-05</td>\n",
       "      <td>3118</td>\n",
       "      <td>200</td>\n",
       "      <td>108.260000</td>\n",
       "      <td>58870</td>\n",
       "      <td>19830</td>\n",
       "      <td>0.75</td>\n",
       "    </tr>\n",
       "    <tr>\n",
       "      <th>2993</th>\n",
       "      <td>2012-01-04</td>\n",
       "      <td>3118</td>\n",
       "      <td>300</td>\n",
       "      <td>108.470000</td>\n",
       "      <td>61700</td>\n",
       "      <td>20300</td>\n",
       "      <td>0.75</td>\n",
       "    </tr>\n",
       "    <tr>\n",
       "      <th>2994</th>\n",
       "      <td>2012-01-03</td>\n",
       "      <td>3118</td>\n",
       "      <td>300</td>\n",
       "      <td>107.000000</td>\n",
       "      <td>61030</td>\n",
       "      <td>20330</td>\n",
       "      <td>0.75</td>\n",
       "    </tr>\n",
       "    <tr>\n",
       "      <th>2995</th>\n",
       "      <td>2012-01-02</td>\n",
       "      <td>3118</td>\n",
       "      <td>300</td>\n",
       "      <td>105.000000</td>\n",
       "      <td>61140</td>\n",
       "      <td>20320</td>\n",
       "      <td>0.75</td>\n",
       "    </tr>\n",
       "  </tbody>\n",
       "</table>\n",
       "<p>2996 rows × 7 columns</p>\n",
       "</div>"
      ],
      "text/plain": [
       "            date  price  병아리(원/수)     oil_avg  소_소비자가_int  돼지_소비자가_int  미국기준금리\n",
       "0     2021-12-31   4047       400   76.703333      111396        25177    0.25\n",
       "1     2021-12-30   4047       400   77.850000      111396        25411    0.25\n",
       "2     2021-12-29   3895       400   77.566667      112019        26891    0.25\n",
       "3     2021-12-28   3895       400   77.130000      110865        26936    0.25\n",
       "4     2021-12-27   3743       400   76.530000      109225        26993    0.25\n",
       "...          ...    ...       ...         ...         ...          ...     ...\n",
       "2991  2012-01-06   3166       200  108.180000       58380        19570    0.75\n",
       "2992  2012-01-05   3118       200  108.260000       58870        19830    0.75\n",
       "2993  2012-01-04   3118       300  108.470000       61700        20300    0.75\n",
       "2994  2012-01-03   3118       300  107.000000       61030        20330    0.75\n",
       "2995  2012-01-02   3118       300  105.000000       61140        20320    0.75\n",
       "\n",
       "[2996 rows x 7 columns]"
      ]
     },
     "execution_count": 17,
     "metadata": {},
     "output_type": "execute_result"
    }
   ],
   "source": [
    "# 일별 통합 데이터 = data\n",
    "data = pd.read_csv('../pre_data/일별_통합_모델링용.csv',index_col=0)\n",
    "data = data.drop(columns='한국기준금리')\n",
    "data"
   ]
  },
  {
   "cell_type": "code",
   "execution_count": 18,
   "metadata": {},
   "outputs": [
    {
     "data": {
      "image/png": "[encoded data removed]",
      "text/plain": [
       "<Figure size 432x288 with 1 Axes>"
      ]
     },
     "metadata": {
      "needs_background": "light"
     },
     "output_type": "display_data"
    },
    {
     "data": {
      "text/plain": [
       "0.3644970719597417"
      ]
     },
     "execution_count": 18,
     "metadata": {},
     "output_type": "execute_result"
    }
   ],
   "source": [
    "from sklearn.model_selection import train_test_split\n",
    "from sklearn.linear_model import LinearRegression\n",
    "\n",
    "x = data[['병아리(원/수)','oil_avg','소_소비자가_int', '돼지_소비자가_int', '미국기준금리']]\n",
    "y = data[['price']]\n",
    "\n",
    "x_train, x_test, y_train, y_test = train_test_split(x,y,train_size=0.8, test_size=0.2)\n",
    "\n",
    "mlr = LinearRegression()\n",
    "mlr.fit(x_train, y_train)\n",
    "\n",
    "# pred = [[400,78,20,10,25]]\n",
    "# my_predict = mlr.predict(pred)\n",
    "# print(my_predict)\n",
    "\n",
    "y_predict = mlr.predict(x_test)\n",
    "\n",
    "plt.scatter(y_test, y_predict, alpha=0.4)\n",
    "plt.xlabel(\"Actual Price\")\n",
    "plt.ylabel(\"Predicted Price\")\n",
    "plt.title(\"Multiple Linear Regression\")\n",
    "plt.show()\n",
    "\n",
    "mlr.score(x_train, y_train)\n",
    "# 36.4%로 월별 데이터보다 더 안좋은 결과가 나옴"
   ]
  },
  {
   "cell_type": "code",
   "execution_count": null,
   "metadata": {},
   "outputs": [],
   "source": []
  }
 ],
 "metadata": {
  "kernelspec": {
   "display_name": "Python 3.10.8 64-bit (microsoft store)",
   "language": "python",
   "name": "python3"
  },
  "language_info": {
   "codemirror_mode": {
    "name": "ipython",
    "version": 3
   },
   "file_extension": ".py",
   "mimetype": "text/x-python",
   "name": "python",
   "nbconvert_exporter": "python",
   "pygments_lexer": "ipython3",
   "version": "3.10.8"
  },
  "orig_nbformat": 4,
  "vscode": {
   "interpreter": {
    "hash": "8bf0d51478355d2251941b3b98616086516a0eddd7c72ee47a3371765770709a"
   }
  }
 },
 "nbformat": 4,
 "nbformat_minor": 2
}
