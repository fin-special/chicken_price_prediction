{
 "cells": [
  {
   "cell_type": "code",
   "execution_count": 1,
   "metadata": {},
   "outputs": [],
   "source": [
    "from email.errors import StartBoundaryNotFoundDefect\n",
    "from bs4 import BeautifulSoup\n",
    "import pandas as pd\n",
    "import time\n",
    "from selenium import webdriver\n",
    "from selenium.webdriver.common.by import By\n",
    "from selenium.webdriver.common.keys import Keys\n",
    "import pandas as pd\n",
    "from selenium import webdriver"
   ]
  },
  {
   "cell_type": "code",
   "execution_count": 20,
   "metadata": {},
   "outputs": [
    {
     "name": "stderr",
     "output_type": "stream",
     "text": [
      "C:\\Users\\admin\\AppData\\Local\\Temp\\ipykernel_10424\\3127475365.py:5: DeprecationWarning: executable_path has been deprecated, please pass in a Service object\n",
      "  wd = webdriver.Chrome('/localRepository/recipes_oraganization/chicken_price_prediction/chromedriver.exe')\n"
     ]
    }
   ],
   "source": [
    "urlList = []\n",
    "\n",
    "options = webdriver.ChromeOptions()\n",
    "options.add_experimental_option(\"excludeSwitches\", [\"enable-logging\"])\n",
    "wd = webdriver.Chrome('/localRepository/recipes_oraganization/chicken_price_prediction/chromedriver.exe')\n",
    "\n",
    "for i in range(1,101,10):\n",
    "    try: \n",
    "        wd.get(f'https://search.naver.com/search.naver?where=news&sm=tab_pge&query=%EB%8B%AD%EA%B3%A0%EA%B8%B0%20%EA%B0%80%EA%B2%A9&sort=0&photo=0&field=0&pd=3&ds=2021.10.01&de=2021.12.31&cluster_rank=11&mynews=0&office_type=0&office_section_code=0&news_office_checked=&nso=so:r,p:from20210101to20211231,a:all&start={i}')\n",
    "        # 마지막페이지 판단하기\n",
    "        final = wd.find_elements(By.CSS_SELECTOR, 'a.btn_next')\n",
    "        checkFinal = final[0].get_attribute('href')\n",
    "        if type(checkFinal) != str:\n",
    "            break\n",
    "\n",
    "        src1 = wd.find_elements(By.CSS_SELECTOR,'div.info_group > a.info')\n",
    "        src2 = wd.find_elements(By.CSS_SELECTOR,'div.info_group > a.info.press')\n",
    "        total = list(set(src1)- set(src2))\n",
    "\n",
    "        if src1:\n",
    "            for url in total:\n",
    "                urlList.append(url.get_attribute('href'))\n",
    "                # print('urlList길이',len(urlList))\n",
    "        else:\n",
    "            pass\n",
    "    except Exception as e:\n",
    "            print(e)\n",
    "\n",
    "wd.quit()\n",
    "# 중복 url 제거\n",
    "urlList = list(set(urlList))\n",
    "df = pd.DataFrame({'url':urlList})\n",
    "df.to_csv('./url.csv')"
   ]
  },
  {
   "cell_type": "code",
   "execution_count": 20,
   "metadata": {},
   "outputs": [
    {
     "name": "stderr",
     "output_type": "stream",
     "text": [
      "C:\\Users\\admin\\AppData\\Local\\Temp\\ipykernel_26472\\717839527.py:5: DeprecationWarning: executable_path has been deprecated, please pass in a Service object\n",
      "  wd = webdriver.Chrome('/localRepository/recipes_oraganization/chicken_price_prediction/chromedriver.exe')\n"
     ]
    }
   ],
   "source": [
    "list_url = []\n",
    "\n",
    "options = webdriver.ChromeOptions()\n",
    "options.add_experimental_option(\"excludeSwitches\", [\"enable-logging\"])\n",
    "wd = webdriver.Chrome('/localRepository/recipes_oraganization/chicken_price_prediction/chromedriver.exe')\n",
    "\n",
    "for j in range(1,501,10):\n",
    "    wd.get(f'https://search.naver.com/search.naver?where=news&sm=tab_pge&query=%EB%8B%AD%EA%B3%A0%EA%B8%B0%20%EA%B0%80%EA%B2%A9&sort=0&photo=0&field=0&pd=3&ds=2021.10.01&de=2021.12.31&cluster_rank=11&mynews=0&office_type=0&office_section_code=0&news_office_checked=&nso=so:r,p:from20210101to20211231,a:all&start={j}')\n",
    "\n",
    "        \n",
    "    req = wd.page_source\n",
    "    soup = BeautifulSoup(req, \"html.parser\")\n",
    "\n",
    "    link_news = soup.find_all('a', class_ = \"info\")\n",
    "    for i in range(0,len(link_news)):\n",
    "        if link_news[i]['href'].find('naver') == 15:\n",
    "            a = link_news[i]['href']\n",
    "            list_url.append(a)\n",
    "        else:\n",
    "            pass"
   ]
  },
  {
   "cell_type": "code",
   "execution_count": 18,
   "metadata": {},
   "outputs": [
    {
     "data": {
      "text/plain": [
       "[<a class=\"info press\" href=\"http://news.sbs.co.kr/\" onclick=\"return goOtherCR(this, 'a=nws*j.prof&amp;r=12&amp;i=8800011C_000000000000000000942073&amp;g=055.0000942073&amp;u='+urlencode(this.href));\" target=\"_blank\"><span class=\"thumb_box\"><img alt=\"\" class=\"thumb\" height=\"20\" onerror=\"this.src='data:image/gif;base64,R0lGODlhAQABAIAAAAAAAP///yH5BAEAAAAALAAAAAABAAEAAAIBRAA7';this.className='thumb bg_default_press'\" src=\"https://search.pstatic.net/common/?src=https%3A%2F%2Fmimgnews.pstatic.net%2Fimage%2Fupload%2Foffice_logo%2F055%2F2021%2F07%2F02%2Flogo_055_18_20210702165821.jpg&amp;type=f54_54&amp;expire=24&amp;refresh=true\" width=\"20\"/></span>SBS<i class=\"spnew ico_pick\">언론사 선정</i></a>,\n",
       " <a class=\"info\" href=\"https://n.news.naver.com/mnews/article/055/0000942073?sid=102\" onclick=\"return goOtherCR(this, 'a=nws*j.nav&amp;r=12&amp;i=8800011C_000000000000000000942073&amp;u='+urlencode(this.href));\" target=\"_blank\">네이버뉴스</a>,\n",
       " <a class=\"info press\" href=\"http://news.jtbc.joins.com/\" onclick=\"return goOtherCR(this, 'a=nws*j.prof&amp;r=13&amp;i=08138260_000000000000000000284271&amp;g=437.0000284271&amp;u='+urlencode(this.href));\" target=\"_blank\"><span class=\"thumb_box\"><img alt=\"\" class=\"thumb\" height=\"20\" onerror=\"this.src='data:image/gif;base64,R0lGODlhAQABAIAAAAAAAP///yH5BAEAAAAALAAAAAABAAEAAAIBRAA7';this.className='thumb bg_default_press'\" src=\"https://search.pstatic.net/common/?src=https%3A%2F%2Fmimgnews.pstatic.net%2Fimage%2Fupload%2Foffice_logo%2F437%2F2017%2F01%2F05%2Flogo_437_18_20170105111205.png&amp;type=f54_54&amp;expire=24&amp;refresh=true\" width=\"20\"/></span>JTBC<i class=\"spnew ico_pick\">언론사 선정</i></a>,\n",
       " <a class=\"info\" href=\"https://n.news.naver.com/mnews/article/437/0000284271?sid=101\" onclick=\"return goOtherCR(this, 'a=nws*j.nav&amp;r=13&amp;i=08138260_000000000000000000284271&amp;u='+urlencode(this.href));\" target=\"_blank\">네이버뉴스</a>,\n",
       " <a class=\"info press\" href=\"http://www.mdtoday.co.kr\" onclick=\"return goOtherCR(this, 'a=nws*f.prof&amp;r=14&amp;i=8813C2E7_000000000000000000201360&amp;g=5269.0000201360&amp;u='+urlencode(this.href));\" target=\"_blank\"><span class=\"thumb_box\"><img alt=\"\" class=\"thumb\" height=\"20\" onerror=\"this.src='data:image/gif;base64,R0lGODlhAQABAIAAAAAAAP///yH5BAEAAAAALAAAAAABAAEAAAIBRAA7';this.className='thumb bg_default_press'\" src=\"https://search.pstatic.net/common/?src=http%3A%2F%2Fm.mdtoday.co.kr%2Ffavicon.ico&amp;type=f54_54&amp;expire=24&amp;refresh=true\" width=\"20\"/></span>메디컬투데이</a>,\n",
       " <a class=\"info press\" href=\"http://www.busan.com/\" onclick=\"return goOtherCR(this, 'a=nws*j.prof&amp;r=15&amp;i=880000CE_000000000000000001132375&amp;g=082.0001132375&amp;u='+urlencode(this.href));\" target=\"_blank\"><span class=\"thumb_box\"><img alt=\"\" class=\"thumb\" height=\"20\" onerror=\"this.src='data:image/gif;base64,R0lGODlhAQABAIAAAAAAAP///yH5BAEAAAAALAAAAAABAAEAAAIBRAA7';this.className='thumb bg_default_press'\" src=\"https://search.pstatic.net/common/?src=https%3A%2F%2Fmimgnews.pstatic.net%2Fimage%2Fupload%2Foffice_logo%2F082%2F2019%2F08%2F26%2Flogo_082_18_20190826164926.png&amp;type=f54_54&amp;expire=24&amp;refresh=true\" width=\"20\"/></span>부산일보<i class=\"spnew ico_pick\">언론사 선정</i></a>,\n",
       " <a class=\"info\" href=\"https://n.news.naver.com/mnews/article/082/0001132375?sid=101\" onclick=\"return goOtherCR(this, 'a=nws*j.nav&amp;r=15&amp;i=880000CE_000000000000000001132375&amp;u='+urlencode(this.href));\" target=\"_blank\">네이버뉴스</a>,\n",
       " <a class=\"info press\" href=\"http://www.insight.co.kr\" onclick=\"return goOtherCR(this, 'a=nws*f.prof&amp;r=16&amp;i=88172c03_000000000000000000196078&amp;g=5486.0000196078&amp;u='+urlencode(this.href));\" target=\"_blank\"><span class=\"thumb_box\"><img alt=\"\" class=\"thumb\" height=\"20\" onerror=\"this.src='data:image/gif;base64,R0lGODlhAQABAIAAAAAAAP///yH5BAEAAAAALAAAAAABAAEAAAIBRAA7';this.className='thumb bg_default_press'\" src=\"https://search.pstatic.net/common/?src=https%3A%2F%2Fwww.insight.co.kr%2Fassets%2Fimages%2Ffavicon%2Ffavicon.ico%3F201801221126&amp;type=f54_54&amp;expire=24&amp;refresh=true\" width=\"20\"/></span>인사이트</a>,\n",
       " <a class=\"info press\" href=\"http://www.thekpm.com/\" onclick=\"return goOtherCR(this, 'a=nws*f.prof&amp;r=17&amp;i=88188600_000000000000000000092322&amp;g=5679.0000092322&amp;u='+urlencode(this.href));\" target=\"_blank\"><span class=\"thumb_box\"><img alt=\"\" class=\"thumb\" height=\"20\" onerror=\"this.src='data:image/gif;base64,R0lGODlhAQABAIAAAAAAAP///yH5BAEAAAAALAAAAAABAAEAAAIBRAA7';this.className='thumb bg_default_press'\" src=\"https://search.pstatic.net/common/?src=https%3A%2F%2Fwww.thekpm.com%2Ffavicon.ico&amp;type=f54_54&amp;expire=24&amp;refresh=true\" width=\"20\"/></span>농업경제신문</a>,\n",
       " <a class=\"info press\" href=\"http://www.joongdo.co.kr\" onclick=\"return goOtherCR(this, 'a=nws*f.prof&amp;r=18&amp;i=88121F5C_000000000000000000757995&amp;g=5340.0000757995&amp;u='+urlencode(this.href));\" target=\"_blank\"><span class=\"thumb_box\"><img alt=\"\" class=\"thumb\" height=\"20\" onerror=\"this.src='data:image/gif;base64,R0lGODlhAQABAIAAAAAAAP///yH5BAEAAAAALAAAAAABAAEAAAIBRAA7';this.className='thumb bg_default_press'\" src=\"https://search.pstatic.net/common/?src=http%3A%2F%2Fwww.joongdo.co.kr%2Ffavicon.ico&amp;type=f54_54&amp;expire=24&amp;refresh=true\" width=\"20\"/></span>중도일보</a>,\n",
       " <a class=\"info press\" href=\"http://news.kbs.co.kr/\" onclick=\"return goOtherCR(this, 'a=nws*a.prof&amp;r=19&amp;i=88000114_000000000000000011172851&amp;g=056.0011172851&amp;u='+urlencode(this.href));\" target=\"_blank\"><span class=\"thumb_box\"><img alt=\"\" class=\"thumb\" height=\"20\" onerror=\"this.src='data:image/gif;base64,R0lGODlhAQABAIAAAAAAAP///yH5BAEAAAAALAAAAAABAAEAAAIBRAA7';this.className='thumb bg_default_press'\" src=\"https://search.pstatic.net/common/?src=https%3A%2F%2Fmimgnews.pstatic.net%2Fimage%2Fupload%2Foffice_logo%2F056%2F2021%2F10%2F28%2Flogo_056_18_20211028103107.png&amp;type=f54_54&amp;expire=24&amp;refresh=true\" width=\"20\"/></span>KBS</a>,\n",
       " <a class=\"info\" href=\"https://n.news.naver.com/mnews/article/056/0011172851?sid=101\" onclick=\"return goOtherCR(this, 'a=nws*a.nav&amp;r=19&amp;i=88000114_000000000000000011172851&amp;u='+urlencode(this.href));\" target=\"_blank\">네이버뉴스</a>,\n",
       " <a class=\"info press\" href=\"http://news.kbs.co.kr/\" onclick=\"return goOtherCR(this, 'a=nws*e.prof&amp;r=21&amp;i=88000114_000000000000000011173179&amp;g=056.0011173179&amp;u='+urlencode(this.href));\" target=\"_blank\"><span class=\"thumb_box\"><img alt=\"\" class=\"thumb\" height=\"20\" onerror=\"this.src='data:image/gif;base64,R0lGODlhAQABAIAAAAAAAP///yH5BAEAAAAALAAAAAABAAEAAAIBRAA7';this.className='thumb bg_default_press'\" src=\"https://search.pstatic.net/common/?src=https%3A%2F%2Fmimgnews.pstatic.net%2Fimage%2Fupload%2Foffice_logo%2F056%2F2021%2F10%2F28%2Flogo_056_18_20211028103107.png&amp;type=f54_54&amp;expire=24&amp;refresh=true\" width=\"20\"/></span>KBS</a>,\n",
       " <a class=\"info\" href=\"https://n.news.naver.com/mnews/article/056/0011173179?sid=101\" onclick=\"return goOtherCR(this, 'a=nws*e.nav&amp;r=21&amp;i=88000114_000000000000000011173179&amp;u='+urlencode(this.href));\" target=\"_blank\">네이버뉴스</a>,\n",
       " <a class=\"info press\" href=\"http://www.cnews.co.kr\" onclick=\"return goOtherCR(this, 'a=nws*f.prof&amp;r=22&amp;i=88105698_000000000000000000338666&amp;g=5138.0000338666&amp;u='+urlencode(this.href));\" target=\"_blank\"><span class=\"thumb_box\"><img alt=\"\" class=\"thumb\" height=\"20\" onerror=\"this.src='data:image/gif;base64,R0lGODlhAQABAIAAAAAAAP///yH5BAEAAAAALAAAAAABAAEAAAIBRAA7';this.className='thumb bg_default_press'\" src=\"https://search.pstatic.net/common/?src=http%3A%2F%2Fwww.cnews.co.kr%2Fuhtml%2Fimages%2Ffavicon.ico&amp;type=f54_54&amp;expire=24&amp;refresh=true\" width=\"20\"/></span>e대한경제</a>]"
      ]
     },
     "execution_count": 18,
     "metadata": {},
     "output_type": "execute_result"
    }
   ],
   "source": [
    "link_news"
   ]
  },
  {
   "cell_type": "code",
   "execution_count": null,
   "metadata": {},
   "outputs": [],
   "source": []
  }
 ],
 "metadata": {
  "kernelspec": {
   "display_name": "Python 3.10.8 64-bit (microsoft store)",
   "language": "python",
   "name": "python3"
  },
  "language_info": {
   "codemirror_mode": {
    "name": "ipython",
    "version": 3
   },
   "file_extension": ".py",
   "mimetype": "text/x-python",
   "name": "python",
   "nbconvert_exporter": "python",
   "pygments_lexer": "ipython3",
   "version": "3.10.8"
  },
  "orig_nbformat": 4,
  "vscode": {
   "interpreter": {
    "hash": "8bf0d51478355d2251941b3b98616086516a0eddd7c72ee47a3371765770709a"
   }
  }
 },
 "nbformat": 4,
 "nbformat_minor": 2
}
