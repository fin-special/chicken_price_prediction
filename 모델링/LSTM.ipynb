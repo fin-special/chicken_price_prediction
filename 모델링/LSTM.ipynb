{
 "cells": [
  {
   "cell_type": "code",
   "execution_count": 1,
   "metadata": {},
   "outputs": [],
   "source": [
    "from sklearn.model_selection import train_test_split\n",
    "from sklearn.model_selection import cross_val_score\n",
    "import pandas as pd\n",
    "import numpy as np\n",
    "import matplotlib.pyplot as plt\n",
    "from sklearn.metrics import mean_squared_error\n",
    "from matplotlib import font_manager, rc\n",
    "\n",
    "font_name = font_manager.FontProperties(fname=\"c:/Windows/Fonts/malgun.ttf\").get_name()\n",
    "rc('font', family=font_name)"
   ]
  },
  {
   "cell_type": "code",
   "execution_count": 2,
   "metadata": {},
   "outputs": [
    {
     "data": {
      "text/html": [
       "<div>\n",
       "<style scoped>\n",
       "    .dataframe tbody tr th:only-of-type {\n",
       "        vertical-align: middle;\n",
       "    }\n",
       "\n",
       "    .dataframe tbody tr th {\n",
       "        vertical-align: top;\n",
       "    }\n",
       "\n",
       "    .dataframe thead th {\n",
       "        text-align: right;\n",
       "    }\n",
       "</style>\n",
       "<table border=\"1\" class=\"dataframe\">\n",
       "  <thead>\n",
       "    <tr style=\"text-align: right;\">\n",
       "      <th></th>\n",
       "      <th>닭고기가격</th>\n",
       "      <th>병아리(원/수)</th>\n",
       "      <th>hot_day</th>\n",
       "      <th>import amount</th>\n",
       "      <th>feedprice</th>\n",
       "      <th>oil_avg</th>\n",
       "      <th>도축</th>\n",
       "      <th>소_소비자가_int</th>\n",
       "      <th>돼지_소비자가_int</th>\n",
       "      <th>미국기준금리</th>\n",
       "      <th>한국기준금리</th>\n",
       "    </tr>\n",
       "  </thead>\n",
       "  <tbody>\n",
       "    <tr>\n",
       "      <th>0</th>\n",
       "      <td>3202</td>\n",
       "      <td>250</td>\n",
       "      <td>0</td>\n",
       "      <td>8754</td>\n",
       "      <td>533.6</td>\n",
       "      <td>107.066111</td>\n",
       "      <td>58873</td>\n",
       "      <td>59981</td>\n",
       "      <td>18465</td>\n",
       "      <td>0.25</td>\n",
       "      <td>3.25</td>\n",
       "    </tr>\n",
       "    <tr>\n",
       "      <th>2</th>\n",
       "      <td>3668</td>\n",
       "      <td>420</td>\n",
       "      <td>0</td>\n",
       "      <td>10098</td>\n",
       "      <td>529.9</td>\n",
       "      <td>112.537302</td>\n",
       "      <td>55879</td>\n",
       "      <td>56019</td>\n",
       "      <td>16634</td>\n",
       "      <td>0.75</td>\n",
       "      <td>3.25</td>\n",
       "    </tr>\n",
       "    <tr>\n",
       "      <th>3</th>\n",
       "      <td>4169</td>\n",
       "      <td>500</td>\n",
       "      <td>0</td>\n",
       "      <td>10836</td>\n",
       "      <td>527.9</td>\n",
       "      <td>117.745606</td>\n",
       "      <td>58750</td>\n",
       "      <td>50899</td>\n",
       "      <td>16317</td>\n",
       "      <td>0.25</td>\n",
       "      <td>3.25</td>\n",
       "    </tr>\n",
       "    <tr>\n",
       "      <th>4</th>\n",
       "      <td>3399</td>\n",
       "      <td>332</td>\n",
       "      <td>0</td>\n",
       "      <td>13412</td>\n",
       "      <td>526.3</td>\n",
       "      <td>113.723667</td>\n",
       "      <td>60940</td>\n",
       "      <td>53879</td>\n",
       "      <td>15882</td>\n",
       "      <td>0.25</td>\n",
       "      <td>3.25</td>\n",
       "    </tr>\n",
       "    <tr>\n",
       "      <th>5</th>\n",
       "      <td>3255</td>\n",
       "      <td>200</td>\n",
       "      <td>0</td>\n",
       "      <td>14519</td>\n",
       "      <td>526.2</td>\n",
       "      <td>104.184710</td>\n",
       "      <td>73505</td>\n",
       "      <td>55403</td>\n",
       "      <td>16798</td>\n",
       "      <td>0.25</td>\n",
       "      <td>3.25</td>\n",
       "    </tr>\n",
       "  </tbody>\n",
       "</table>\n",
       "</div>"
      ],
      "text/plain": [
       "   닭고기가격  병아리(원/수)  hot_day  import amount  feedprice     oil_avg     도축  \\\n",
       "0   3202       250        0           8754      533.6  107.066111  58873   \n",
       "2   3668       420        0          10098      529.9  112.537302  55879   \n",
       "3   4169       500        0          10836      527.9  117.745606  58750   \n",
       "4   3399       332        0          13412      526.3  113.723667  60940   \n",
       "5   3255       200        0          14519      526.2  104.184710  73505   \n",
       "\n",
       "   소_소비자가_int  돼지_소비자가_int  미국기준금리  한국기준금리  \n",
       "0       59981        18465    0.25    3.25  \n",
       "2       56019        16634    0.75    3.25  \n",
       "3       50899        16317    0.25    3.25  \n",
       "4       53879        15882    0.25    3.25  \n",
       "5       55403        16798    0.25    3.25  "
      ]
     },
     "execution_count": 2,
     "metadata": {},
     "output_type": "execute_result"
    }
   ],
   "source": [
    "# 월별 통합 데이터 = df\n",
    "df = pd.read_csv('../pre_data/월별_통합_모델링용.csv',index_col=0)\n",
    "df = df.drop(columns='date')\n",
    "df.head()"
   ]
  },
  {
   "cell_type": "code",
   "execution_count": 3,
   "metadata": {},
   "outputs": [
    {
     "data": {
      "text/html": [
       "<div>\n",
       "<style scoped>\n",
       "    .dataframe tbody tr th:only-of-type {\n",
       "        vertical-align: middle;\n",
       "    }\n",
       "\n",
       "    .dataframe tbody tr th {\n",
       "        vertical-align: top;\n",
       "    }\n",
       "\n",
       "    .dataframe thead th {\n",
       "        text-align: right;\n",
       "    }\n",
       "</style>\n",
       "<table border=\"1\" class=\"dataframe\">\n",
       "  <thead>\n",
       "    <tr style=\"text-align: right;\">\n",
       "      <th></th>\n",
       "      <th>price</th>\n",
       "      <th>병아리(원/수)</th>\n",
       "      <th>oil_avg</th>\n",
       "      <th>소_소비자가_int</th>\n",
       "      <th>돼지_소비자가_int</th>\n",
       "      <th>미국기준금리</th>\n",
       "    </tr>\n",
       "  </thead>\n",
       "  <tbody>\n",
       "    <tr>\n",
       "      <th>0</th>\n",
       "      <td>4047</td>\n",
       "      <td>400</td>\n",
       "      <td>76.703333</td>\n",
       "      <td>111396</td>\n",
       "      <td>25177</td>\n",
       "      <td>0.25</td>\n",
       "    </tr>\n",
       "    <tr>\n",
       "      <th>1</th>\n",
       "      <td>4047</td>\n",
       "      <td>400</td>\n",
       "      <td>77.850000</td>\n",
       "      <td>111396</td>\n",
       "      <td>25411</td>\n",
       "      <td>0.25</td>\n",
       "    </tr>\n",
       "    <tr>\n",
       "      <th>2</th>\n",
       "      <td>3895</td>\n",
       "      <td>400</td>\n",
       "      <td>77.566667</td>\n",
       "      <td>112019</td>\n",
       "      <td>26891</td>\n",
       "      <td>0.25</td>\n",
       "    </tr>\n",
       "    <tr>\n",
       "      <th>3</th>\n",
       "      <td>3895</td>\n",
       "      <td>400</td>\n",
       "      <td>77.130000</td>\n",
       "      <td>110865</td>\n",
       "      <td>26936</td>\n",
       "      <td>0.25</td>\n",
       "    </tr>\n",
       "    <tr>\n",
       "      <th>4</th>\n",
       "      <td>3743</td>\n",
       "      <td>400</td>\n",
       "      <td>76.530000</td>\n",
       "      <td>109225</td>\n",
       "      <td>26993</td>\n",
       "      <td>0.25</td>\n",
       "    </tr>\n",
       "    <tr>\n",
       "      <th>...</th>\n",
       "      <td>...</td>\n",
       "      <td>...</td>\n",
       "      <td>...</td>\n",
       "      <td>...</td>\n",
       "      <td>...</td>\n",
       "      <td>...</td>\n",
       "    </tr>\n",
       "    <tr>\n",
       "      <th>2991</th>\n",
       "      <td>3166</td>\n",
       "      <td>200</td>\n",
       "      <td>108.180000</td>\n",
       "      <td>58380</td>\n",
       "      <td>19570</td>\n",
       "      <td>0.75</td>\n",
       "    </tr>\n",
       "    <tr>\n",
       "      <th>2992</th>\n",
       "      <td>3118</td>\n",
       "      <td>200</td>\n",
       "      <td>108.260000</td>\n",
       "      <td>58870</td>\n",
       "      <td>19830</td>\n",
       "      <td>0.75</td>\n",
       "    </tr>\n",
       "    <tr>\n",
       "      <th>2993</th>\n",
       "      <td>3118</td>\n",
       "      <td>300</td>\n",
       "      <td>108.470000</td>\n",
       "      <td>61700</td>\n",
       "      <td>20300</td>\n",
       "      <td>0.75</td>\n",
       "    </tr>\n",
       "    <tr>\n",
       "      <th>2994</th>\n",
       "      <td>3118</td>\n",
       "      <td>300</td>\n",
       "      <td>107.000000</td>\n",
       "      <td>61030</td>\n",
       "      <td>20330</td>\n",
       "      <td>0.75</td>\n",
       "    </tr>\n",
       "    <tr>\n",
       "      <th>2995</th>\n",
       "      <td>3118</td>\n",
       "      <td>300</td>\n",
       "      <td>105.000000</td>\n",
       "      <td>61140</td>\n",
       "      <td>20320</td>\n",
       "      <td>0.75</td>\n",
       "    </tr>\n",
       "  </tbody>\n",
       "</table>\n",
       "<p>2996 rows × 6 columns</p>\n",
       "</div>"
      ],
      "text/plain": [
       "      price  병아리(원/수)     oil_avg  소_소비자가_int  돼지_소비자가_int  미국기준금리\n",
       "0      4047       400   76.703333      111396        25177    0.25\n",
       "1      4047       400   77.850000      111396        25411    0.25\n",
       "2      3895       400   77.566667      112019        26891    0.25\n",
       "3      3895       400   77.130000      110865        26936    0.25\n",
       "4      3743       400   76.530000      109225        26993    0.25\n",
       "...     ...       ...         ...         ...          ...     ...\n",
       "2991   3166       200  108.180000       58380        19570    0.75\n",
       "2992   3118       200  108.260000       58870        19830    0.75\n",
       "2993   3118       300  108.470000       61700        20300    0.75\n",
       "2994   3118       300  107.000000       61030        20330    0.75\n",
       "2995   3118       300  105.000000       61140        20320    0.75\n",
       "\n",
       "[2996 rows x 6 columns]"
      ]
     },
     "execution_count": 3,
     "metadata": {},
     "output_type": "execute_result"
    }
   ],
   "source": [
    "# 일별 통합 데이터 = data\n",
    "data = pd.read_csv('../pre_data/일별_통합_모델링용.csv',index_col=0)\n",
    "data = data.drop(columns=['한국기준금리', 'date'])\n",
    "data"
   ]
  },
  {
   "cell_type": "markdown",
   "metadata": {},
   "source": [
    "# 월별"
   ]
  },
  {
   "cell_type": "code",
   "execution_count": 5,
   "metadata": {},
   "outputs": [],
   "source": [
    "from sklearn.preprocessing import MinMaxScaler\n",
    "\n",
    "df.sort_index(ascending=False).reset_index(drop=True)\n",
    "\n",
    "scaler = MinMaxScaler()\n",
    "scale_cols = ['닭고기가격', '병아리(원/수)', 'hot_day', 'import amount', 'feedprice', 'oil_avg',\n",
    "       '도축', '소_소비자가_int', '돼지_소비자가_int', '미국기준금리', '한국기준금리']\n",
    "df_scaled = scaler.fit_transform(df[scale_cols])\n",
    "df_scaled = pd.DataFrame(df_scaled)\n",
    "df_scaled.columns = scale_cols\n"
   ]
  },
  {
   "cell_type": "code",
   "execution_count": 6,
   "metadata": {},
   "outputs": [],
   "source": [
    "TEST_SIZE = 24\n",
    "WINDOW_SIZE = 20\n",
    "\n",
    "train = df_scaled[:-TEST_SIZE]\n",
    "test = df_scaled[-TEST_SIZE:]"
   ]
  },
  {
   "cell_type": "code",
   "execution_count": 7,
   "metadata": {},
   "outputs": [],
   "source": [
    "def make_dataset(data, label, window_size=20):\n",
    "    feature_list = []\n",
    "    label_list = []\n",
    "    for i in range(len(data) - window_size):\n",
    "        feature_list.append(np.array(data.iloc[i:i+window_size]))\n",
    "        label_list.append(np.array(label.iloc[i+window_size]))\n",
    "    return np.array(feature_list), np.array(label_list)"
   ]
  },
  {
   "cell_type": "code",
   "execution_count": 8,
   "metadata": {},
   "outputs": [
    {
     "data": {
      "text/plain": [
       "((15, 20, 10), (61, 20, 10))"
      ]
     },
     "execution_count": 8,
     "metadata": {},
     "output_type": "execute_result"
    }
   ],
   "source": [
    "from sklearn.model_selection import train_test_split\n",
    "\n",
    "feature_cols = ['병아리(원/수)', 'hot_day', 'import amount', 'feedprice', 'oil_avg',\n",
    "       '도축', '소_소비자가_int', '돼지_소비자가_int', '미국기준금리', '한국기준금리']\n",
    "label_cols = ['닭고기가격']\n",
    "\n",
    "train_feature = train[feature_cols]\n",
    "train_label = train[label_cols]\n",
    "\n",
    "train_feature, train_label = make_dataset(train_feature, train_label, 20)\n",
    "\n",
    "x_train, x_valid, y_train, y_valid = train_test_split(train_feature, train_label, test_size= .80)\n",
    "x_train.shape, x_valid.shape"
   ]
  },
  {
   "cell_type": "code",
   "execution_count": 9,
   "metadata": {},
   "outputs": [
    {
     "data": {
      "text/plain": [
       "((24, 10), (24, 1))"
      ]
     },
     "execution_count": 9,
     "metadata": {},
     "output_type": "execute_result"
    }
   ],
   "source": [
    "test_feature = test[feature_cols]\n",
    "test_label = test[label_cols]\n",
    "\n",
    "test_feature.shape, test_label.shape"
   ]
  },
  {
   "cell_type": "code",
   "execution_count": 10,
   "metadata": {},
   "outputs": [
    {
     "data": {
      "text/plain": [
       "((4, 20, 10), (4, 1))"
      ]
     },
     "execution_count": 10,
     "metadata": {},
     "output_type": "execute_result"
    }
   ],
   "source": [
    "test_feature, test_label = make_dataset(test_feature, test_label, 20)\n",
    "test_feature.shape, test_label.shape"
   ]
  },
  {
   "cell_type": "code",
   "execution_count": 11,
   "metadata": {},
   "outputs": [],
   "source": [
    "from keras.models import Sequential\n",
    "from keras.layers import Dense\n",
    "from keras.callbacks import EarlyStopping, ModelCheckpoint\n",
    "from keras.layers import LSTM\n",
    "\n",
    "model = Sequential()\n",
    "model.add(LSTM(16, \n",
    "               input_shape=(train_feature.shape[1], train_feature.shape[2]), \n",
    "               activation='relu', \n",
    "               return_sequences=False)\n",
    "          )\n",
    "\n",
    "model.add(Dense(1))"
   ]
  },
  {
   "cell_type": "code",
   "execution_count": 12,
   "metadata": {},
   "outputs": [
    {
     "name": "stdout",
     "output_type": "stream",
     "text": [
      "Epoch 1/200\n",
      "1/1 [==============================] - ETA: 0s - loss: 0.0925 - accuracy: 0.0000e+00\n",
      "Epoch 1: val_loss improved from inf to 0.05227, saving model to model\\tmp_checkpoint.h5\n",
      "1/1 [==============================] - 2s 2s/step - loss: 0.0925 - accuracy: 0.0000e+00 - val_loss: 0.0523 - val_accuracy: 0.0000e+00\n",
      "Epoch 2/200\n",
      "1/1 [==============================] - ETA: 0s - loss: 0.0877 - accuracy: 0.0000e+00\n",
      "Epoch 2: val_loss improved from 0.05227 to 0.04895, saving model to model\\tmp_checkpoint.h5\n",
      "1/1 [==============================] - 0s 72ms/step - loss: 0.0877 - accuracy: 0.0000e+00 - val_loss: 0.0489 - val_accuracy: 0.0000e+00\n",
      "Epoch 3/200\n",
      "1/1 [==============================] - ETA: 0s - loss: 0.0840 - accuracy: 0.0000e+00\n",
      "Epoch 3: val_loss improved from 0.04895 to 0.04659, saving model to model\\tmp_checkpoint.h5\n",
      "1/1 [==============================] - 0s 71ms/step - loss: 0.0840 - accuracy: 0.0000e+00 - val_loss: 0.0466 - val_accuracy: 0.0000e+00\n",
      "Epoch 4/200\n",
      "1/1 [==============================] - ETA: 0s - loss: 0.0811 - accuracy: 0.0000e+00\n",
      "Epoch 4: val_loss improved from 0.04659 to 0.04504, saving model to model\\tmp_checkpoint.h5\n",
      "1/1 [==============================] - 0s 72ms/step - loss: 0.0811 - accuracy: 0.0000e+00 - val_loss: 0.0450 - val_accuracy: 0.0000e+00\n",
      "Epoch 5/200\n",
      "1/1 [==============================] - ETA: 0s - loss: 0.0791 - accuracy: 0.0000e+00\n",
      "Epoch 5: val_loss improved from 0.04504 to 0.04411, saving model to model\\tmp_checkpoint.h5\n",
      "1/1 [==============================] - 0s 72ms/step - loss: 0.0791 - accuracy: 0.0000e+00 - val_loss: 0.0441 - val_accuracy: 0.0000e+00\n",
      "Epoch 6/200\n",
      "1/1 [==============================] - ETA: 0s - loss: 0.0776 - accuracy: 0.0000e+00\n",
      "Epoch 6: val_loss improved from 0.04411 to 0.04354, saving model to model\\tmp_checkpoint.h5\n",
      "1/1 [==============================] - 0s 84ms/step - loss: 0.0776 - accuracy: 0.0000e+00 - val_loss: 0.0435 - val_accuracy: 0.0000e+00\n",
      "Epoch 7/200\n",
      "1/1 [==============================] - ETA: 0s - loss: 0.0765 - accuracy: 0.0000e+00\n",
      "Epoch 7: val_loss improved from 0.04354 to 0.04307, saving model to model\\tmp_checkpoint.h5\n",
      "1/1 [==============================] - 0s 70ms/step - loss: 0.0765 - accuracy: 0.0000e+00 - val_loss: 0.0431 - val_accuracy: 0.0000e+00\n",
      "Epoch 8/200\n",
      "1/1 [==============================] - ETA: 0s - loss: 0.0756 - accuracy: 0.0000e+00\n",
      "Epoch 8: val_loss improved from 0.04307 to 0.04252, saving model to model\\tmp_checkpoint.h5\n",
      "1/1 [==============================] - 0s 71ms/step - loss: 0.0756 - accuracy: 0.0000e+00 - val_loss: 0.0425 - val_accuracy: 0.0000e+00\n",
      "Epoch 9/200\n",
      "1/1 [==============================] - ETA: 0s - loss: 0.0746 - accuracy: 0.0000e+00\n",
      "Epoch 9: val_loss improved from 0.04252 to 0.04181, saving model to model\\tmp_checkpoint.h5\n",
      "1/1 [==============================] - 0s 59ms/step - loss: 0.0746 - accuracy: 0.0000e+00 - val_loss: 0.0418 - val_accuracy: 0.0000e+00\n",
      "Epoch 10/200\n",
      "1/1 [==============================] - ETA: 0s - loss: 0.0734 - accuracy: 0.0000e+00\n",
      "Epoch 10: val_loss improved from 0.04181 to 0.04097, saving model to model\\tmp_checkpoint.h5\n",
      "1/1 [==============================] - 0s 67ms/step - loss: 0.0734 - accuracy: 0.0000e+00 - val_loss: 0.0410 - val_accuracy: 0.0000e+00\n",
      "Epoch 11/200\n",
      "1/1 [==============================] - ETA: 0s - loss: 0.0721 - accuracy: 0.0000e+00\n",
      "Epoch 11: val_loss improved from 0.04097 to 0.04010, saving model to model\\tmp_checkpoint.h5\n",
      "1/1 [==============================] - 0s 75ms/step - loss: 0.0721 - accuracy: 0.0000e+00 - val_loss: 0.0401 - val_accuracy: 0.0000e+00\n",
      "Epoch 12/200\n",
      "1/1 [==============================] - ETA: 0s - loss: 0.0707 - accuracy: 0.0000e+00\n",
      "Epoch 12: val_loss improved from 0.04010 to 0.03929, saving model to model\\tmp_checkpoint.h5\n",
      "1/1 [==============================] - 0s 92ms/step - loss: 0.0707 - accuracy: 0.0000e+00 - val_loss: 0.0393 - val_accuracy: 0.0000e+00\n",
      "Epoch 13/200\n",
      "1/1 [==============================] - ETA: 0s - loss: 0.0692 - accuracy: 0.0000e+00\n",
      "Epoch 13: val_loss improved from 0.03929 to 0.03862, saving model to model\\tmp_checkpoint.h5\n",
      "1/1 [==============================] - 0s 165ms/step - loss: 0.0692 - accuracy: 0.0000e+00 - val_loss: 0.0386 - val_accuracy: 0.0000e+00\n",
      "Epoch 14/200\n",
      "1/1 [==============================] - ETA: 0s - loss: 0.0679 - accuracy: 0.0000e+00\n",
      "Epoch 14: val_loss improved from 0.03862 to 0.03813, saving model to model\\tmp_checkpoint.h5\n",
      "1/1 [==============================] - 0s 409ms/step - loss: 0.0679 - accuracy: 0.0000e+00 - val_loss: 0.0381 - val_accuracy: 0.0000e+00\n",
      "Epoch 15/200\n",
      "1/1 [==============================] - ETA: 0s - loss: 0.0666 - accuracy: 0.0000e+00\n",
      "Epoch 15: val_loss improved from 0.03813 to 0.03778, saving model to model\\tmp_checkpoint.h5\n",
      "1/1 [==============================] - 1s 817ms/step - loss: 0.0666 - accuracy: 0.0000e+00 - val_loss: 0.0378 - val_accuracy: 0.0000e+00\n",
      "Epoch 16/200\n",
      "1/1 [==============================] - ETA: 0s - loss: 0.0656 - accuracy: 0.0000e+00\n",
      "Epoch 16: val_loss improved from 0.03778 to 0.03755, saving model to model\\tmp_checkpoint.h5\n",
      "1/1 [==============================] - 1s 818ms/step - loss: 0.0656 - accuracy: 0.0000e+00 - val_loss: 0.0375 - val_accuracy: 0.0000e+00\n",
      "Epoch 17/200\n",
      "1/1 [==============================] - ETA: 0s - loss: 0.0646 - accuracy: 0.0000e+00\n",
      "Epoch 17: val_loss improved from 0.03755 to 0.03739, saving model to model\\tmp_checkpoint.h5\n",
      "1/1 [==============================] - 1s 793ms/step - loss: 0.0646 - accuracy: 0.0000e+00 - val_loss: 0.0374 - val_accuracy: 0.0000e+00\n",
      "Epoch 18/200\n",
      "1/1 [==============================] - ETA: 0s - loss: 0.0636 - accuracy: 0.0000e+00\n",
      "Epoch 18: val_loss improved from 0.03739 to 0.03729, saving model to model\\tmp_checkpoint.h5\n",
      "1/1 [==============================] - 1s 517ms/step - loss: 0.0636 - accuracy: 0.0000e+00 - val_loss: 0.0373 - val_accuracy: 0.0000e+00\n",
      "Epoch 19/200\n",
      "1/1 [==============================] - ETA: 0s - loss: 0.0627 - accuracy: 0.0000e+00\n",
      "Epoch 19: val_loss improved from 0.03729 to 0.03719, saving model to model\\tmp_checkpoint.h5\n",
      "1/1 [==============================] - 0s 396ms/step - loss: 0.0627 - accuracy: 0.0000e+00 - val_loss: 0.0372 - val_accuracy: 0.0000e+00\n",
      "Epoch 20/200\n",
      "1/1 [==============================] - ETA: 0s - loss: 0.0618 - accuracy: 0.0000e+00\n",
      "Epoch 20: val_loss improved from 0.03719 to 0.03707, saving model to model\\tmp_checkpoint.h5\n",
      "1/1 [==============================] - 0s 315ms/step - loss: 0.0618 - accuracy: 0.0000e+00 - val_loss: 0.0371 - val_accuracy: 0.0000e+00\n",
      "Epoch 21/200\n",
      "1/1 [==============================] - ETA: 0s - loss: 0.0609 - accuracy: 0.0000e+00\n",
      "Epoch 21: val_loss improved from 0.03707 to 0.03693, saving model to model\\tmp_checkpoint.h5\n",
      "1/1 [==============================] - 0s 184ms/step - loss: 0.0609 - accuracy: 0.0000e+00 - val_loss: 0.0369 - val_accuracy: 0.0000e+00\n",
      "Epoch 22/200\n",
      "1/1 [==============================] - ETA: 0s - loss: 0.0600 - accuracy: 0.0000e+00\n",
      "Epoch 22: val_loss improved from 0.03693 to 0.03677, saving model to model\\tmp_checkpoint.h5\n",
      "1/1 [==============================] - 0s 293ms/step - loss: 0.0600 - accuracy: 0.0000e+00 - val_loss: 0.0368 - val_accuracy: 0.0000e+00\n",
      "Epoch 23/200\n",
      "1/1 [==============================] - ETA: 0s - loss: 0.0591 - accuracy: 0.0000e+00\n",
      "Epoch 23: val_loss improved from 0.03677 to 0.03659, saving model to model\\tmp_checkpoint.h5\n",
      "1/1 [==============================] - 0s 156ms/step - loss: 0.0591 - accuracy: 0.0000e+00 - val_loss: 0.0366 - val_accuracy: 0.0000e+00\n",
      "Epoch 24/200\n",
      "1/1 [==============================] - ETA: 0s - loss: 0.0581 - accuracy: 0.0000e+00\n",
      "Epoch 24: val_loss improved from 0.03659 to 0.03642, saving model to model\\tmp_checkpoint.h5\n",
      "1/1 [==============================] - 0s 213ms/step - loss: 0.0581 - accuracy: 0.0000e+00 - val_loss: 0.0364 - val_accuracy: 0.0000e+00\n",
      "Epoch 25/200\n",
      "1/1 [==============================] - ETA: 0s - loss: 0.0572 - accuracy: 0.0000e+00\n",
      "Epoch 25: val_loss improved from 0.03642 to 0.03629, saving model to model\\tmp_checkpoint.h5\n",
      "1/1 [==============================] - 0s 294ms/step - loss: 0.0572 - accuracy: 0.0000e+00 - val_loss: 0.0363 - val_accuracy: 0.0000e+00\n",
      "Epoch 26/200\n",
      "1/1 [==============================] - ETA: 0s - loss: 0.0564 - accuracy: 0.0000e+00\n",
      "Epoch 26: val_loss improved from 0.03629 to 0.03621, saving model to model\\tmp_checkpoint.h5\n",
      "1/1 [==============================] - 0s 388ms/step - loss: 0.0564 - accuracy: 0.0000e+00 - val_loss: 0.0362 - val_accuracy: 0.0000e+00\n",
      "Epoch 27/200\n",
      "1/1 [==============================] - ETA: 0s - loss: 0.0557 - accuracy: 0.0000e+00\n",
      "Epoch 27: val_loss improved from 0.03621 to 0.03616, saving model to model\\tmp_checkpoint.h5\n",
      "1/1 [==============================] - 0s 251ms/step - loss: 0.0557 - accuracy: 0.0000e+00 - val_loss: 0.0362 - val_accuracy: 0.0000e+00\n",
      "Epoch 28/200\n",
      "1/1 [==============================] - ETA: 0s - loss: 0.0551 - accuracy: 0.0000e+00\n",
      "Epoch 28: val_loss did not improve from 0.03616\n",
      "1/1 [==============================] - 0s 201ms/step - loss: 0.0551 - accuracy: 0.0000e+00 - val_loss: 0.0362 - val_accuracy: 0.0000e+00\n",
      "Epoch 29/200\n",
      "1/1 [==============================] - ETA: 0s - loss: 0.0545 - accuracy: 0.0000e+00\n",
      "Epoch 29: val_loss did not improve from 0.03616\n",
      "1/1 [==============================] - 0s 413ms/step - loss: 0.0545 - accuracy: 0.0000e+00 - val_loss: 0.0362 - val_accuracy: 0.0000e+00\n",
      "Epoch 30/200\n",
      "1/1 [==============================] - ETA: 0s - loss: 0.0540 - accuracy: 0.0000e+00\n",
      "Epoch 30: val_loss did not improve from 0.03616\n",
      "1/1 [==============================] - 0s 303ms/step - loss: 0.0540 - accuracy: 0.0000e+00 - val_loss: 0.0364 - val_accuracy: 0.0000e+00\n",
      "Epoch 31/200\n",
      "1/1 [==============================] - ETA: 0s - loss: 0.0536 - accuracy: 0.0000e+00\n",
      "Epoch 31: val_loss did not improve from 0.03616\n",
      "1/1 [==============================] - 0s 179ms/step - loss: 0.0536 - accuracy: 0.0000e+00 - val_loss: 0.0365 - val_accuracy: 0.0000e+00\n",
      "Epoch 32/200\n",
      "1/1 [==============================] - ETA: 0s - loss: 0.0532 - accuracy: 0.0000e+00\n",
      "Epoch 32: val_loss did not improve from 0.03616\n",
      "1/1 [==============================] - 0s 253ms/step - loss: 0.0532 - accuracy: 0.0000e+00 - val_loss: 0.0367 - val_accuracy: 0.0000e+00\n"
     ]
    }
   ],
   "source": [
    "import os\n",
    "\n",
    "model.compile(loss='mean_squared_error', optimizer='adam', metrics=['accuracy'])\n",
    "early_stop = EarlyStopping(monitor='val_loss', patience=5)\n",
    "\n",
    "model_path = 'model'\n",
    "filename = os.path.join(model_path, 'tmp_checkpoint.h5')\n",
    "checkpoint = ModelCheckpoint(filename, monitor='val_loss', verbose=1, save_best_only=True, mode='auto')\n",
    "\n",
    "history = model.fit(x_train, y_train, \n",
    "                                    epochs=200, \n",
    "                                    batch_size=16,\n",
    "                                    validation_data=(x_valid, y_valid), \n",
    "                                    callbacks=[early_stop, checkpoint])"
   ]
  },
  {
   "cell_type": "code",
   "execution_count": 13,
   "metadata": {},
   "outputs": [
    {
     "name": "stdout",
     "output_type": "stream",
     "text": [
      "1/1 [==============================] - 1s 537ms/step\n"
     ]
    },
    {
     "data": {
      "text/plain": [
       "(4, 1)"
      ]
     },
     "execution_count": 13,
     "metadata": {},
     "output_type": "execute_result"
    }
   ],
   "source": [
    "model.load_weights(filename)\n",
    "pred = model.predict(test_feature)\n",
    "\n",
    "pred.shape"
   ]
  },
  {
   "cell_type": "code",
   "execution_count": 14,
   "metadata": {},
   "outputs": [
    {
     "data": {
      "image/png": "[encoded data removed]",
      "text/plain": [
       "<Figure size 864x648 with 1 Axes>"
      ]
     },
     "metadata": {
      "needs_background": "light"
     },
     "output_type": "display_data"
    }
   ],
   "source": [
    "plt.figure(figsize=(12, 9))\n",
    "plt.plot(test_label, label = 'actual')\n",
    "plt.plot(pred, label = 'prediction')\n",
    "plt.legend()\n",
    "plt.show()"
   ]
  },
  {
   "cell_type": "markdown",
   "metadata": {},
   "source": [
    "# 일별"
   ]
  },
  {
   "cell_type": "code",
   "execution_count": 15,
   "metadata": {},
   "outputs": [
    {
     "data": {
      "text/plain": [
       "Index(['price', '병아리(원/수)', 'oil_avg', '소_소비자가_int', '돼지_소비자가_int', '미국기준금리'], dtype='object')"
      ]
     },
     "execution_count": 15,
     "metadata": {},
     "output_type": "execute_result"
    }
   ],
   "source": [
    "data.columns"
   ]
  },
  {
   "cell_type": "code",
   "execution_count": 17,
   "metadata": {},
   "outputs": [],
   "source": [
    "from sklearn.preprocessing import MinMaxScaler\n",
    "\n",
    "data.sort_index(ascending=False).reset_index(drop=True)\n",
    "\n",
    "scaler = MinMaxScaler()\n",
    "scale_cols = ['price', '병아리(원/수)', 'oil_avg', '소_소비자가_int', '돼지_소비자가_int', '미국기준금리']\n",
    "data_scaled = scaler.fit_transform(data[scale_cols])\n",
    "data_scaled = pd.DataFrame(data_scaled)\n",
    "data_scaled.columns = scale_cols"
   ]
  },
  {
   "cell_type": "code",
   "execution_count": 18,
   "metadata": {},
   "outputs": [
    {
     "data": {
      "text/plain": [
       "(2996, 6)"
      ]
     },
     "execution_count": 18,
     "metadata": {},
     "output_type": "execute_result"
    }
   ],
   "source": [
    "data_scaled.head()\n",
    "data_scaled.shape"
   ]
  },
  {
   "cell_type": "code",
   "execution_count": 19,
   "metadata": {},
   "outputs": [],
   "source": [
    "TEST_SIZE = 600\n",
    "WINDOW_SIZE = 20\n",
    "\n",
    "train = data_scaled[:-TEST_SIZE]\n",
    "test = data_scaled[-TEST_SIZE:]"
   ]
  },
  {
   "cell_type": "code",
   "execution_count": 20,
   "metadata": {},
   "outputs": [],
   "source": [
    "def make_dataset(data, label, window_size=20):\n",
    "    feature_list = []\n",
    "    label_list = []\n",
    "    for i in range(len(data) - window_size):\n",
    "        feature_list.append(np.array(data.iloc[i:i+window_size]))\n",
    "        label_list.append(np.array(label.iloc[i+window_size]))\n",
    "    return np.array(feature_list), np.array(label_list)"
   ]
  },
  {
   "cell_type": "code",
   "execution_count": 21,
   "metadata": {},
   "outputs": [
    {
     "data": {
      "text/plain": [
       "((475, 20, 5), (1901, 20, 5))"
      ]
     },
     "execution_count": 21,
     "metadata": {},
     "output_type": "execute_result"
    }
   ],
   "source": [
    "from sklearn.model_selection import train_test_split\n",
    "\n",
    "feature_cols = ['병아리(원/수)', 'oil_avg', '소_소비자가_int', '돼지_소비자가_int', '미국기준금리']\n",
    "label_cols = ['price']\n",
    "\n",
    "train_feature = train[feature_cols]\n",
    "train_label = train[label_cols]\n",
    "\n",
    "train_feature, train_label = make_dataset(train_feature, train_label, 20)\n",
    "\n",
    "x_train, x_valid, y_train, y_valid = train_test_split(train_feature, train_label, test_size= .80)\n",
    "x_train.shape, x_valid.shape"
   ]
  },
  {
   "cell_type": "code",
   "execution_count": 22,
   "metadata": {},
   "outputs": [
    {
     "data": {
      "text/plain": [
       "((600, 5), (600, 1))"
      ]
     },
     "execution_count": 22,
     "metadata": {},
     "output_type": "execute_result"
    }
   ],
   "source": [
    "test_feature = test[feature_cols]\n",
    "test_label = test[label_cols]\n",
    "\n",
    "test_feature.shape, test_label.shape"
   ]
  },
  {
   "cell_type": "code",
   "execution_count": 23,
   "metadata": {},
   "outputs": [
    {
     "data": {
      "text/plain": [
       "((580, 20, 5), (580, 1))"
      ]
     },
     "execution_count": 23,
     "metadata": {},
     "output_type": "execute_result"
    }
   ],
   "source": [
    "test_feature, test_label = make_dataset(test_feature, test_label, 20)\n",
    "test_feature.shape, test_label.shape"
   ]
  },
  {
   "cell_type": "code",
   "execution_count": 24,
   "metadata": {},
   "outputs": [],
   "source": [
    "from keras.models import Sequential\n",
    "from keras.layers import Dense\n",
    "from keras.callbacks import EarlyStopping, ModelCheckpoint\n",
    "from keras.layers import LSTM\n",
    "\n",
    "model = Sequential()\n",
    "model.add(LSTM(16, \n",
    "               input_shape=(train_feature.shape[1], train_feature.shape[2]), \n",
    "               activation='relu', \n",
    "               return_sequences=False)\n",
    "          )\n",
    "\n",
    "model.add(Dense(1))"
   ]
  },
  {
   "cell_type": "code",
   "execution_count": 25,
   "metadata": {},
   "outputs": [
    {
     "name": "stdout",
     "output_type": "stream",
     "text": [
      "Epoch 1/200\n",
      "21/30 [====================>.........] - ETA: 0s - loss: 0.3275 - accuracy: 0.0030    \n",
      "Epoch 1: val_loss improved from inf to 0.10088, saving model to model\\tmp_checkpoint.h5\n",
      "30/30 [==============================] - 2s 21ms/step - loss: 0.2727 - accuracy: 0.0021 - val_loss: 0.1009 - val_accuracy: 0.0026\n",
      "Epoch 2/200\n",
      "24/30 [=======================>......] - ETA: 0s - loss: 0.0833 - accuracy: 0.0000e+00\n",
      "Epoch 2: val_loss improved from 0.10088 to 0.05323, saving model to model\\tmp_checkpoint.h5\n",
      "30/30 [==============================] - 0s 12ms/step - loss: 0.0784 - accuracy: 0.0021 - val_loss: 0.0532 - val_accuracy: 0.0026\n",
      "Epoch 3/200\n",
      "28/30 [===========================>..] - ETA: 0s - loss: 0.0461 - accuracy: 0.0022    \n",
      "Epoch 3: val_loss improved from 0.05323 to 0.03706, saving model to model\\tmp_checkpoint.h5\n",
      "30/30 [==============================] - 0s 16ms/step - loss: 0.0458 - accuracy: 0.0021 - val_loss: 0.0371 - val_accuracy: 0.0026\n",
      "Epoch 4/200\n",
      "20/30 [===================>..........] - ETA: 0s - loss: 0.0358 - accuracy: 0.0031    \n",
      "Epoch 4: val_loss improved from 0.03706 to 0.03028, saving model to model\\tmp_checkpoint.h5\n",
      "30/30 [==============================] - 0s 14ms/step - loss: 0.0353 - accuracy: 0.0021 - val_loss: 0.0303 - val_accuracy: 0.0047\n",
      "Epoch 5/200\n",
      "20/30 [===================>..........] - ETA: 0s - loss: 0.0333 - accuracy: 0.0063  \n",
      "Epoch 5: val_loss improved from 0.03028 to 0.02754, saving model to model\\tmp_checkpoint.h5\n",
      "30/30 [==============================] - 0s 12ms/step - loss: 0.0300 - accuracy: 0.0042 - val_loss: 0.0275 - val_accuracy: 0.0047\n",
      "Epoch 6/200\n",
      "23/30 [======================>.......] - ETA: 0s - loss: 0.0257 - accuracy: 0.0054  \n",
      "Epoch 6: val_loss improved from 0.02754 to 0.02533, saving model to model\\tmp_checkpoint.h5\n",
      "30/30 [==============================] - 0s 12ms/step - loss: 0.0273 - accuracy: 0.0042 - val_loss: 0.0253 - val_accuracy: 0.0047\n",
      "Epoch 7/200\n",
      "23/30 [======================>.......] - ETA: 0s - loss: 0.0259 - accuracy: 0.0054  \n",
      "Epoch 7: val_loss improved from 0.02533 to 0.02449, saving model to model\\tmp_checkpoint.h5\n",
      "30/30 [==============================] - 0s 13ms/step - loss: 0.0260 - accuracy: 0.0042 - val_loss: 0.0245 - val_accuracy: 0.0047\n",
      "Epoch 8/200\n",
      "28/30 [===========================>..] - ETA: 0s - loss: 0.0255 - accuracy: 0.0045\n",
      "Epoch 8: val_loss did not improve from 0.02449\n",
      "30/30 [==============================] - 0s 13ms/step - loss: 0.0250 - accuracy: 0.0042 - val_loss: 0.0247 - val_accuracy: 0.0047\n",
      "Epoch 9/200\n",
      "24/30 [=======================>......] - ETA: 0s - loss: 0.0257 - accuracy: 0.0052  \n",
      "Epoch 9: val_loss did not improve from 0.02449\n",
      "30/30 [==============================] - 0s 11ms/step - loss: 0.0248 - accuracy: 0.0042 - val_loss: 0.0248 - val_accuracy: 0.0047\n",
      "Epoch 10/200\n",
      "25/30 [========================>.....] - ETA: 0s - loss: 0.0233 - accuracy: 0.0050    \n",
      "Epoch 10: val_loss improved from 0.02449 to 0.02382, saving model to model\\tmp_checkpoint.h5\n",
      "30/30 [==============================] - 0s 11ms/step - loss: 0.0242 - accuracy: 0.0042 - val_loss: 0.0238 - val_accuracy: 0.0047\n",
      "Epoch 11/200\n",
      "23/30 [======================>.......] - ETA: 0s - loss: 0.0230 - accuracy: 0.0027\n",
      "Epoch 11: val_loss did not improve from 0.02382\n",
      "30/30 [==============================] - 0s 14ms/step - loss: 0.0243 - accuracy: 0.0042 - val_loss: 0.0240 - val_accuracy: 0.0047\n",
      "Epoch 12/200\n",
      "25/30 [========================>.....] - ETA: 0s - loss: 0.0234 - accuracy: 0.0050    \n",
      "Epoch 12: val_loss did not improve from 0.02382\n",
      "30/30 [==============================] - 0s 13ms/step - loss: 0.0241 - accuracy: 0.0042 - val_loss: 0.0251 - val_accuracy: 0.0047\n",
      "Epoch 13/200\n",
      "23/30 [======================>.......] - ETA: 0s - loss: 0.0255 - accuracy: 0.0054  \n",
      "Epoch 13: val_loss improved from 0.02382 to 0.02366, saving model to model\\tmp_checkpoint.h5\n",
      "30/30 [==============================] - 0s 12ms/step - loss: 0.0242 - accuracy: 0.0042 - val_loss: 0.0237 - val_accuracy: 0.0047\n",
      "Epoch 14/200\n",
      "28/30 [===========================>..] - ETA: 0s - loss: 0.0242 - accuracy: 0.0045  \n",
      "Epoch 14: val_loss improved from 0.02366 to 0.02358, saving model to model\\tmp_checkpoint.h5\n",
      "30/30 [==============================] - 0s 13ms/step - loss: 0.0235 - accuracy: 0.0042 - val_loss: 0.0236 - val_accuracy: 0.0047\n",
      "Epoch 15/200\n",
      "20/30 [===================>..........] - ETA: 0s - loss: 0.0223 - accuracy: 0.0063  \n",
      "Epoch 15: val_loss did not improve from 0.02358\n",
      "30/30 [==============================] - 0s 13ms/step - loss: 0.0233 - accuracy: 0.0042 - val_loss: 0.0239 - val_accuracy: 0.0047\n",
      "Epoch 16/200\n",
      "21/30 [====================>.........] - ETA: 0s - loss: 0.0249 - accuracy: 0.0030    \n",
      "Epoch 16: val_loss did not improve from 0.02358\n",
      "30/30 [==============================] - 0s 15ms/step - loss: 0.0236 - accuracy: 0.0042 - val_loss: 0.0252 - val_accuracy: 0.0021\n",
      "Epoch 17/200\n",
      "25/30 [========================>.....] - ETA: 0s - loss: 0.0241 - accuracy: 0.0050\n",
      "Epoch 17: val_loss improved from 0.02358 to 0.02337, saving model to model\\tmp_checkpoint.h5\n",
      "30/30 [==============================] - 1s 17ms/step - loss: 0.0235 - accuracy: 0.0042 - val_loss: 0.0234 - val_accuracy: 0.0047\n",
      "Epoch 18/200\n",
      "24/30 [=======================>......] - ETA: 0s - loss: 0.0225 - accuracy: 0.0052\n",
      "Epoch 18: val_loss did not improve from 0.02337\n",
      "30/30 [==============================] - 0s 13ms/step - loss: 0.0229 - accuracy: 0.0042 - val_loss: 0.0237 - val_accuracy: 0.0047\n",
      "Epoch 19/200\n",
      "23/30 [======================>.......] - ETA: 0s - loss: 0.0222 - accuracy: 0.0027  \n",
      "Epoch 19: val_loss did not improve from 0.02337\n",
      "30/30 [==============================] - 0s 11ms/step - loss: 0.0229 - accuracy: 0.0042 - val_loss: 0.0242 - val_accuracy: 0.0021\n",
      "Epoch 20/200\n",
      "24/30 [=======================>......] - ETA: 0s - loss: 0.0237 - accuracy: 0.0026\n",
      "Epoch 20: val_loss did not improve from 0.02337\n",
      "30/30 [==============================] - 0s 11ms/step - loss: 0.0239 - accuracy: 0.0021 - val_loss: 0.0234 - val_accuracy: 0.0047\n",
      "Epoch 21/200\n",
      "24/30 [=======================>......] - ETA: 0s - loss: 0.0224 - accuracy: 0.0000e+00\n",
      "Epoch 21: val_loss improved from 0.02337 to 0.02315, saving model to model\\tmp_checkpoint.h5\n",
      "30/30 [==============================] - 0s 13ms/step - loss: 0.0229 - accuracy: 0.0042 - val_loss: 0.0232 - val_accuracy: 0.0047\n",
      "Epoch 22/200\n",
      "29/30 [============================>.] - ETA: 0s - loss: 0.0230 - accuracy: 0.0043  \n",
      "Epoch 22: val_loss improved from 0.02315 to 0.02296, saving model to model\\tmp_checkpoint.h5\n",
      "30/30 [==============================] - 0s 15ms/step - loss: 0.0229 - accuracy: 0.0042 - val_loss: 0.0230 - val_accuracy: 0.0047\n",
      "Epoch 23/200\n",
      "23/30 [======================>.......] - ETA: 0s - loss: 0.0231 - accuracy: 0.0027\n",
      "Epoch 23: val_loss improved from 0.02296 to 0.02282, saving model to model\\tmp_checkpoint.h5\n",
      "30/30 [==============================] - 1s 22ms/step - loss: 0.0227 - accuracy: 0.0042 - val_loss: 0.0228 - val_accuracy: 0.0047\n",
      "Epoch 24/200\n",
      "24/30 [=======================>......] - ETA: 0s - loss: 0.0218 - accuracy: 0.0052  \n",
      "Epoch 24: val_loss improved from 0.02282 to 0.02280, saving model to model\\tmp_checkpoint.h5\n",
      "30/30 [==============================] - 0s 16ms/step - loss: 0.0222 - accuracy: 0.0042 - val_loss: 0.0228 - val_accuracy: 0.0047\n",
      "Epoch 25/200\n",
      "29/30 [============================>.] - ETA: 0s - loss: 0.0217 - accuracy: 0.0043  \n",
      "Epoch 25: val_loss did not improve from 0.02280\n",
      "30/30 [==============================] - 0s 14ms/step - loss: 0.0217 - accuracy: 0.0042 - val_loss: 0.0233 - val_accuracy: 0.0047\n",
      "Epoch 26/200\n",
      "28/30 [===========================>..] - ETA: 0s - loss: 0.0218 - accuracy: 0.0045\n",
      "Epoch 26: val_loss did not improve from 0.02280\n",
      "30/30 [==============================] - 0s 14ms/step - loss: 0.0220 - accuracy: 0.0042 - val_loss: 0.0241 - val_accuracy: 0.0047\n",
      "Epoch 27/200\n",
      "24/30 [=======================>......] - ETA: 0s - loss: 0.0215 - accuracy: 0.0026\n",
      "Epoch 27: val_loss did not improve from 0.02280\n",
      "30/30 [==============================] - 0s 14ms/step - loss: 0.0222 - accuracy: 0.0042 - val_loss: 0.0229 - val_accuracy: 0.0047\n",
      "Epoch 28/200\n",
      "22/30 [=====================>........] - ETA: 0s - loss: 0.0231 - accuracy: 0.0028    \n",
      "Epoch 28: val_loss improved from 0.02280 to 0.02255, saving model to model\\tmp_checkpoint.h5\n",
      "30/30 [==============================] - 0s 12ms/step - loss: 0.0218 - accuracy: 0.0042 - val_loss: 0.0226 - val_accuracy: 0.0047\n",
      "Epoch 29/200\n",
      "22/30 [=====================>........] - ETA: 0s - loss: 0.0215 - accuracy: 0.0028  \n",
      "Epoch 29: val_loss improved from 0.02255 to 0.02210, saving model to model\\tmp_checkpoint.h5\n",
      "30/30 [==============================] - 0s 13ms/step - loss: 0.0216 - accuracy: 0.0042 - val_loss: 0.0221 - val_accuracy: 0.0047\n",
      "Epoch 30/200\n",
      "30/30 [==============================] - ETA: 0s - loss: 0.0222 - accuracy: 0.0042\n",
      "Epoch 30: val_loss improved from 0.02210 to 0.02199, saving model to model\\tmp_checkpoint.h5\n",
      "30/30 [==============================] - 0s 16ms/step - loss: 0.0222 - accuracy: 0.0042 - val_loss: 0.0220 - val_accuracy: 0.0047\n",
      "Epoch 31/200\n",
      "28/30 [===========================>..] - ETA: 0s - loss: 0.0210 - accuracy: 0.0045\n",
      "Epoch 31: val_loss improved from 0.02199 to 0.02191, saving model to model\\tmp_checkpoint.h5\n",
      "30/30 [==============================] - 0s 14ms/step - loss: 0.0212 - accuracy: 0.0042 - val_loss: 0.0219 - val_accuracy: 0.0047\n",
      "Epoch 32/200\n",
      "28/30 [===========================>..] - ETA: 0s - loss: 0.0212 - accuracy: 0.0045\n",
      "Epoch 32: val_loss did not improve from 0.02191\n",
      "30/30 [==============================] - 0s 13ms/step - loss: 0.0213 - accuracy: 0.0042 - val_loss: 0.0222 - val_accuracy: 0.0047\n",
      "Epoch 33/200\n",
      "23/30 [======================>.......] - ETA: 0s - loss: 0.0194 - accuracy: 0.0027  \n",
      "Epoch 33: val_loss improved from 0.02191 to 0.02156, saving model to model\\tmp_checkpoint.h5\n",
      "30/30 [==============================] - 0s 13ms/step - loss: 0.0206 - accuracy: 0.0042 - val_loss: 0.0216 - val_accuracy: 0.0047\n",
      "Epoch 34/200\n",
      "26/30 [=========================>....] - ETA: 0s - loss: 0.0208 - accuracy: 0.0024\n",
      "Epoch 34: val_loss did not improve from 0.02156\n",
      "30/30 [==============================] - 1s 20ms/step - loss: 0.0209 - accuracy: 0.0042 - val_loss: 0.0217 - val_accuracy: 0.0047\n",
      "Epoch 35/200\n",
      "29/30 [============================>.] - ETA: 0s - loss: 0.0205 - accuracy: 0.0043  \n",
      "Epoch 35: val_loss did not improve from 0.02156\n",
      "30/30 [==============================] - 1s 19ms/step - loss: 0.0203 - accuracy: 0.0042 - val_loss: 0.0226 - val_accuracy: 0.0047\n",
      "Epoch 36/200\n",
      "25/30 [========================>.....] - ETA: 0s - loss: 0.0206 - accuracy: 0.0050\n",
      "Epoch 36: val_loss did not improve from 0.02156\n",
      "30/30 [==============================] - 0s 13ms/step - loss: 0.0203 - accuracy: 0.0042 - val_loss: 0.0216 - val_accuracy: 0.0047\n",
      "Epoch 37/200\n",
      "30/30 [==============================] - ETA: 0s - loss: 0.0203 - accuracy: 0.0042\n",
      "Epoch 37: val_loss did not improve from 0.02156\n",
      "30/30 [==============================] - 0s 14ms/step - loss: 0.0203 - accuracy: 0.0042 - val_loss: 0.0218 - val_accuracy: 0.0047\n",
      "Epoch 38/200\n",
      "27/30 [==========================>...] - ETA: 0s - loss: 0.0201 - accuracy: 0.0023    \n",
      "Epoch 38: val_loss improved from 0.02156 to 0.02114, saving model to model\\tmp_checkpoint.h5\n",
      "30/30 [==============================] - 0s 12ms/step - loss: 0.0202 - accuracy: 0.0042 - val_loss: 0.0211 - val_accuracy: 0.0047\n",
      "Epoch 39/200\n",
      "25/30 [========================>.....] - ETA: 0s - loss: 0.0200 - accuracy: 0.0025    \n",
      "Epoch 39: val_loss did not improve from 0.02114\n",
      "30/30 [==============================] - 0s 14ms/step - loss: 0.0196 - accuracy: 0.0042 - val_loss: 0.0212 - val_accuracy: 0.0047\n",
      "Epoch 40/200\n",
      "30/30 [==============================] - ETA: 0s - loss: 0.0194 - accuracy: 0.0042\n",
      "Epoch 40: val_loss improved from 0.02114 to 0.02034, saving model to model\\tmp_checkpoint.h5\n",
      "30/30 [==============================] - 0s 15ms/step - loss: 0.0194 - accuracy: 0.0042 - val_loss: 0.0203 - val_accuracy: 0.0047\n",
      "Epoch 41/200\n",
      "22/30 [=====================>........] - ETA: 0s - loss: 0.0197 - accuracy: 0.0057    \n",
      "Epoch 41: val_loss did not improve from 0.02034\n",
      "30/30 [==============================] - 0s 11ms/step - loss: 0.0194 - accuracy: 0.0042 - val_loss: 0.0205 - val_accuracy: 0.0047\n",
      "Epoch 42/200\n",
      "25/30 [========================>.....] - ETA: 0s - loss: 0.0194 - accuracy: 0.0025  \n",
      "Epoch 42: val_loss did not improve from 0.02034\n",
      "30/30 [==============================] - 0s 11ms/step - loss: 0.0199 - accuracy: 0.0042 - val_loss: 0.0210 - val_accuracy: 0.0047\n",
      "Epoch 43/200\n",
      "24/30 [=======================>......] - ETA: 0s - loss: 0.0191 - accuracy: 0.0026    \n",
      "Epoch 43: val_loss did not improve from 0.02034\n",
      "30/30 [==============================] - 0s 10ms/step - loss: 0.0199 - accuracy: 0.0042 - val_loss: 0.0226 - val_accuracy: 0.0047\n",
      "Epoch 44/200\n",
      "23/30 [======================>.......] - ETA: 0s - loss: 0.0209 - accuracy: 0.0054    \n",
      "Epoch 44: val_loss improved from 0.02034 to 0.02012, saving model to model\\tmp_checkpoint.h5\n",
      "30/30 [==============================] - 0s 12ms/step - loss: 0.0202 - accuracy: 0.0042 - val_loss: 0.0201 - val_accuracy: 0.0047\n",
      "Epoch 45/200\n",
      "22/30 [=====================>........] - ETA: 0s - loss: 0.0181 - accuracy: 0.0057  \n",
      "Epoch 45: val_loss did not improve from 0.02012\n",
      "30/30 [==============================] - 0s 11ms/step - loss: 0.0190 - accuracy: 0.0042 - val_loss: 0.0208 - val_accuracy: 0.0047\n",
      "Epoch 46/200\n",
      "23/30 [======================>.......] - ETA: 0s - loss: 0.0183 - accuracy: 0.0027\n",
      "Epoch 46: val_loss did not improve from 0.02012\n",
      "30/30 [==============================] - 0s 14ms/step - loss: 0.0190 - accuracy: 0.0042 - val_loss: 0.0202 - val_accuracy: 0.0047\n",
      "Epoch 47/200\n",
      "21/30 [====================>.........] - ETA: 0s - loss: 0.0175 - accuracy: 0.0060\n",
      "Epoch 47: val_loss improved from 0.02012 to 0.01949, saving model to model\\tmp_checkpoint.h5\n",
      "30/30 [==============================] - 0s 13ms/step - loss: 0.0188 - accuracy: 0.0042 - val_loss: 0.0195 - val_accuracy: 0.0047\n",
      "Epoch 48/200\n",
      "30/30 [==============================] - ETA: 0s - loss: 0.0186 - accuracy: 0.0042  \n",
      "Epoch 48: val_loss improved from 0.01949 to 0.01940, saving model to model\\tmp_checkpoint.h5\n",
      "30/30 [==============================] - 0s 12ms/step - loss: 0.0186 - accuracy: 0.0042 - val_loss: 0.0194 - val_accuracy: 0.0047\n",
      "Epoch 49/200\n",
      "29/30 [============================>.] - ETA: 0s - loss: 0.0187 - accuracy: 0.0022  \n",
      "Epoch 49: val_loss improved from 0.01940 to 0.01929, saving model to model\\tmp_checkpoint.h5\n",
      "30/30 [==============================] - 0s 16ms/step - loss: 0.0190 - accuracy: 0.0042 - val_loss: 0.0193 - val_accuracy: 0.0047\n",
      "Epoch 50/200\n",
      "21/30 [====================>.........] - ETA: 0s - loss: 0.0170 - accuracy: 0.0060  \n",
      "Epoch 50: val_loss did not improve from 0.01929\n",
      "30/30 [==============================] - 0s 12ms/step - loss: 0.0184 - accuracy: 0.0042 - val_loss: 0.0193 - val_accuracy: 0.0047\n",
      "Epoch 51/200\n",
      "28/30 [===========================>..] - ETA: 0s - loss: 0.0180 - accuracy: 0.0045  \n",
      "Epoch 51: val_loss did not improve from 0.01929\n",
      "30/30 [==============================] - 0s 14ms/step - loss: 0.0181 - accuracy: 0.0042 - val_loss: 0.0195 - val_accuracy: 0.0047\n",
      "Epoch 52/200\n",
      "29/30 [============================>.] - ETA: 0s - loss: 0.0194 - accuracy: 0.0043  \n",
      "Epoch 52: val_loss did not improve from 0.01929\n",
      "30/30 [==============================] - 0s 13ms/step - loss: 0.0193 - accuracy: 0.0042 - val_loss: 0.0196 - val_accuracy: 0.0047\n",
      "Epoch 53/200\n",
      "30/30 [==============================] - ETA: 0s - loss: 0.0184 - accuracy: 0.0042\n",
      "Epoch 53: val_loss improved from 0.01929 to 0.01924, saving model to model\\tmp_checkpoint.h5\n",
      "30/30 [==============================] - 0s 13ms/step - loss: 0.0184 - accuracy: 0.0042 - val_loss: 0.0192 - val_accuracy: 0.0047\n",
      "Epoch 54/200\n",
      "27/30 [==========================>...] - ETA: 0s - loss: 0.0188 - accuracy: 0.0046\n",
      "Epoch 54: val_loss did not improve from 0.01924\n",
      "30/30 [==============================] - 0s 13ms/step - loss: 0.0183 - accuracy: 0.0042 - val_loss: 0.0206 - val_accuracy: 0.0047\n",
      "Epoch 55/200\n",
      "29/30 [============================>.] - ETA: 0s - loss: 0.0190 - accuracy: 0.0043\n",
      "Epoch 55: val_loss did not improve from 0.01924\n",
      "30/30 [==============================] - 0s 13ms/step - loss: 0.0190 - accuracy: 0.0042 - val_loss: 0.0196 - val_accuracy: 0.0047\n",
      "Epoch 56/200\n",
      "30/30 [==============================] - ETA: 0s - loss: 0.0194 - accuracy: 0.0042  \n",
      "Epoch 56: val_loss did not improve from 0.01924\n",
      "30/30 [==============================] - 0s 12ms/step - loss: 0.0194 - accuracy: 0.0042 - val_loss: 0.0211 - val_accuracy: 0.0047\n",
      "Epoch 57/200\n",
      "21/30 [====================>.........] - ETA: 0s - loss: 0.0210 - accuracy: 0.0030  \n",
      "Epoch 57: val_loss did not improve from 0.01924\n",
      "30/30 [==============================] - 0s 12ms/step - loss: 0.0193 - accuracy: 0.0042 - val_loss: 0.0192 - val_accuracy: 0.0047\n",
      "Epoch 58/200\n",
      "21/30 [====================>.........] - ETA: 0s - loss: 0.0178 - accuracy: 0.0060    \n",
      "Epoch 58: val_loss improved from 0.01924 to 0.01871, saving model to model\\tmp_checkpoint.h5\n",
      "30/30 [==============================] - 0s 12ms/step - loss: 0.0181 - accuracy: 0.0042 - val_loss: 0.0187 - val_accuracy: 0.0047\n",
      "Epoch 59/200\n",
      "29/30 [============================>.] - ETA: 0s - loss: 0.0179 - accuracy: 0.0043    \n",
      "Epoch 59: val_loss did not improve from 0.01871\n",
      "30/30 [==============================] - 0s 12ms/step - loss: 0.0181 - accuracy: 0.0042 - val_loss: 0.0189 - val_accuracy: 0.0047\n",
      "Epoch 60/200\n",
      "27/30 [==========================>...] - ETA: 0s - loss: 0.0173 - accuracy: 0.0046  \n",
      "Epoch 60: val_loss did not improve from 0.01871\n",
      "30/30 [==============================] - 0s 12ms/step - loss: 0.0177 - accuracy: 0.0042 - val_loss: 0.0191 - val_accuracy: 0.0047\n",
      "Epoch 61/200\n",
      "21/30 [====================>.........] - ETA: 0s - loss: 0.0169 - accuracy: 0.0060\n",
      "Epoch 61: val_loss improved from 0.01871 to 0.01865, saving model to model\\tmp_checkpoint.h5\n",
      "30/30 [==============================] - 0s 12ms/step - loss: 0.0176 - accuracy: 0.0042 - val_loss: 0.0187 - val_accuracy: 0.0047\n",
      "Epoch 62/200\n",
      "23/30 [======================>.......] - ETA: 0s - loss: 0.0173 - accuracy: 0.0054\n",
      "Epoch 62: val_loss did not improve from 0.01865\n",
      "30/30 [==============================] - 0s 16ms/step - loss: 0.0178 - accuracy: 0.0042 - val_loss: 0.0189 - val_accuracy: 0.0047\n",
      "Epoch 63/200\n",
      "30/30 [==============================] - ETA: 0s - loss: 0.0177 - accuracy: 0.0042\n",
      "Epoch 63: val_loss did not improve from 0.01865\n",
      "30/30 [==============================] - 0s 12ms/step - loss: 0.0177 - accuracy: 0.0042 - val_loss: 0.0190 - val_accuracy: 0.0047\n",
      "Epoch 64/200\n",
      "21/30 [====================>.........] - ETA: 0s - loss: 0.0175 - accuracy: 0.0030  \n",
      "Epoch 64: val_loss did not improve from 0.01865\n",
      "30/30 [==============================] - 0s 12ms/step - loss: 0.0178 - accuracy: 0.0042 - val_loss: 0.0194 - val_accuracy: 0.0047\n",
      "Epoch 65/200\n",
      "22/30 [=====================>........] - ETA: 0s - loss: 0.0187 - accuracy: 0.0057  \n",
      "Epoch 65: val_loss improved from 0.01865 to 0.01864, saving model to model\\tmp_checkpoint.h5\n",
      "30/30 [==============================] - 0s 12ms/step - loss: 0.0177 - accuracy: 0.0042 - val_loss: 0.0186 - val_accuracy: 0.0047\n",
      "Epoch 66/200\n",
      "29/30 [============================>.] - ETA: 0s - loss: 0.0176 - accuracy: 0.0043  \n",
      "Epoch 66: val_loss did not improve from 0.01864\n",
      "30/30 [==============================] - 0s 12ms/step - loss: 0.0178 - accuracy: 0.0042 - val_loss: 0.0196 - val_accuracy: 0.0047\n",
      "Epoch 67/200\n",
      "29/30 [============================>.] - ETA: 0s - loss: 0.0174 - accuracy: 0.0043\n",
      "Epoch 67: val_loss improved from 0.01864 to 0.01849, saving model to model\\tmp_checkpoint.h5\n",
      "30/30 [==============================] - 0s 14ms/step - loss: 0.0175 - accuracy: 0.0042 - val_loss: 0.0185 - val_accuracy: 0.0047\n",
      "Epoch 68/200\n",
      "28/30 [===========================>..] - ETA: 0s - loss: 0.0175 - accuracy: 0.0022  \n",
      "Epoch 68: val_loss did not improve from 0.01849\n",
      "30/30 [==============================] - 0s 13ms/step - loss: 0.0175 - accuracy: 0.0042 - val_loss: 0.0191 - val_accuracy: 0.0047\n",
      "Epoch 69/200\n",
      "21/30 [====================>.........] - ETA: 0s - loss: 0.0188 - accuracy: 0.0060  \n",
      "Epoch 69: val_loss did not improve from 0.01849\n",
      "30/30 [==============================] - 0s 12ms/step - loss: 0.0184 - accuracy: 0.0042 - val_loss: 0.0186 - val_accuracy: 0.0047\n",
      "Epoch 70/200\n",
      "21/30 [====================>.........] - ETA: 0s - loss: 0.0172 - accuracy: 0.0000e+00\n",
      "Epoch 70: val_loss did not improve from 0.01849\n",
      "30/30 [==============================] - 0s 12ms/step - loss: 0.0174 - accuracy: 0.0042 - val_loss: 0.0189 - val_accuracy: 0.0047\n",
      "Epoch 71/200\n",
      "22/30 [=====================>........] - ETA: 0s - loss: 0.0174 - accuracy: 0.0028  \n",
      "Epoch 71: val_loss did not improve from 0.01849\n",
      "30/30 [==============================] - 0s 11ms/step - loss: 0.0175 - accuracy: 0.0042 - val_loss: 0.0192 - val_accuracy: 0.0047\n",
      "Epoch 72/200\n",
      "21/30 [====================>.........] - ETA: 0s - loss: 0.0183 - accuracy: 0.0060\n",
      "Epoch 72: val_loss did not improve from 0.01849\n",
      "30/30 [==============================] - 0s 12ms/step - loss: 0.0174 - accuracy: 0.0042 - val_loss: 0.0188 - val_accuracy: 0.0047\n"
     ]
    }
   ],
   "source": [
    "import os\n",
    "\n",
    "model.compile(loss='mean_squared_error', optimizer='adam',metrics=['accuracy'])\n",
    "early_stop = EarlyStopping(monitor='val_loss', patience=5)\n",
    "\n",
    "model_path = 'model'\n",
    "filename = os.path.join(model_path, 'tmp_checkpoint.h5')\n",
    "checkpoint = ModelCheckpoint(filename, monitor='val_loss', verbose=1, save_best_only=True, mode='auto')\n",
    "\n",
    "history = model.fit(x_train, y_train, \n",
    "                                    epochs=200, \n",
    "                                    batch_size=16,\n",
    "                                    validation_data=(x_valid, y_valid), \n",
    "                                    callbacks=[early_stop, checkpoint])"
   ]
  },
  {
   "cell_type": "code",
   "execution_count": 27,
   "metadata": {},
   "outputs": [
    {
     "name": "stdout",
     "output_type": "stream",
     "text": [
      "19/19 [==============================] - 0s 2ms/step\n"
     ]
    },
    {
     "data": {
      "text/plain": [
       "(580, 1)"
      ]
     },
     "execution_count": 27,
     "metadata": {},
     "output_type": "execute_result"
    }
   ],
   "source": [
    "model.load_weights(filename)\n",
    "pred = model.predict(test_feature)\n",
    "\n",
    "pred.shape"
   ]
  },
  {
   "cell_type": "code",
   "execution_count": 28,
   "metadata": {},
   "outputs": [
    {
     "data": {
      "image/png": "[encoded data removed]",
      "text/plain": [
       "<Figure size 864x648 with 1 Axes>"
      ]
     },
     "metadata": {
      "needs_background": "light"
     },
     "output_type": "display_data"
    }
   ],
   "source": [
    "plt.figure(figsize=(12, 9))\n",
    "plt.plot(test_label, label = 'actual')\n",
    "plt.plot(pred, label = 'prediction')\n",
    "plt.legend()\n",
    "plt.show()"
   ]
  },
  {
   "cell_type": "markdown",
   "metadata": {},
   "source": [
    "### 가진 데이터가 분포가 너무 넓어서, 일반 회귀 모델은 사용했을 때 정확도가 떨어짐. 분류회귀모델과 클러스터링 모델을 사용하는 것으로 변경함(random forest는 안고 가자)"
   ]
  },
  {
   "cell_type": "code",
   "execution_count": null,
   "metadata": {},
   "outputs": [],
   "source": []
  }
 ],
 "metadata": {
  "kernelspec": {
   "display_name": "Python 3.10.8 64-bit (microsoft store)",
   "language": "python",
   "name": "python3"
  },
  "language_info": {
   "codemirror_mode": {
    "name": "ipython",
    "version": 3
   },
   "file_extension": ".py",
   "mimetype": "text/x-python",
   "name": "python",
   "nbconvert_exporter": "python",
   "pygments_lexer": "ipython3",
   "version": "3.10.8"
  },
  "orig_nbformat": 4,
  "vscode": {
   "interpreter": {
    "hash": "8bf0d51478355d2251941b3b98616086516a0eddd7c72ee47a3371765770709a"
   }
  }
 },
 "nbformat": 4,
 "nbformat_minor": 2
}
