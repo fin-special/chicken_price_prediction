{
 "cells": [
  {
   "cell_type": "markdown",
   "metadata": {},
   "source": [
    "### 형태소 분석"
   ]
  },
  {
   "cell_type": "code",
   "execution_count": 18,
   "metadata": {},
   "outputs": [],
   "source": [
    "from konlpy.tag import Okt, Kkma, Komoran\n",
    "from collections import Counter\n",
    "\n",
    "import pandas as pd"
   ]
  },
  {
   "cell_type": "code",
   "execution_count": 22,
   "metadata": {},
   "outputs": [],
   "source": [
    "filename = './data/닭고기가격_2012_2021/닭고기_가격_2021년1월뉴스.csv'\n",
    "f = open(filename, 'r', encoding='utf-8')\n",
    "news = f.read()"
   ]
  },
  {
   "cell_type": "code",
   "execution_count": 71,
   "metadata": {},
   "outputs": [],
   "source": [
    "# for i in range(2017, 2022):\n",
    "#     for j in range(1, 13):\n",
    "#         filename = f'./data/닭고기가격2017-2021/닭고기_가격_{i}년{j}월뉴스.csv'\n",
    "#         f = open(filename, 'r', encoding='utf-8')\n",
    "#         news = f.read()"
   ]
  },
  {
   "cell_type": "markdown",
   "metadata": {},
   "source": [
    "#### Kkma"
   ]
  },
  {
   "cell_type": "code",
   "execution_count": 16,
   "metadata": {},
   "outputs": [],
   "source": [
    "kkma = Kkma()\n",
    "noun = kkma.nouns(news)\n",
    "count = Counter(noun)"
   ]
  },
  {
   "cell_type": "code",
   "execution_count": null,
   "metadata": {},
   "outputs": [],
   "source": [
    "noun_list = count.most_common(500)\n",
    "for i in noun_list:\n",
    "    print(i)"
   ]
  },
  {
   "cell_type": "markdown",
   "metadata": {},
   "source": [
    "#### Okt"
   ]
  },
  {
   "cell_type": "code",
   "execution_count": 23,
   "metadata": {},
   "outputs": [],
   "source": [
    "okt = Okt()\n",
    "morphs = okt.morphs(news)\n",
    "count = Counter(morphs)"
   ]
  },
  {
   "cell_type": "code",
   "execution_count": 24,
   "metadata": {},
   "outputs": [
    {
     "name": "stdout",
     "output_type": "stream",
     "text": [
      "('이', 169)\n",
      "('을', 123)\n",
      "('가격', 106)\n",
      "('는', 74)\n",
      "('의', 71)\n",
      "('에', 65)\n",
      "('가', 63)\n",
      "('했다', 59)\n",
      "('를', 56)\n",
      "('은', 54)\n",
      "('치킨', 54)\n",
      "('으로', 50)\n",
      "('한', 50)\n",
      "('등', 47)\n",
      "('1', 38)\n",
      "('설', 33)\n",
      "('닭', 32)\n",
      "('품', 31)\n",
      "('도', 30)\n",
      "('것', 29)\n",
      "('고', 29)\n",
      "('로', 28)\n",
      "('인상', 28)\n",
      "('성수', 28)\n",
      "('있다', 28)\n",
      "('에서', 26)\n",
      "('이다', 25)\n",
      "('와', 23)\n",
      "('과', 23)\n",
      "('품목', 22)\n",
      "('소비자', 22)\n",
      "('안정', 22)\n",
      "('공급', 22)\n",
      "('하고', 22)\n",
      "('닭고기', 21)\n",
      "('정부', 20)\n",
      "(',', 19)\n",
      "('다', 19)\n",
      "('개', 18)\n",
      "('해', 18)\n",
      "('들', 18)\n",
      "('수급', 18)\n",
      "('업체', 17)\n",
      "('.', 16)\n",
      "('말', 16)\n",
      "('하는', 16)\n",
      "('물가', 16)\n",
      "('적', 16)\n",
      "('상승', 16)\n",
      "('교촌', 16)\n",
      "('한국', 16)\n",
      "('할', 15)\n",
      "('조사', 15)\n",
      "('원', 15)\n",
      "('황씨', 15)\n",
      "('전', 15)\n",
      "('결과', 14)\n",
      "('하락', 14)\n",
      "('대비', 14)\n",
      "('업계', 13)\n",
      "('차관', 12)\n",
      "('중', 12)\n",
      "('확대', 12)\n",
      "('5', 12)\n",
      "('주장', 12)\n",
      "('세', 11)\n",
      "('수', 11)\n",
      "('시장', 11)\n",
      "('대', 11)\n",
      "('할인', 11)\n",
      "('가장', 11)\n",
      "('계획', 11)\n",
      "('맛', 11)\n",
      "('수입', 11)\n",
      "('에는', 10)\n",
      "('배추', 10)\n",
      "('사과', 10)\n",
      "('BBQ', 10)\n",
      "('9', 10)\n",
      "('수산물', 10)\n",
      "('감시', 9)\n",
      "('인', 9)\n",
      "('동향', 9)\n",
      "('발표', 9)\n",
      "('16', 9)\n",
      "('쌀', 9)\n",
      "('및', 9)\n",
      "('bhc', 9)\n",
      "('됐다', 9)\n",
      "('까지', 9)\n",
      "('경우', 9)\n",
      "('육계', 9)\n",
      "('며', 9)\n",
      "('크기', 9)\n",
      "('10', 9)\n",
      "('소비', 9)\n",
      "('물량', 9)\n",
      "('2.01', 8)\n",
      "('담합', 8)\n",
      "('대한', 8)\n"
     ]
    }
   ],
   "source": [
    "morphs_list = count.most_common(100)\n",
    "for i in morphs_list:\n",
    "    print(i)"
   ]
  },
  {
   "cell_type": "markdown",
   "metadata": {},
   "source": [
    "#### Komoran"
   ]
  },
  {
   "cell_type": "code",
   "execution_count": 15,
   "metadata": {},
   "outputs": [],
   "source": [
    "komoran = Komoran()\n",
    "noun = komoran.nouns(news)\n",
    "count = Counter(noun)"
   ]
  },
  {
   "cell_type": "code",
   "execution_count": 16,
   "metadata": {},
   "outputs": [
    {
     "name": "stdout",
     "output_type": "stream",
     "text": [
      "('등', 542)\n",
      "('원', 479)\n",
      "('일', 349)\n",
      "('것', 345)\n",
      "('가격', 289)\n",
      "('수', 248)\n",
      "('개', 222)\n",
      "('닭고기', 217)\n",
      "('설', 215)\n",
      "('시장', 211)\n",
      "('오리', 175)\n",
      "('닭', 168)\n",
      "('경제', 162)\n",
      "('하락', 160)\n",
      "('기자', 158)\n",
      "('관련', 147)\n",
      "('발생', 136)\n",
      "('금지', 135)\n",
      "('배포', 133)\n",
      "('무단', 131)\n",
      "('품목', 131)\n",
      "('전재', 127)\n",
      "('상승', 123)\n",
      "('중', 123)\n",
      "('시', 121)\n",
      "('판매', 118)\n",
      "('년', 110)\n",
      "('주', 109)\n",
      "('마트', 106)\n",
      "('지난해', 102)\n",
      "('물가', 100)\n",
      "('뉴스', 99)\n",
      "('오전', 99)\n",
      "('전통', 96)\n",
      "('브랜드', 96)\n",
      "('치킨', 92)\n",
      "('전국', 91)\n",
      "('오후', 89)\n",
      "('비용', 89)\n",
      "('소비', 88)\n",
      "('대형', 88)\n",
      "('공급', 87)\n",
      "('.com', 87)\n",
      "('수산', 87)\n",
      "('조류', 85)\n",
      "('거래', 85)\n",
      "('업체', 83)\n",
      "('운영', 82)\n",
      "('주가', 82)\n",
      "('품', 80)\n",
      "('농가', 79)\n",
      "('차례', 79)\n",
      "('국내', 77)\n",
      "('성수', 77)\n",
      "('확산', 77)\n",
      "('곳', 77)\n",
      "('때문', 76)\n",
      "('대', 75)\n",
      "('메뉴', 75)\n",
      "('말', 73)\n",
      "('종목', 73)\n",
      "('지역', 71)\n",
      "('감소', 70)\n",
      "('안정', 70)\n",
      "('급등', 70)\n",
      "('병원', 70)\n",
      "('헤럴드', 70)\n",
      "('조사', 69)\n",
      "('소비자', 68)\n",
      "('농협', 68)\n",
      "('자', 68)\n",
      "('살', 67)\n",
      "('농장', 67)\n",
      "('저작권', 66)\n",
      "('배', 65)\n",
      "('모바일', 65)\n",
      "('대비', 65)\n",
      "('식품', 63)\n",
      "('반면', 63)\n",
      "('기록', 63)\n",
      "('.kr', 62)\n",
      "('처분', 61)\n",
      "('마리', 61)\n",
      "('점', 60)\n",
      "('.co', 59)\n",
      "('매장', 59)\n",
      "('이상', 58)\n",
      "('종', 58)\n",
      "('고객', 58)\n",
      "('관계자', 57)\n",
      "('류', 57)\n",
      "('이날', 57)\n",
      "('대책', 57)\n",
      "('기관', 56)\n",
      "('유통', 56)\n",
      "('이번', 55)\n",
      "('업계', 55)\n",
      "('대표', 55)\n",
      "('매출', 54)\n",
      "('돼지고기', 54)\n"
     ]
    }
   ],
   "source": [
    "noun_list = count.most_common(100)\n",
    "for i in noun_list:\n",
    "    print(i)"
   ]
  },
  {
   "cell_type": "code",
   "execution_count": null,
   "metadata": {},
   "outputs": [],
   "source": [
    "remove_char_counter = Counter({x : count[x] for x in count if len(x) > 1})\n",
    "print(remove_char_counter)"
   ]
  },
  {
   "cell_type": "code",
   "execution_count": null,
   "metadata": {},
   "outputs": [],
   "source": [
    "korean_stopwords_path = './data/korean_stopwords.txt'\n",
    "\n",
    "with open(korean_stopwords_path, encoding='utf-8') as f:\n",
    "    stopwords = f.readlines()\n",
    "stopwords = [x.strip() for x in stopwords]\n",
    "\n",
    "# 문서의 특징에 따른 불용어 추가\n",
    "news_stopwords = ['.kr', '.com', '.co', '뉴시스']\n",
    "for stopword in news_stopwords:\n",
    "    stopwords.append(stopword)\n",
    "\n",
    "remove_char_counter = Counter({x : remove_char_counter[x] for x in count if x not in stopwords})\n",
    "print(remove_char_counter)"
   ]
  },
  {
   "cell_type": "code",
   "execution_count": null,
   "metadata": {},
   "outputs": [],
   "source": [
    "ranked_tags = remove_char_counter.most_common(100)\n",
    "print(ranked_tags)"
   ]
  },
  {
   "cell_type": "code",
   "execution_count": 68,
   "metadata": {},
   "outputs": [],
   "source": [
    "# 데이터프레임으로 변환\n",
    "ranked_tags_df = pd.DataFrame(ranked_tags, columns=['tags', 'count'])"
   ]
  },
  {
   "cell_type": "code",
   "execution_count": 69,
   "metadata": {},
   "outputs": [],
   "source": [
    "ranked_tags_df.to_csv('./pre_data/닭/닭빈도2017-1.csv', index=False)"
   ]
  },
  {
   "cell_type": "code",
   "execution_count": null,
   "metadata": {},
   "outputs": [],
   "source": []
  }
 ],
 "metadata": {
  "kernelspec": {
   "display_name": "Python 3.10.4 ('py3_10_4')",
   "language": "python",
   "name": "python3"
  },
  "language_info": {
   "codemirror_mode": {
    "name": "ipython",
    "version": 3
   },
   "file_extension": ".py",
   "mimetype": "text/x-python",
   "name": "python",
   "nbconvert_exporter": "python",
   "pygments_lexer": "ipython3",
   "version": "3.10.4"
  },
  "orig_nbformat": 4,
  "vscode": {
   "interpreter": {
    "hash": "15dc366109660a86d4d77e5331c748e0d181628ec5ba3643e97cd9995083175c"
   }
  }
 },
 "nbformat": 4,
 "nbformat_minor": 2
}
