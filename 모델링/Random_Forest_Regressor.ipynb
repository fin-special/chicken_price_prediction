{
 "cells": [
  {
   "cell_type": "code",
   "execution_count": 13,
   "metadata": {},
   "outputs": [],
   "source": [
    "import pandas as pd\n",
    "import numpy as np\n",
    "import seaborn as sns\n",
    "import matplotlib.pyplot as plt\n",
    "import datetime as dt\n",
    "from matplotlib import font_manager, rc\n",
    "from sklearn.model_selection import train_test_split\n",
    "from sklearn.ensemble import RandomForestRegressor\n",
    "from sklearn.model_selection import cross_val_score"
   ]
  },
  {
   "cell_type": "code",
   "execution_count": null,
   "metadata": {},
   "outputs": [],
   "source": [
    "# 한글 깨짐 방지 코드\n",
    "font_name = font_manager.FontProperties(fname=\"c:/Windows/Fonts/malgun.ttf\").get_name()\n",
    "rc('font', family=font_name)"
   ]
  },
  {
   "cell_type": "markdown",
   "metadata": {},
   "source": [
    "# 월별"
   ]
  },
  {
   "cell_type": "code",
   "execution_count": 18,
   "metadata": {},
   "outputs": [
    {
     "data": {
      "text/html": [
       "<div>\n",
       "<style scoped>\n",
       "    .dataframe tbody tr th:only-of-type {\n",
       "        vertical-align: middle;\n",
       "    }\n",
       "\n",
       "    .dataframe tbody tr th {\n",
       "        vertical-align: top;\n",
       "    }\n",
       "\n",
       "    .dataframe thead th {\n",
       "        text-align: right;\n",
       "    }\n",
       "</style>\n",
       "<table border=\"1\" class=\"dataframe\">\n",
       "  <thead>\n",
       "    <tr style=\"text-align: right;\">\n",
       "      <th></th>\n",
       "      <th>닭고기가격</th>\n",
       "      <th>병아리(원/수)</th>\n",
       "      <th>hot_day</th>\n",
       "      <th>import amount</th>\n",
       "      <th>feedprice</th>\n",
       "      <th>oil_avg</th>\n",
       "      <th>도축</th>\n",
       "      <th>소_소비자가_int</th>\n",
       "      <th>돼지_소비자가_int</th>\n",
       "      <th>미국기준금리</th>\n",
       "      <th>한국기준금리</th>\n",
       "    </tr>\n",
       "  </thead>\n",
       "  <tbody>\n",
       "    <tr>\n",
       "      <th>0</th>\n",
       "      <td>3202</td>\n",
       "      <td>250</td>\n",
       "      <td>0</td>\n",
       "      <td>8754</td>\n",
       "      <td>533.6</td>\n",
       "      <td>107.066111</td>\n",
       "      <td>58873</td>\n",
       "      <td>59981</td>\n",
       "      <td>18465</td>\n",
       "      <td>0.25</td>\n",
       "      <td>3.25</td>\n",
       "    </tr>\n",
       "    <tr>\n",
       "      <th>2</th>\n",
       "      <td>3668</td>\n",
       "      <td>420</td>\n",
       "      <td>0</td>\n",
       "      <td>10098</td>\n",
       "      <td>529.9</td>\n",
       "      <td>112.537302</td>\n",
       "      <td>55879</td>\n",
       "      <td>56019</td>\n",
       "      <td>16634</td>\n",
       "      <td>0.75</td>\n",
       "      <td>3.25</td>\n",
       "    </tr>\n",
       "    <tr>\n",
       "      <th>3</th>\n",
       "      <td>4169</td>\n",
       "      <td>500</td>\n",
       "      <td>0</td>\n",
       "      <td>10836</td>\n",
       "      <td>527.9</td>\n",
       "      <td>117.745606</td>\n",
       "      <td>58750</td>\n",
       "      <td>50899</td>\n",
       "      <td>16317</td>\n",
       "      <td>0.25</td>\n",
       "      <td>3.25</td>\n",
       "    </tr>\n",
       "    <tr>\n",
       "      <th>4</th>\n",
       "      <td>3399</td>\n",
       "      <td>332</td>\n",
       "      <td>0</td>\n",
       "      <td>13412</td>\n",
       "      <td>526.3</td>\n",
       "      <td>113.723667</td>\n",
       "      <td>60940</td>\n",
       "      <td>53879</td>\n",
       "      <td>15882</td>\n",
       "      <td>0.25</td>\n",
       "      <td>3.25</td>\n",
       "    </tr>\n",
       "    <tr>\n",
       "      <th>5</th>\n",
       "      <td>3255</td>\n",
       "      <td>200</td>\n",
       "      <td>0</td>\n",
       "      <td>14519</td>\n",
       "      <td>526.2</td>\n",
       "      <td>104.184710</td>\n",
       "      <td>73505</td>\n",
       "      <td>55403</td>\n",
       "      <td>16798</td>\n",
       "      <td>0.25</td>\n",
       "      <td>3.25</td>\n",
       "    </tr>\n",
       "    <tr>\n",
       "      <th>...</th>\n",
       "      <td>...</td>\n",
       "      <td>...</td>\n",
       "      <td>...</td>\n",
       "      <td>...</td>\n",
       "      <td>...</td>\n",
       "      <td>...</td>\n",
       "      <td>...</td>\n",
       "      <td>...</td>\n",
       "      <td>...</td>\n",
       "      <td>...</td>\n",
       "      <td>...</td>\n",
       "    </tr>\n",
       "    <tr>\n",
       "      <th>117</th>\n",
       "      <td>3505</td>\n",
       "      <td>312</td>\n",
       "      <td>3</td>\n",
       "      <td>9360</td>\n",
       "      <td>492.0</td>\n",
       "      <td>69.247955</td>\n",
       "      <td>89892</td>\n",
       "      <td>99247</td>\n",
       "      <td>26078</td>\n",
       "      <td>0.25</td>\n",
       "      <td>0.75</td>\n",
       "    </tr>\n",
       "    <tr>\n",
       "      <th>118</th>\n",
       "      <td>3074</td>\n",
       "      <td>408</td>\n",
       "      <td>0</td>\n",
       "      <td>9009</td>\n",
       "      <td>503.0</td>\n",
       "      <td>72.975152</td>\n",
       "      <td>81026</td>\n",
       "      <td>103039</td>\n",
       "      <td>26346</td>\n",
       "      <td>0.25</td>\n",
       "      <td>0.75</td>\n",
       "    </tr>\n",
       "    <tr>\n",
       "      <th>119</th>\n",
       "      <td>3913</td>\n",
       "      <td>447</td>\n",
       "      <td>0</td>\n",
       "      <td>12005</td>\n",
       "      <td>508.0</td>\n",
       "      <td>82.193333</td>\n",
       "      <td>81228</td>\n",
       "      <td>110791</td>\n",
       "      <td>25977</td>\n",
       "      <td>0.25</td>\n",
       "      <td>0.75</td>\n",
       "    </tr>\n",
       "    <tr>\n",
       "      <th>120</th>\n",
       "      <td>2985</td>\n",
       "      <td>315</td>\n",
       "      <td>0</td>\n",
       "      <td>10025</td>\n",
       "      <td>520.0</td>\n",
       "      <td>79.858712</td>\n",
       "      <td>86819</td>\n",
       "      <td>107207</td>\n",
       "      <td>25217</td>\n",
       "      <td>0.25</td>\n",
       "      <td>1.00</td>\n",
       "    </tr>\n",
       "    <tr>\n",
       "      <th>121</th>\n",
       "      <td>3320</td>\n",
       "      <td>273</td>\n",
       "      <td>0</td>\n",
       "      <td>11293</td>\n",
       "      <td>511.0</td>\n",
       "      <td>73.308986</td>\n",
       "      <td>90151</td>\n",
       "      <td>108714</td>\n",
       "      <td>27036</td>\n",
       "      <td>0.25</td>\n",
       "      <td>1.00</td>\n",
       "    </tr>\n",
       "  </tbody>\n",
       "</table>\n",
       "<p>120 rows × 11 columns</p>\n",
       "</div>"
      ],
      "text/plain": [
       "     닭고기가격  병아리(원/수)  hot_day  import amount  feedprice     oil_avg     도축  \\\n",
       "0     3202       250        0           8754      533.6  107.066111  58873   \n",
       "2     3668       420        0          10098      529.9  112.537302  55879   \n",
       "3     4169       500        0          10836      527.9  117.745606  58750   \n",
       "4     3399       332        0          13412      526.3  113.723667  60940   \n",
       "5     3255       200        0          14519      526.2  104.184710  73505   \n",
       "..     ...       ...      ...            ...        ...         ...    ...   \n",
       "117   3505       312        3           9360      492.0   69.247955  89892   \n",
       "118   3074       408        0           9009      503.0   72.975152  81026   \n",
       "119   3913       447        0          12005      508.0   82.193333  81228   \n",
       "120   2985       315        0          10025      520.0   79.858712  86819   \n",
       "121   3320       273        0          11293      511.0   73.308986  90151   \n",
       "\n",
       "     소_소비자가_int  돼지_소비자가_int  미국기준금리  한국기준금리  \n",
       "0         59981        18465    0.25    3.25  \n",
       "2         56019        16634    0.75    3.25  \n",
       "3         50899        16317    0.25    3.25  \n",
       "4         53879        15882    0.25    3.25  \n",
       "5         55403        16798    0.25    3.25  \n",
       "..          ...          ...     ...     ...  \n",
       "117       99247        26078    0.25    0.75  \n",
       "118      103039        26346    0.25    0.75  \n",
       "119      110791        25977    0.25    0.75  \n",
       "120      107207        25217    0.25    1.00  \n",
       "121      108714        27036    0.25    1.00  \n",
       "\n",
       "[120 rows x 11 columns]"
      ]
     },
     "execution_count": 18,
     "metadata": {},
     "output_type": "execute_result"
    }
   ],
   "source": [
    "month_data = pd.read_csv('../pre_data/월별_통합_모델링용.csv', index_col=0)\n",
    "month_data = month_data.drop(columns='date')\n",
    "month_data"
   ]
  },
  {
   "cell_type": "code",
   "execution_count": 19,
   "metadata": {},
   "outputs": [],
   "source": [
    "# feature = month_data[['병아리(원/수)', 'hot_day', 'import amount', 'feedprice', 'oil_avg', '도축', '소_소비자가_int', '돼지_소비자가_int', '미국기준금리', '한국기준금리']]\n",
    "feature = month_data.drop(columns=['닭고기가격'])\n",
    "target = month_data['닭고기가격']\n",
    "\n",
    "X_train, X_test, Y_train, y_test = train_test_split(feature, target, test_size=0.3, random_state=2022)"
   ]
  },
  {
   "cell_type": "code",
   "execution_count": 20,
   "metadata": {},
   "outputs": [
    {
     "data": {
      "text/html": [
       "<style>#sk-container-id-2 {color: black;background-color: white;}#sk-container-id-2 pre{padding: 0;}#sk-container-id-2 div.sk-toggleable {background-color: white;}#sk-container-id-2 label.sk-toggleable__label {cursor: pointer;display: block;width: 100%;margin-bottom: 0;padding: 0.3em;box-sizing: border-box;text-align: center;}#sk-container-id-2 label.sk-toggleable__label-arrow:before {content: \"▸\";float: left;margin-right: 0.25em;color: #696969;}#sk-container-id-2 label.sk-toggleable__label-arrow:hover:before {color: black;}#sk-container-id-2 div.sk-estimator:hover label.sk-toggleable__label-arrow:before {color: black;}#sk-container-id-2 div.sk-toggleable__content {max-height: 0;max-width: 0;overflow: hidden;text-align: left;background-color: #f0f8ff;}#sk-container-id-2 div.sk-toggleable__content pre {margin: 0.2em;color: black;border-radius: 0.25em;background-color: #f0f8ff;}#sk-container-id-2 input.sk-toggleable__control:checked~div.sk-toggleable__content {max-height: 200px;max-width: 100%;overflow: auto;}#sk-container-id-2 input.sk-toggleable__control:checked~label.sk-toggleable__label-arrow:before {content: \"▾\";}#sk-container-id-2 div.sk-estimator input.sk-toggleable__control:checked~label.sk-toggleable__label {background-color: #d4ebff;}#sk-container-id-2 div.sk-label input.sk-toggleable__control:checked~label.sk-toggleable__label {background-color: #d4ebff;}#sk-container-id-2 input.sk-hidden--visually {border: 0;clip: rect(1px 1px 1px 1px);clip: rect(1px, 1px, 1px, 1px);height: 1px;margin: -1px;overflow: hidden;padding: 0;position: absolute;width: 1px;}#sk-container-id-2 div.sk-estimator {font-family: monospace;background-color: #f0f8ff;border: 1px dotted black;border-radius: 0.25em;box-sizing: border-box;margin-bottom: 0.5em;}#sk-container-id-2 div.sk-estimator:hover {background-color: #d4ebff;}#sk-container-id-2 div.sk-parallel-item::after {content: \"\";width: 100%;border-bottom: 1px solid gray;flex-grow: 1;}#sk-container-id-2 div.sk-label:hover label.sk-toggleable__label {background-color: #d4ebff;}#sk-container-id-2 div.sk-serial::before {content: \"\";position: absolute;border-left: 1px solid gray;box-sizing: border-box;top: 0;bottom: 0;left: 50%;z-index: 0;}#sk-container-id-2 div.sk-serial {display: flex;flex-direction: column;align-items: center;background-color: white;padding-right: 0.2em;padding-left: 0.2em;position: relative;}#sk-container-id-2 div.sk-item {position: relative;z-index: 1;}#sk-container-id-2 div.sk-parallel {display: flex;align-items: stretch;justify-content: center;background-color: white;position: relative;}#sk-container-id-2 div.sk-item::before, #sk-container-id-2 div.sk-parallel-item::before {content: \"\";position: absolute;border-left: 1px solid gray;box-sizing: border-box;top: 0;bottom: 0;left: 50%;z-index: -1;}#sk-container-id-2 div.sk-parallel-item {display: flex;flex-direction: column;z-index: 1;position: relative;background-color: white;}#sk-container-id-2 div.sk-parallel-item:first-child::after {align-self: flex-end;width: 50%;}#sk-container-id-2 div.sk-parallel-item:last-child::after {align-self: flex-start;width: 50%;}#sk-container-id-2 div.sk-parallel-item:only-child::after {width: 0;}#sk-container-id-2 div.sk-dashed-wrapped {border: 1px dashed gray;margin: 0 0.4em 0.5em 0.4em;box-sizing: border-box;padding-bottom: 0.4em;background-color: white;}#sk-container-id-2 div.sk-label label {font-family: monospace;font-weight: bold;display: inline-block;line-height: 1.2em;}#sk-container-id-2 div.sk-label-container {text-align: center;}#sk-container-id-2 div.sk-container {/* jupyter's `normalize.less` sets `[hidden] { display: none; }` but bootstrap.min.css set `[hidden] { display: none !important; }` so we also need the `!important` here to be able to override the default hidden behavior on the sphinx rendered scikit-learn.org. See: https://github.com/scikit-learn/scikit-learn/issues/21755 */display: inline-block !important;position: relative;}#sk-container-id-2 div.sk-text-repr-fallback {display: none;}</style><div id=\"sk-container-id-2\" class=\"sk-top-container\"><div class=\"sk-text-repr-fallback\"><pre>RandomForestRegressor()</pre><b>In a Jupyter environment, please rerun this cell to show the HTML representation or trust the notebook. <br />On GitHub, the HTML representation is unable to render, please try loading this page with nbviewer.org.</b></div><div class=\"sk-container\" hidden><div class=\"sk-item\"><div class=\"sk-estimator sk-toggleable\"><input class=\"sk-toggleable__control sk-hidden--visually\" id=\"sk-estimator-id-2\" type=\"checkbox\" checked><label for=\"sk-estimator-id-2\" class=\"sk-toggleable__label sk-toggleable__label-arrow\">RandomForestRegressor</label><div class=\"sk-toggleable__content\"><pre>RandomForestRegressor()</pre></div></div></div></div></div>"
      ],
      "text/plain": [
       "RandomForestRegressor()"
      ]
     },
     "execution_count": 20,
     "metadata": {},
     "output_type": "execute_result"
    }
   ],
   "source": [
    "RF_model = RandomForestRegressor()\n",
    "RF_model.fit(feature,target)"
   ]
  },
  {
   "cell_type": "code",
   "execution_count": 21,
   "metadata": {},
   "outputs": [],
   "source": [
    "n_estimators = 10 \n",
    "max_features = 4 \n",
    "\n",
    "RF_reg = RandomForestRegressor(n_estimators=n_estimators, random_state=0, max_features=max_features) "
   ]
  },
  {
   "cell_type": "code",
   "execution_count": 22,
   "metadata": {},
   "outputs": [
    {
     "data": {
      "text/html": [
       "<style>#sk-container-id-3 {color: black;background-color: white;}#sk-container-id-3 pre{padding: 0;}#sk-container-id-3 div.sk-toggleable {background-color: white;}#sk-container-id-3 label.sk-toggleable__label {cursor: pointer;display: block;width: 100%;margin-bottom: 0;padding: 0.3em;box-sizing: border-box;text-align: center;}#sk-container-id-3 label.sk-toggleable__label-arrow:before {content: \"▸\";float: left;margin-right: 0.25em;color: #696969;}#sk-container-id-3 label.sk-toggleable__label-arrow:hover:before {color: black;}#sk-container-id-3 div.sk-estimator:hover label.sk-toggleable__label-arrow:before {color: black;}#sk-container-id-3 div.sk-toggleable__content {max-height: 0;max-width: 0;overflow: hidden;text-align: left;background-color: #f0f8ff;}#sk-container-id-3 div.sk-toggleable__content pre {margin: 0.2em;color: black;border-radius: 0.25em;background-color: #f0f8ff;}#sk-container-id-3 input.sk-toggleable__control:checked~div.sk-toggleable__content {max-height: 200px;max-width: 100%;overflow: auto;}#sk-container-id-3 input.sk-toggleable__control:checked~label.sk-toggleable__label-arrow:before {content: \"▾\";}#sk-container-id-3 div.sk-estimator input.sk-toggleable__control:checked~label.sk-toggleable__label {background-color: #d4ebff;}#sk-container-id-3 div.sk-label input.sk-toggleable__control:checked~label.sk-toggleable__label {background-color: #d4ebff;}#sk-container-id-3 input.sk-hidden--visually {border: 0;clip: rect(1px 1px 1px 1px);clip: rect(1px, 1px, 1px, 1px);height: 1px;margin: -1px;overflow: hidden;padding: 0;position: absolute;width: 1px;}#sk-container-id-3 div.sk-estimator {font-family: monospace;background-color: #f0f8ff;border: 1px dotted black;border-radius: 0.25em;box-sizing: border-box;margin-bottom: 0.5em;}#sk-container-id-3 div.sk-estimator:hover {background-color: #d4ebff;}#sk-container-id-3 div.sk-parallel-item::after {content: \"\";width: 100%;border-bottom: 1px solid gray;flex-grow: 1;}#sk-container-id-3 div.sk-label:hover label.sk-toggleable__label {background-color: #d4ebff;}#sk-container-id-3 div.sk-serial::before {content: \"\";position: absolute;border-left: 1px solid gray;box-sizing: border-box;top: 0;bottom: 0;left: 50%;z-index: 0;}#sk-container-id-3 div.sk-serial {display: flex;flex-direction: column;align-items: center;background-color: white;padding-right: 0.2em;padding-left: 0.2em;position: relative;}#sk-container-id-3 div.sk-item {position: relative;z-index: 1;}#sk-container-id-3 div.sk-parallel {display: flex;align-items: stretch;justify-content: center;background-color: white;position: relative;}#sk-container-id-3 div.sk-item::before, #sk-container-id-3 div.sk-parallel-item::before {content: \"\";position: absolute;border-left: 1px solid gray;box-sizing: border-box;top: 0;bottom: 0;left: 50%;z-index: -1;}#sk-container-id-3 div.sk-parallel-item {display: flex;flex-direction: column;z-index: 1;position: relative;background-color: white;}#sk-container-id-3 div.sk-parallel-item:first-child::after {align-self: flex-end;width: 50%;}#sk-container-id-3 div.sk-parallel-item:last-child::after {align-self: flex-start;width: 50%;}#sk-container-id-3 div.sk-parallel-item:only-child::after {width: 0;}#sk-container-id-3 div.sk-dashed-wrapped {border: 1px dashed gray;margin: 0 0.4em 0.5em 0.4em;box-sizing: border-box;padding-bottom: 0.4em;background-color: white;}#sk-container-id-3 div.sk-label label {font-family: monospace;font-weight: bold;display: inline-block;line-height: 1.2em;}#sk-container-id-3 div.sk-label-container {text-align: center;}#sk-container-id-3 div.sk-container {/* jupyter's `normalize.less` sets `[hidden] { display: none; }` but bootstrap.min.css set `[hidden] { display: none !important; }` so we also need the `!important` here to be able to override the default hidden behavior on the sphinx rendered scikit-learn.org. See: https://github.com/scikit-learn/scikit-learn/issues/21755 */display: inline-block !important;position: relative;}#sk-container-id-3 div.sk-text-repr-fallback {display: none;}</style><div id=\"sk-container-id-3\" class=\"sk-top-container\"><div class=\"sk-text-repr-fallback\"><pre>RandomForestRegressor(max_features=4, n_estimators=10, random_state=0)</pre><b>In a Jupyter environment, please rerun this cell to show the HTML representation or trust the notebook. <br />On GitHub, the HTML representation is unable to render, please try loading this page with nbviewer.org.</b></div><div class=\"sk-container\" hidden><div class=\"sk-item\"><div class=\"sk-estimator sk-toggleable\"><input class=\"sk-toggleable__control sk-hidden--visually\" id=\"sk-estimator-id-3\" type=\"checkbox\" checked><label for=\"sk-estimator-id-3\" class=\"sk-toggleable__label sk-toggleable__label-arrow\">RandomForestRegressor</label><div class=\"sk-toggleable__content\"><pre>RandomForestRegressor(max_features=4, n_estimators=10, random_state=0)</pre></div></div></div></div></div>"
      ],
      "text/plain": [
       "RandomForestRegressor(max_features=4, n_estimators=10, random_state=0)"
      ]
     },
     "execution_count": 22,
     "metadata": {},
     "output_type": "execute_result"
    }
   ],
   "source": [
    "RF_reg.fit(X_train, Y_train)"
   ]
  },
  {
   "cell_type": "code",
   "execution_count": 23,
   "metadata": {},
   "outputs": [
    {
     "data": {
      "text/plain": [
       "0.928067387913473"
      ]
     },
     "execution_count": 23,
     "metadata": {},
     "output_type": "execute_result"
    }
   ],
   "source": [
    "RF_model.score(feature,target)"
   ]
  },
  {
   "cell_type": "code",
   "execution_count": 25,
   "metadata": {},
   "outputs": [
    {
     "data": {
      "text/plain": [
       "array([3127. , 3098. , 2902.5, 3958.4, 3493.8, 2988.7, 3657.2, 2891.7,\n",
       "       3071.9, 3828.2, 2995.7, 2847.8, 3365.4, 3300.8, 3411.4, 3146.7,\n",
       "       2985.8, 3598.2, 3659.4, 3649.9, 2896.9, 3252.2, 3272.4, 3002.8,\n",
       "       3378.6, 3162.6, 3303.6, 3616.5, 3252.2, 3156.8, 2920.8, 3832.7,\n",
       "       3665.5, 3306.3, 3519.5, 2902. ])"
      ]
     },
     "execution_count": 25,
     "metadata": {},
     "output_type": "execute_result"
    }
   ],
   "source": [
    "y_pred = RF_reg.predict(X_test)\n",
    "y_pred"
   ]
  },
  {
   "cell_type": "code",
   "execution_count": 26,
   "metadata": {},
   "outputs": [],
   "source": [
    "score_list = cross_val_score(RF_model, feature, target)"
   ]
  },
  {
   "cell_type": "code",
   "execution_count": 29,
   "metadata": {},
   "outputs": [
    {
     "name": "stdout",
     "output_type": "stream",
     "text": [
      "cross-val-score \n",
      "[-0.13973334  0.20290982  0.27665526  0.38187271  0.28432313]\n",
      "cross-val-score.mean \n",
      "0.201\n"
     ]
    }
   ],
   "source": [
    "print('cross-val-score \\n{}'.format(score_list))\n",
    "print('cross-val-score.mean \\n{:.3f}'.format(score_list.mean()))"
   ]
  },
  {
   "cell_type": "markdown",
   "metadata": {},
   "source": [
    "# 일별"
   ]
  },
  {
   "cell_type": "code",
   "execution_count": 8,
   "metadata": {},
   "outputs": [
    {
     "data": {
      "text/html": [
       "<div>\n",
       "<style scoped>\n",
       "    .dataframe tbody tr th:only-of-type {\n",
       "        vertical-align: middle;\n",
       "    }\n",
       "\n",
       "    .dataframe tbody tr th {\n",
       "        vertical-align: top;\n",
       "    }\n",
       "\n",
       "    .dataframe thead th {\n",
       "        text-align: right;\n",
       "    }\n",
       "</style>\n",
       "<table border=\"1\" class=\"dataframe\">\n",
       "  <thead>\n",
       "    <tr style=\"text-align: right;\">\n",
       "      <th></th>\n",
       "      <th>price</th>\n",
       "      <th>병아리(원/수)</th>\n",
       "      <th>oil_avg</th>\n",
       "      <th>소_소비자가_int</th>\n",
       "      <th>돼지_소비자가_int</th>\n",
       "      <th>미국기준금리</th>\n",
       "      <th>한국기준금리</th>\n",
       "    </tr>\n",
       "  </thead>\n",
       "  <tbody>\n",
       "    <tr>\n",
       "      <th>0</th>\n",
       "      <td>4047</td>\n",
       "      <td>400</td>\n",
       "      <td>76.703333</td>\n",
       "      <td>111396</td>\n",
       "      <td>25177</td>\n",
       "      <td>0.25</td>\n",
       "      <td>1.00</td>\n",
       "    </tr>\n",
       "    <tr>\n",
       "      <th>1</th>\n",
       "      <td>4047</td>\n",
       "      <td>400</td>\n",
       "      <td>77.850000</td>\n",
       "      <td>111396</td>\n",
       "      <td>25411</td>\n",
       "      <td>0.25</td>\n",
       "      <td>1.00</td>\n",
       "    </tr>\n",
       "    <tr>\n",
       "      <th>2</th>\n",
       "      <td>3895</td>\n",
       "      <td>400</td>\n",
       "      <td>77.566667</td>\n",
       "      <td>112019</td>\n",
       "      <td>26891</td>\n",
       "      <td>0.25</td>\n",
       "      <td>1.00</td>\n",
       "    </tr>\n",
       "    <tr>\n",
       "      <th>3</th>\n",
       "      <td>3895</td>\n",
       "      <td>400</td>\n",
       "      <td>77.130000</td>\n",
       "      <td>110865</td>\n",
       "      <td>26936</td>\n",
       "      <td>0.25</td>\n",
       "      <td>1.00</td>\n",
       "    </tr>\n",
       "    <tr>\n",
       "      <th>4</th>\n",
       "      <td>3743</td>\n",
       "      <td>400</td>\n",
       "      <td>76.530000</td>\n",
       "      <td>109225</td>\n",
       "      <td>26993</td>\n",
       "      <td>0.25</td>\n",
       "      <td>1.00</td>\n",
       "    </tr>\n",
       "    <tr>\n",
       "      <th>...</th>\n",
       "      <td>...</td>\n",
       "      <td>...</td>\n",
       "      <td>...</td>\n",
       "      <td>...</td>\n",
       "      <td>...</td>\n",
       "      <td>...</td>\n",
       "      <td>...</td>\n",
       "    </tr>\n",
       "    <tr>\n",
       "      <th>2991</th>\n",
       "      <td>3166</td>\n",
       "      <td>200</td>\n",
       "      <td>108.180000</td>\n",
       "      <td>58380</td>\n",
       "      <td>19570</td>\n",
       "      <td>0.75</td>\n",
       "      <td>3.25</td>\n",
       "    </tr>\n",
       "    <tr>\n",
       "      <th>2992</th>\n",
       "      <td>3118</td>\n",
       "      <td>200</td>\n",
       "      <td>108.260000</td>\n",
       "      <td>58870</td>\n",
       "      <td>19830</td>\n",
       "      <td>0.75</td>\n",
       "      <td>3.25</td>\n",
       "    </tr>\n",
       "    <tr>\n",
       "      <th>2993</th>\n",
       "      <td>3118</td>\n",
       "      <td>300</td>\n",
       "      <td>108.470000</td>\n",
       "      <td>61700</td>\n",
       "      <td>20300</td>\n",
       "      <td>0.75</td>\n",
       "      <td>3.25</td>\n",
       "    </tr>\n",
       "    <tr>\n",
       "      <th>2994</th>\n",
       "      <td>3118</td>\n",
       "      <td>300</td>\n",
       "      <td>107.000000</td>\n",
       "      <td>61030</td>\n",
       "      <td>20330</td>\n",
       "      <td>0.75</td>\n",
       "      <td>3.25</td>\n",
       "    </tr>\n",
       "    <tr>\n",
       "      <th>2995</th>\n",
       "      <td>3118</td>\n",
       "      <td>300</td>\n",
       "      <td>105.000000</td>\n",
       "      <td>61140</td>\n",
       "      <td>20320</td>\n",
       "      <td>0.75</td>\n",
       "      <td>3.25</td>\n",
       "    </tr>\n",
       "  </tbody>\n",
       "</table>\n",
       "<p>2996 rows × 7 columns</p>\n",
       "</div>"
      ],
      "text/plain": [
       "      price  병아리(원/수)     oil_avg  소_소비자가_int  돼지_소비자가_int  미국기준금리  한국기준금리\n",
       "0      4047       400   76.703333      111396        25177    0.25    1.00\n",
       "1      4047       400   77.850000      111396        25411    0.25    1.00\n",
       "2      3895       400   77.566667      112019        26891    0.25    1.00\n",
       "3      3895       400   77.130000      110865        26936    0.25    1.00\n",
       "4      3743       400   76.530000      109225        26993    0.25    1.00\n",
       "...     ...       ...         ...         ...          ...     ...     ...\n",
       "2991   3166       200  108.180000       58380        19570    0.75    3.25\n",
       "2992   3118       200  108.260000       58870        19830    0.75    3.25\n",
       "2993   3118       300  108.470000       61700        20300    0.75    3.25\n",
       "2994   3118       300  107.000000       61030        20330    0.75    3.25\n",
       "2995   3118       300  105.000000       61140        20320    0.75    3.25\n",
       "\n",
       "[2996 rows x 7 columns]"
      ]
     },
     "execution_count": 8,
     "metadata": {},
     "output_type": "execute_result"
    }
   ],
   "source": [
    "df = pd.read_csv('../pre_data/일별_통합_모델링용.csv',index_col=0)\n",
    "df = df.drop(columns='date')\n",
    "df"
   ]
  },
  {
   "cell_type": "code",
   "execution_count": 9,
   "metadata": {},
   "outputs": [],
   "source": [
    "df = pd.read_csv('../pre_data/일별_통합_모델링용.csv',index_col=0)\n",
    "df = df.drop(columns='date')\n",
    "\n",
    "# feature, target 분리\n",
    "feature = df.drop(columns='price')\n",
    "target = df['price']\n",
    "\n",
    "# train, test 분리\n",
    "X_train, X_test, Y_train, Y_test = train_test_split(feature, target, test_size = 0.2, random_state = 2022)"
   ]
  },
  {
   "cell_type": "code",
   "execution_count": 6,
   "metadata": {},
   "outputs": [
    {
     "data": {
      "text/html": [
       "<style>#sk-container-id-1 {color: black;background-color: white;}#sk-container-id-1 pre{padding: 0;}#sk-container-id-1 div.sk-toggleable {background-color: white;}#sk-container-id-1 label.sk-toggleable__label {cursor: pointer;display: block;width: 100%;margin-bottom: 0;padding: 0.3em;box-sizing: border-box;text-align: center;}#sk-container-id-1 label.sk-toggleable__label-arrow:before {content: \"▸\";float: left;margin-right: 0.25em;color: #696969;}#sk-container-id-1 label.sk-toggleable__label-arrow:hover:before {color: black;}#sk-container-id-1 div.sk-estimator:hover label.sk-toggleable__label-arrow:before {color: black;}#sk-container-id-1 div.sk-toggleable__content {max-height: 0;max-width: 0;overflow: hidden;text-align: left;background-color: #f0f8ff;}#sk-container-id-1 div.sk-toggleable__content pre {margin: 0.2em;color: black;border-radius: 0.25em;background-color: #f0f8ff;}#sk-container-id-1 input.sk-toggleable__control:checked~div.sk-toggleable__content {max-height: 200px;max-width: 100%;overflow: auto;}#sk-container-id-1 input.sk-toggleable__control:checked~label.sk-toggleable__label-arrow:before {content: \"▾\";}#sk-container-id-1 div.sk-estimator input.sk-toggleable__control:checked~label.sk-toggleable__label {background-color: #d4ebff;}#sk-container-id-1 div.sk-label input.sk-toggleable__control:checked~label.sk-toggleable__label {background-color: #d4ebff;}#sk-container-id-1 input.sk-hidden--visually {border: 0;clip: rect(1px 1px 1px 1px);clip: rect(1px, 1px, 1px, 1px);height: 1px;margin: -1px;overflow: hidden;padding: 0;position: absolute;width: 1px;}#sk-container-id-1 div.sk-estimator {font-family: monospace;background-color: #f0f8ff;border: 1px dotted black;border-radius: 0.25em;box-sizing: border-box;margin-bottom: 0.5em;}#sk-container-id-1 div.sk-estimator:hover {background-color: #d4ebff;}#sk-container-id-1 div.sk-parallel-item::after {content: \"\";width: 100%;border-bottom: 1px solid gray;flex-grow: 1;}#sk-container-id-1 div.sk-label:hover label.sk-toggleable__label {background-color: #d4ebff;}#sk-container-id-1 div.sk-serial::before {content: \"\";position: absolute;border-left: 1px solid gray;box-sizing: border-box;top: 0;bottom: 0;left: 50%;z-index: 0;}#sk-container-id-1 div.sk-serial {display: flex;flex-direction: column;align-items: center;background-color: white;padding-right: 0.2em;padding-left: 0.2em;position: relative;}#sk-container-id-1 div.sk-item {position: relative;z-index: 1;}#sk-container-id-1 div.sk-parallel {display: flex;align-items: stretch;justify-content: center;background-color: white;position: relative;}#sk-container-id-1 div.sk-item::before, #sk-container-id-1 div.sk-parallel-item::before {content: \"\";position: absolute;border-left: 1px solid gray;box-sizing: border-box;top: 0;bottom: 0;left: 50%;z-index: -1;}#sk-container-id-1 div.sk-parallel-item {display: flex;flex-direction: column;z-index: 1;position: relative;background-color: white;}#sk-container-id-1 div.sk-parallel-item:first-child::after {align-self: flex-end;width: 50%;}#sk-container-id-1 div.sk-parallel-item:last-child::after {align-self: flex-start;width: 50%;}#sk-container-id-1 div.sk-parallel-item:only-child::after {width: 0;}#sk-container-id-1 div.sk-dashed-wrapped {border: 1px dashed gray;margin: 0 0.4em 0.5em 0.4em;box-sizing: border-box;padding-bottom: 0.4em;background-color: white;}#sk-container-id-1 div.sk-label label {font-family: monospace;font-weight: bold;display: inline-block;line-height: 1.2em;}#sk-container-id-1 div.sk-label-container {text-align: center;}#sk-container-id-1 div.sk-container {/* jupyter's `normalize.less` sets `[hidden] { display: none; }` but bootstrap.min.css set `[hidden] { display: none !important; }` so we also need the `!important` here to be able to override the default hidden behavior on the sphinx rendered scikit-learn.org. See: https://github.com/scikit-learn/scikit-learn/issues/21755 */display: inline-block !important;position: relative;}#sk-container-id-1 div.sk-text-repr-fallback {display: none;}</style><div id=\"sk-container-id-1\" class=\"sk-top-container\"><div class=\"sk-text-repr-fallback\"><pre>RandomForestRegressor()</pre><b>In a Jupyter environment, please rerun this cell to show the HTML representation or trust the notebook. <br />On GitHub, the HTML representation is unable to render, please try loading this page with nbviewer.org.</b></div><div class=\"sk-container\" hidden><div class=\"sk-item\"><div class=\"sk-estimator sk-toggleable\"><input class=\"sk-toggleable__control sk-hidden--visually\" id=\"sk-estimator-id-1\" type=\"checkbox\" checked><label for=\"sk-estimator-id-1\" class=\"sk-toggleable__label sk-toggleable__label-arrow\">RandomForestRegressor</label><div class=\"sk-toggleable__content\"><pre>RandomForestRegressor()</pre></div></div></div></div></div>"
      ],
      "text/plain": [
       "RandomForestRegressor()"
      ]
     },
     "execution_count": 6,
     "metadata": {},
     "output_type": "execute_result"
    }
   ],
   "source": [
    "RF_model = RandomForestRegressor()\n",
    "RF_model.fit(feature,target)"
   ]
  },
  {
   "cell_type": "code",
   "execution_count": 10,
   "metadata": {},
   "outputs": [],
   "source": [
    "n_estimators = 10 \n",
    "\n",
    "max_features = 4 \n",
    "\n",
    "RF_reg = RandomForestRegressor(n_estimators=n_estimators, random_state=0, max_features=max_features) \n",
    "\n",
    "# n_estimators 는 tree의 개수를 의미 \n",
    "\n",
    "RF_reg.fit(X_train, Y_train) # x_train['RM'].values.reshape(-1, 1) \n",
    "\n",
    "# 결과 예측하기 \n",
    "\n",
    "y_pred = RF_reg.predict(X_test) # x_test['RM'].values.reshape(-1, 1) "
   ]
  },
  {
   "cell_type": "code",
   "execution_count": 11,
   "metadata": {},
   "outputs": [
    {
     "data": {
      "text/plain": [
       "array([3126.6       , 3000.8       , 3041.8       , 3089.6       ,\n",
       "       3381.9       , 2493.7       , 2615.3       , 3093.6       ,\n",
       "       3279.4       , 2676.        , 2985.8       , 2859.2       ,\n",
       "       3244.9       , 3118.3       , 2800.4       , 2959.4       ,\n",
       "       2889.6       , 3870.8       , 2785.2       , 3940.1       ,\n",
       "       3260.2       , 3122.6       , 2821.4       , 3838.2       ,\n",
       "       3311.8       , 4047.        , 3737.        , 2691.5       ,\n",
       "       3096.8       , 4047.        , 3803.7       , 2915.2       ,\n",
       "       3029.        , 3529.2       , 3100.8       , 3584.        ,\n",
       "       3401.7       , 4133.6       , 3618.6       , 3255.3       ,\n",
       "       2493.7       , 2871.        , 3331.1       , 3202.725     ,\n",
       "       3636.        , 2842.9       , 2630.6       , 3062.3       ,\n",
       "       2569.5       , 4194.        , 3181.        , 2621.8       ,\n",
       "       3407.        , 3635.55      , 3303.4       , 2417.7       ,\n",
       "       3198.1       , 4274.5       , 2630.4       , 3402.4       ,\n",
       "       3231.        , 3102.2       , 2735.37857143, 3286.9       ,\n",
       "       3171.06666667, 3218.3       , 3849.3       , 4006.7       ,\n",
       "       2376.8       , 3528.4       , 3432.4       , 3452.6       ,\n",
       "       3653.6       , 3182.        , 3640.9       , 2984.93333333,\n",
       "       3260.2       , 3544.3       , 3452.3       , 2950.5       ,\n",
       "       4547.5       , 3326.        , 2472.6       , 2600.1       ,\n",
       "       2769.1       , 3369.6       , 2901.9       , 3346.9       ,\n",
       "       3133.1       , 3714.2       , 3325.        , 3393.7       ,\n",
       "       3889.        , 3455.2       , 3453.2       , 2922.6       ,\n",
       "       2676.        , 3437.9       , 3264.4       , 4194.        ,\n",
       "       3168.4       , 3384.2       , 3263.9       , 3364.4       ,\n",
       "       3285.3       , 2828.3       , 2924.        , 2949.9       ,\n",
       "       3382.83333333, 3574.2       , 3683.8       , 3711.9       ,\n",
       "       4040.6       , 3518.9       , 3705.3       , 2766.9       ,\n",
       "       2975.6       , 3546.7       , 2924.8       , 2818.        ,\n",
       "       2737.1       , 3011.5       , 2996.2       , 3381.9       ,\n",
       "       2684.        , 3529.2       , 2493.6       , 3770.8       ,\n",
       "       3452.9       , 2691.3       , 2645.8       , 2719.4       ,\n",
       "       2740.92      , 3011.4       , 4505.        , 2904.9       ,\n",
       "       3239.8       , 3549.2       , 2766.7       , 3120.1       ,\n",
       "       3089.8       , 2387.2       , 2829.        , 3095.        ,\n",
       "       4163.5       , 2193.7       , 3380.        , 3331.1       ,\n",
       "       3915.3       , 3503.7       , 2990.6       , 3501.3       ,\n",
       "       2842.1       , 2772.96666667, 2772.96666667, 3150.6       ,\n",
       "       3364.1       , 3117.1       , 3130.6       , 3395.7       ,\n",
       "       2682.1       , 3055.5       , 3889.        , 2818.1       ,\n",
       "       3864.4       , 2740.76666667, 3584.        , 3515.3       ,\n",
       "       3884.6       , 3971.2       , 3491.        , 2639.3       ,\n",
       "       3620.9       , 2757.2       , 3981.4       , 2783.        ,\n",
       "       4032.3       , 2710.8       , 2721.6       , 2782.8       ,\n",
       "       3286.        , 2676.3       , 2620.3       , 2886.7       ,\n",
       "       2861.7       , 2965.8       , 2687.6       , 3638.        ,\n",
       "       4078.1       , 3551.3       , 3341.03333333, 3925.6       ,\n",
       "       3545.2       , 3459.9       , 4026.3       , 2661.        ,\n",
       "       3455.6       , 2944.2       , 2335.93333333, 2112.7       ,\n",
       "       2597.8       , 3912.5       , 3209.8       , 2818.55      ,\n",
       "       2690.5       , 2772.96666667, 2904.8       , 3542.        ,\n",
       "       3204.1       , 3179.3       , 3270.6       , 2965.7       ,\n",
       "       4194.        , 2691.3       , 4041.        , 2705.9       ,\n",
       "       3584.        , 3268.8       , 2904.8       , 3178.9       ,\n",
       "       2877.        , 3059.4       , 3316.1       , 3059.5       ,\n",
       "       2528.9       , 3249.3       , 3296.        , 2818.5       ,\n",
       "       2915.3       , 4194.        , 3430.3       , 3051.        ,\n",
       "       3346.5       , 2954.5       , 2857.5       , 2264.9       ,\n",
       "       2677.4       , 3587.95      , 3194.3       , 2965.8       ,\n",
       "       2614.2       , 3638.        , 2889.9       , 3030.6       ,\n",
       "       3277.1       , 3986.2       , 2783.        , 4154.2       ,\n",
       "       3348.1       , 3405.2       , 3691.2       , 2905.        ,\n",
       "       3538.9       , 4394.7       , 2524.        , 2387.2       ,\n",
       "       3142.9       , 4047.        , 2874.6       , 3056.5       ,\n",
       "       2919.2       , 2842.9       , 3270.7       , 2249.5       ,\n",
       "       2864.1       , 3780.2       , 3157.5       , 3453.4       ,\n",
       "       2970.5       , 3071.4       , 2845.3       , 3105.1       ,\n",
       "       2630.8       , 2644.3       , 3539.1       , 3396.7       ,\n",
       "       4047.        , 3179.1       , 3605.4       , 3399.1       ,\n",
       "       3530.        , 3682.        , 3651.        , 3893.3       ,\n",
       "       2915.1       , 3638.        , 3334.        , 3056.4       ,\n",
       "       2676.        , 3438.        , 3431.22      , 4129.2       ,\n",
       "       4047.        , 3334.        , 2554.4       , 3638.        ,\n",
       "       2899.2       , 2563.2       , 2988.7       , 3224.        ,\n",
       "       3348.6       , 3576.2       , 2816.7       , 3267.25      ,\n",
       "       3203.        , 4047.6       , 2807.86666667, 3041.8       ,\n",
       "       2989.2       , 3286.        , 3682.        , 2821.1       ,\n",
       "       2768.        , 3443.75      , 2676.        , 3742.5       ,\n",
       "       3574.2       , 2929.8       , 2889.9       , 3118.2       ,\n",
       "       4041.        , 3133.3       , 2492.1       , 2624.2       ,\n",
       "       3170.9       , 3530.        , 3011.4       , 3376.2       ,\n",
       "       3233.32      , 2755.23333333, 3122.2       , 3348.6       ,\n",
       "       3334.        , 2480.8       , 3285.5       , 4242.96666667,\n",
       "       4047.        , 3925.2       , 4037.        , 3163.6       ,\n",
       "       4042.        , 3031.5       , 3389.9       , 3346.8       ,\n",
       "       3889.        , 3493.5       , 3316.4       , 3324.        ,\n",
       "       3788.1       , 3432.        , 3422.4       , 2833.6       ,\n",
       "       3559.9       , 2903.9       , 3742.3       , 3955.7       ,\n",
       "       2909.86666667, 2632.8       , 4194.        , 3593.8       ,\n",
       "       3801.5       , 2813.3       , 2786.4       , 4352.6       ,\n",
       "       2539.5       , 2981.1       , 3395.13333333, 2940.1       ,\n",
       "       2859.1       , 2696.1       , 2825.6       , 2828.8       ,\n",
       "       3778.2       , 3298.8       , 3775.7       , 3300.5       ,\n",
       "       3285.1       , 2678.6       , 3286.        , 2838.5       ,\n",
       "       3986.1       , 3866.8       , 2463.2       , 3358.94      ,\n",
       "       3181.        , 2859.2       , 2859.3       , 4194.        ,\n",
       "       2889.8       , 3668.5       , 3782.8       , 2837.3       ,\n",
       "       3071.275     , 2929.2       , 2734.9       , 3638.        ,\n",
       "       3574.2       , 2600.2       , 3168.        , 2904.8       ,\n",
       "       3232.6       , 3112.6       , 3033.6       , 3055.5       ,\n",
       "       2386.9       , 3617.1       , 2940.36666667, 2569.7       ,\n",
       "       3270.5       , 3092.3       , 2838.7       , 2950.5       ,\n",
       "       2805.3       , 3300.3       , 3972.23333333, 3800.7       ,\n",
       "       3026.7       , 3913.3       , 3623.        , 2735.37857143,\n",
       "       4215.1       , 2691.5       , 2754.6       , 2939.8       ,\n",
       "       2767.8       , 3603.15      , 3193.4       , 3529.1       ,\n",
       "       3530.        , 2493.7       , 2889.8       , 3697.2       ,\n",
       "       3650.8       , 4011.2       , 4194.        , 3376.8       ,\n",
       "       3417.175     , 2923.2       , 3832.9       , 3088.96666667,\n",
       "       3968.7       , 2848.6       , 3194.1       , 4366.6       ,\n",
       "       3054.6       , 3363.56666667, 2899.2       , 3416.7       ,\n",
       "       3675.        , 4098.1       , 3031.5       , 2948.1       ,\n",
       "       3859.2       , 3300.8       , 2874.6       , 4122.8       ,\n",
       "       3643.66666667, 2755.        , 3546.        , 3346.6       ,\n",
       "       2517.1       , 3760.4       , 3007.4       , 3511.7       ,\n",
       "       3775.4       , 3171.2       , 3607.6       , 2874.4       ,\n",
       "       2955.3       , 3177.5       , 3590.5       , 3658.4       ,\n",
       "       3264.7       , 3074.6       , 3209.2       , 3556.7       ,\n",
       "       2666.4       , 3409.1       , 3100.4       , 2889.6       ,\n",
       "       3483.6       , 3113.3       , 3706.6       , 3674.9       ,\n",
       "       3182.        , 3316.4       , 3209.7       , 4377.6       ,\n",
       "       3231.        , 3517.1       , 3424.86666667, 3102.6       ,\n",
       "       3317.3       , 2913.        , 3401.4       , 3286.        ,\n",
       "       3745.7       , 4056.6       , 3315.2       , 3264.4       ,\n",
       "       3301.2       , 3599.6       , 2996.2       , 3996.        ,\n",
       "       2706.1       , 3637.03333333, 3127.6       , 3209.5       ,\n",
       "       2639.3       , 2958.5       , 2892.2       , 3388.6       ,\n",
       "       3968.5       , 3571.2       , 3374.57333333, 2770.8       ,\n",
       "       2818.        , 3820.7       , 2710.8       , 3894.9       ,\n",
       "       3638.        , 2987.7       , 3102.7       , 2952.        ,\n",
       "       3267.4       , 2645.9       , 3010.6       , 3241.3       ,\n",
       "       4346.        , 3420.4       , 2694.        , 3828.6       ,\n",
       "       2981.        , 3969.36666667, 3242.5       , 2980.3       ,\n",
       "       3729.5       , 2942.5       , 3351.86666667, 3346.8       ,\n",
       "       2645.8       , 3317.3       , 3820.7       , 4064.4       ,\n",
       "       2980.4       , 2770.3       , 4041.6       , 3590.        ,\n",
       "       3194.3       , 3401.4       , 3863.8       , 2913.        ,\n",
       "       2884.4       , 2691.3       , 2877.        , 3638.        ,\n",
       "       3026.7       , 2889.6       , 3260.2       , 3190.7       ,\n",
       "       3414.5       , 3214.2       , 3564.3       , 2954.5       ,\n",
       "       3270.7       , 3743.        , 2986.7       , 4037.        ,\n",
       "       2842.1       , 3726.13333333, 2655.8       , 4056.6       ,\n",
       "       2975.        , 3335.5       , 2613.1       , 3905.3       ,\n",
       "       4015.        , 3524.2       , 3286.        , 3168.8       ,\n",
       "       3301.2       , 3006.        , 2981.        , 3168.1       ,\n",
       "       3636.        , 2539.2       , 2702.3       , 2965.9       ,\n",
       "       2635.2       , 2975.        , 3727.3       , 3143.1       ,\n",
       "       3279.        , 3011.5       , 3244.6       , 2924.9       ,\n",
       "       2861.7       , 3620.9       , 3524.        , 2859.2       ])"
      ]
     },
     "execution_count": 11,
     "metadata": {},
     "output_type": "execute_result"
    }
   ],
   "source": [
    "y_pred"
   ]
  },
  {
   "cell_type": "code",
   "execution_count": 12,
   "metadata": {},
   "outputs": [
    {
     "name": "stdout",
     "output_type": "stream",
     "text": [
      "0.9868184917183987\n"
     ]
    }
   ],
   "source": [
    "print(RF_model.score(feature,target))"
   ]
  },
  {
   "cell_type": "code",
   "execution_count": 14,
   "metadata": {},
   "outputs": [
    {
     "name": "stdout",
     "output_type": "stream",
     "text": [
      "cross-val-score \n",
      "[ 0.10045995 -0.14098961  0.05873069 -1.63600561 -0.144764  ]\n",
      "cross-val-score.mean \n",
      "-0.353\n"
     ]
    }
   ],
   "source": [
    "score_list = cross_val_score(RF_model, feature, target)\n",
    "print('cross-val-score \\n{}'.format(score_list))\n",
    "print('cross-val-score.mean \\n{:.3f}'.format(score_list.mean()))"
   ]
  },
  {
   "cell_type": "code",
   "execution_count": null,
   "metadata": {},
   "outputs": [],
   "source": []
  }
 ],
 "metadata": {
  "kernelspec": {
   "display_name": "Python 3.10.8 64-bit (microsoft store)",
   "language": "python",
   "name": "python3"
  },
  "language_info": {
   "codemirror_mode": {
    "name": "ipython",
    "version": 3
   },
   "file_extension": ".py",
   "mimetype": "text/x-python",
   "name": "python",
   "nbconvert_exporter": "python",
   "pygments_lexer": "ipython3",
   "version": "3.10.8"
  },
  "orig_nbformat": 4,
  "vscode": {
   "interpreter": {
    "hash": "8bf0d51478355d2251941b3b98616086516a0eddd7c72ee47a3371765770709a"
   }
  }
 },
 "nbformat": 4,
 "nbformat_minor": 2
}
