{
 "cells": [
  {
   "cell_type": "code",
   "execution_count": 2,
   "metadata": {},
   "outputs": [],
   "source": [
    "import pandas as pd\n",
    "import numpy as np\n",
    "import seaborn as sns\n",
    "import matplotlib.pyplot as plt"
   ]
  },
  {
   "cell_type": "code",
   "execution_count": 6,
   "metadata": {},
   "outputs": [],
   "source": [

    "#  사료값\n",
    "feed = pd.read_csv('./data/사료값.csv')\n",
    "# datetime으로 파일변경\n",
    "feed['date'] = pd.to_datetime(feed['date'])\n",
    "# feed datatype int로 변경\n",
    "feed = feed.astype({'feed':'int'})\n",
    "# feed column feedprice로 이름변경\n",
    "feed.rename(columns = {'feed':'feedprice'},inplace=True)\n",
    "feed.to_csv('월별_사료값.csv')"

   ]
  },
  {
   "cell_type": "code",

   "execution_count": 2,

   "metadata": {},
   "outputs": [],
   "source": [
    "#도축현황\n",

    "chicken = pd.read_csv('./data/도축현황.csv')\n",

    "chicken['date'] = pd.to_datetime(chicken['date'])\n",
    "# 도축현황을 str에서 int로 바꿈\n",
    "chicken['도축'] =  chicken['도축'].str.replace(',','')\n",
    "chicken['도축'] = pd.to_numeric(chicken['도축'])\n",

    "chicken.to_csv('월별_사료값.csv')\n"


   ]
  },
  {
   "cell_type": "code",
   "execution_count": null,
   "metadata": {},
   "outputs": [],
   "source": []
  }
 ],
 "metadata": {
  "kernelspec": {
   "display_name": "Python 3.10.8 64-bit (microsoft store)",
   "language": "python",
   "name": "python3"
  },
  "language_info": {
   "codemirror_mode": {
    "name": "ipython",
    "version": 3
   },
   "file_extension": ".py",
   "mimetype": "text/x-python",
   "name": "python",
   "nbconvert_exporter": "python",
   "pygments_lexer": "ipython3",
   "version": "3.10.8"
  },
  "orig_nbformat": 4,
  "vscode": {
   "interpreter": {
    "hash": "8bf0d51478355d2251941b3b98616086516a0eddd7c72ee47a3371765770709a"
   }
  }
 },
 "nbformat": 4,
 "nbformat_minor": 2
}
